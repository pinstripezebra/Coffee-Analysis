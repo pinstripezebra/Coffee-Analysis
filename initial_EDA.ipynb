{
 "cells": [
  {
   "cell_type": "code",
   "execution_count": null,
   "metadata": {},
   "outputs": [],
   "source": [
    "import pandas as pd\n",
    "import numpy as np\n",
    "import os"
   ]
  },
  {
   "cell_type": "markdown",
   "metadata": {},
   "source": [
    "### Loading and Pivoting"
   ]
  },
  {
   "cell_type": "code",
   "execution_count": null,
   "metadata": {},
   "outputs": [],
   "source": [
    "base_path = os.path.dirname(__file__) + '//Data//'\n",
    "\n",
    "# Loading data\n",
    "domestic_consumption = pd.read_csv(base_path + 'Coffee_domestic_consumption.csv')\n",
    "coffee_production = pd.read_csv(base_path + 'Coffee_production.csv')\n",
    "coffee_inventory = pd.read_csv(base_path + 'Coffee_green_coffee_inventorie.csv')\n",
    "\n",
    "# Pivoting\n",
    "domestic_consumption = pd.wide_to_long(domestic_consumption, [\"Consumption\"], i=\"country\", j=\"year\")"
   ]
  }
 ],
 "metadata": {
  "language_info": {
   "name": "python"
  }
 },
 "nbformat": 4,
 "nbformat_minor": 2
}
