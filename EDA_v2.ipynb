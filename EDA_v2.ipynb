{
 "cells": [
  {
   "cell_type": "code",
   "execution_count": 55,
   "metadata": {},
   "outputs": [],
   "source": [
    "import pandas as pd\n",
    "import numpy as np\n",
    "import plotly.express as px\n",
    "import os"
   ]
  },
  {
   "cell_type": "markdown",
   "metadata": {},
   "source": [
    "### Creating Export Side Dataframe"
   ]
  },
  {
   "cell_type": "code",
   "execution_count": 69,
   "metadata": {},
   "outputs": [
    {
     "data": {
      "text/html": [
       "<div>\n",
       "<style scoped>\n",
       "    .dataframe tbody tr th:only-of-type {\n",
       "        vertical-align: middle;\n",
       "    }\n",
       "\n",
       "    .dataframe tbody tr th {\n",
       "        vertical-align: top;\n",
       "    }\n",
       "\n",
       "    .dataframe thead th {\n",
       "        text-align: right;\n",
       "    }\n",
       "</style>\n",
       "<table border=\"1\" class=\"dataframe\">\n",
       "  <thead>\n",
       "    <tr style=\"text-align: right;\">\n",
       "      <th></th>\n",
       "      <th>Country</th>\n",
       "      <th>Year</th>\n",
       "      <th>Total Production</th>\n",
       "    </tr>\n",
       "  </thead>\n",
       "  <tbody>\n",
       "    <tr>\n",
       "      <th>0</th>\n",
       "      <td>Angola</td>\n",
       "      <td>1990/91</td>\n",
       "      <td>3000000.0</td>\n",
       "    </tr>\n",
       "    <tr>\n",
       "      <th>1</th>\n",
       "      <td>Angola</td>\n",
       "      <td>1991/92</td>\n",
       "      <td>4740000.0</td>\n",
       "    </tr>\n",
       "    <tr>\n",
       "      <th>2</th>\n",
       "      <td>Angola</td>\n",
       "      <td>1992/93</td>\n",
       "      <td>4680000.0</td>\n",
       "    </tr>\n",
       "    <tr>\n",
       "      <th>3</th>\n",
       "      <td>Angola</td>\n",
       "      <td>1993/94</td>\n",
       "      <td>1980000.0</td>\n",
       "    </tr>\n",
       "    <tr>\n",
       "      <th>4</th>\n",
       "      <td>Angola</td>\n",
       "      <td>1994/95</td>\n",
       "      <td>4620000.0</td>\n",
       "    </tr>\n",
       "    <tr>\n",
       "      <th>5</th>\n",
       "      <td>Angola</td>\n",
       "      <td>1995/96</td>\n",
       "      <td>3720000.0</td>\n",
       "    </tr>\n",
       "    <tr>\n",
       "      <th>6</th>\n",
       "      <td>Angola</td>\n",
       "      <td>1996/97</td>\n",
       "      <td>4260000.0</td>\n",
       "    </tr>\n",
       "    <tr>\n",
       "      <th>7</th>\n",
       "      <td>Angola</td>\n",
       "      <td>1997/98</td>\n",
       "      <td>3840000.0</td>\n",
       "    </tr>\n",
       "    <tr>\n",
       "      <th>8</th>\n",
       "      <td>Angola</td>\n",
       "      <td>1998/99</td>\n",
       "      <td>5100000.0</td>\n",
       "    </tr>\n",
       "    <tr>\n",
       "      <th>9</th>\n",
       "      <td>Angola</td>\n",
       "      <td>1999/00</td>\n",
       "      <td>3300000.0</td>\n",
       "    </tr>\n",
       "  </tbody>\n",
       "</table>\n",
       "</div>"
      ],
      "text/plain": [
       "  Country     Year Total Production\n",
       "0  Angola  1990/91        3000000.0\n",
       "1  Angola  1991/92        4740000.0\n",
       "2  Angola  1992/93        4680000.0\n",
       "3  Angola  1993/94        1980000.0\n",
       "4  Angola  1994/95        4620000.0\n",
       "5  Angola  1995/96        3720000.0\n",
       "6  Angola  1996/97        4260000.0\n",
       "7  Angola  1997/98        3840000.0\n",
       "8  Angola  1998/99        5100000.0\n",
       "9  Angola  1999/00        3300000.0"
      ]
     },
     "execution_count": 69,
     "metadata": {},
     "output_type": "execute_result"
    }
   ],
   "source": [
    "# Getting the current working directory\n",
    "base_path = os.getcwd() + '//Data//'\n",
    "\n",
    "# Loading data and grouping to exclude coffee_type\n",
    "domestic_consumption = pd.read_csv(base_path + 'Coffee_domestic_consumption.csv').drop(columns = ['Total_domestic_consumption'])\n",
    "coffee_production = pd.read_csv(base_path + 'Coffee_production.csv').drop(columns = ['Total_production'])\n",
    "coffee_export = pd.read_csv(base_path + 'Coffee_export.csv').drop(columns = ['Total_export'])\n",
    "\n",
    "# Pivoting dataframes long and grouping to exclude coffee type since this isnt captured in export dataset\n",
    "domestic_consumption = pd.melt(domestic_consumption, id_vars=['Country']).rename(columns = {'variable': 'Year',\n",
    "                                                                                                           'value': 'Domestic Consumption'}).groupby(['Country', 'Year']).sum().reset_index()\n",
    "coffee_production = pd.melt(coffee_production, id_vars=['Country']).rename(columns = {'variable': 'Year',\n",
    "                                                                                                           'value': 'Total Production'}).groupby(['Country', 'Year']).sum().reset_index()\n",
    "coffee_export = pd.melt(coffee_export, id_vars=['Country']).rename(columns = {'variable': 'Year','value': 'Total Export'}).groupby(['Country', 'Year']).sum().reset_index()\n",
    "\n",
    "# Merging\n",
    "export_df = domestic_consumption.merge(coffee_production, left_on=['Country',  'Year'], \n",
    "                                    right_on=['Country',  'Year'])\n",
    "export_df['Year'] = export_df['Year'].str[:4]\n",
    "export_df = export_df.merge(coffee_export, left_on=['Country',  'Year'], \n",
    "                                    right_on=['Country', 'Year'])\n",
    "\n",
    "# Pivoting long\n",
    "export_long_df = export_df.melt(id_vars=['Country', 'Year'])\n",
    "export_long_df.head(10)\n",
    "coffee_production.head(10)\n"
   ]
  },
  {
   "cell_type": "markdown",
   "metadata": {},
   "source": [
    "#### Visualizing Production Side Dataframe"
   ]
  },
  {
   "cell_type": "code",
   "execution_count": 59,
   "metadata": {},
   "outputs": [
    {
     "data": {
      "application/vnd.plotly.v1+json": {
       "config": {
        "plotlyServerURL": "https://plot.ly"
       },
       "data": [
        {
         "alignmentgroup": "True",
         "hovertemplate": "variable=Total Production<br>Country=%{x}<br>value=%{y}<extra></extra>",
         "legendgroup": "Total Production",
         "marker": {
          "color": "#636efa",
          "pattern": {
           "shape": ""
          }
         },
         "name": "Total Production",
         "offsetgroup": "Total Production",
         "orientation": "v",
         "showlegend": true,
         "textposition": "auto",
         "type": "bar",
         "x": [
          "Brazil",
          "Viet Nam",
          "Colombia",
          "Indonesia",
          "Ethiopia",
          "India",
          "Mexico",
          "Guatemala",
          "Honduras",
          "Uganda",
          "Peru",
          "Côte d'Ivoire",
          "Costa Rica",
          "El Salvador",
          "Nicaragua",
          "Venezuela",
          "Ecuador",
          "Papua New Guinea",
          "Kenya",
          "Thailand",
          "Tanzania",
          "Cameroon",
          "Democratic Republic of Congo",
          "Madagascar",
          "Dominican Republic",
          "Philippines",
          "Haiti",
          "Burundi",
          "Lao People's Democratic Republic",
          "Rwanda",
          "Guinea",
          "Cuba",
          "Togo",
          "Panama",
          "Bolivia (Plurinational State of)",
          "Yemen",
          "Central African Republic",
          "Zimbabwe",
          "Sierra Leone",
          "Malawi",
          "Angola",
          "Nigeria",
          "Zambia",
          "Sri Lanka",
          "Timor-Leste",
          "Ghana",
          "Paraguay",
          "Jamaica",
          "Trinidad & Tobago",
          "Liberia",
          "Guyana",
          "Congo",
          "Gabon",
          "Nepal",
          "Equatorial Guinea"
         ],
         "xaxis": "x",
         "y": [
          75082980000,
          28803180000,
          21598620000,
          15404880000,
          8669520000,
          8222220000,
          7853520000,
          7020540000,
          6672720000,
          5919480000,
          5317620000,
          4761420000,
          3596700000,
          2820900000,
          2749380000,
          1992780000,
          1900380000,
          1803120000,
          1768320000,
          1674000000,
          1474680000,
          1358640000,
          1051080000,
          1045560000,
          909540000,
          890700000,
          698880000,
          623640000,
          568080000,
          567540000,
          482460000,
          359160000,
          281400000,
          280980000,
          207000000,
          190920000,
          184020000,
          132120000,
          87180000,
          82260000,
          82080000,
          81900000,
          76800000,
          73860000,
          68640000,
          63660000,
          62220000,
          54000000,
          25740000,
          14880000,
          10800000,
          6900000,
          2700000,
          1440000,
          1080000
         ],
         "yaxis": "y"
        },
        {
         "alignmentgroup": "True",
         "hovertemplate": "variable=Total Export<br>Country=%{x}<br>value=%{y}<extra></extra>",
         "legendgroup": "Total Export",
         "marker": {
          "color": "#EF553B",
          "pattern": {
           "shape": ""
          }
         },
         "name": "Total Export",
         "offsetgroup": "Total Export",
         "orientation": "v",
         "showlegend": true,
         "textposition": "auto",
         "type": "bar",
         "x": [
          "Brazil",
          "Viet Nam",
          "Colombia",
          "Indonesia",
          "India",
          "Guatemala",
          "Honduras",
          "Uganda",
          "Mexico",
          "Peru",
          "Côte d'Ivoire",
          "Ethiopia",
          "Costa Rica",
          "El Salvador",
          "Nicaragua",
          "Ecuador",
          "Papua New Guinea",
          "Kenya",
          "Tanzania",
          "Cameroon",
          "Thailand",
          "Democratic Republic of Congo",
          "Burundi",
          "Rwanda",
          "Madagascar",
          "Lao People's Democratic Republic",
          "Guinea",
          "Dominican Republic",
          "Togo",
          "Venezuela",
          "Central African Republic",
          "Panama",
          "Bolivia (Plurinational State of)",
          "Zimbabwe",
          "Cuba",
          "Haiti",
          "Yemen",
          "Sierra Leone",
          "Malawi",
          "Zambia",
          "Timor-Leste",
          "Ghana",
          "Philippines",
          "Paraguay",
          "Angola",
          "Jamaica",
          "Sri Lanka",
          "Nigeria",
          "Liberia",
          "Trinidad & Tobago",
          "Congo",
          "Guyana",
          "Gabon",
          "Nepal",
          "Equatorial Guinea"
         ],
         "xaxis": "x",
         "y": [
          33807709056,
          24924480000,
          19878480000,
          10607940000,
          6933960000,
          6464340000,
          5964840000,
          5632200000,
          5628000000,
          4903920000,
          4721640000,
          4163340000,
          2991840000,
          2716980000,
          2388360000,
          1971720000,
          1814100000,
          1771380000,
          1432320000,
          1399920000,
          970620000,
          775560000,
          646200000,
          578700000,
          504120000,
          457620000,
          397140000,
          316080000,
          291420000,
          241260000,
          170700000,
          161520000,
          137460000,
          136080000,
          111720000,
          108060000,
          101220000,
          90060000,
          83340000,
          76260000,
          68040000,
          53640000,
          52440000,
          46740000,
          43320000,
          35220000,
          16020000,
          11400000,
          7680000,
          6480000,
          2400000,
          2400000,
          1800000,
          1560000,
          1500000
         ],
         "yaxis": "y"
        },
        {
         "alignmentgroup": "True",
         "hovertemplate": "variable=Domestic Consumption<br>Country=%{x}<br>value=%{y}<extra></extra>",
         "legendgroup": "Domestic Consumption",
         "marker": {
          "color": "#00cc96",
          "pattern": {
           "shape": ""
          }
         },
         "name": "Domestic Consumption",
         "offsetgroup": "Domestic Consumption",
         "orientation": "v",
         "showlegend": true,
         "textposition": "auto",
         "type": "bar",
         "x": [
          "Brazil",
          "Indonesia",
          "Ethiopia",
          "Mexico",
          "Philippines",
          "Colombia",
          "Venezuela",
          "India",
          "Viet Nam",
          "Thailand",
          "Costa Rica",
          "Dominican Republic",
          "Haiti",
          "Guatemala",
          "Madagascar",
          "Honduras",
          "El Salvador",
          "Côte d'Ivoire",
          "Peru",
          "Cuba",
          "Ecuador",
          "Democratic Republic of Congo",
          "Nicaragua",
          "Uganda",
          "Lao People's Democratic Republic",
          "Cameroon",
          "Panama",
          "Yemen",
          "Kenya",
          "Guinea",
          "Tanzania",
          "Bolivia (Plurinational State of)",
          "Nigeria",
          "Sri Lanka",
          "Angola",
          "Paraguay",
          "Central African Republic",
          "Trinidad & Tobago",
          "Jamaica",
          "Sierra Leone",
          "Ghana",
          "Guyana",
          "Liberia",
          "Zimbabwe",
          "Congo",
          "Papua New Guinea",
          "Burundi",
          "Malawi",
          "Togo",
          "Rwanda",
          "Gabon",
          "Zambia",
          "Timor-Leste",
          "Equatorial Guinea",
          "Nepal"
         ],
         "xaxis": "x",
         "y": [
          27824700000,
          4920480000,
          4536540000,
          3189660000,
          2807280000,
          2536776384,
          2386067999,
          2093460000,
          1920928320,
          1248600000,
          665335200,
          642823380,
          600600000,
          590880000,
          588705960,
          471850680,
          417242040,
          410260140,
          402000000,
          384006000,
          381540000,
          359880000,
          299700300,
          284816400,
          157980000,
          143450940,
          122916960,
          121620000,
          95190000,
          86730000,
          76425060,
          75180000,
          70740000,
          58300020,
          46500000,
          35100000,
          24794400,
          21090000,
          18688020,
          10080000,
          9970800,
          9203040,
          8640000,
          8595960,
          5360040,
          3608400,
          3412020,
          2340000,
          2167620,
          2139960,
          1123140,
          991920,
          294000,
          0,
          0
         ],
         "yaxis": "y"
        }
       ],
       "layout": {
        "barmode": "relative",
        "legend": {
         "title": {
          "text": "variable"
         },
         "tracegroupgap": 0
        },
        "template": {
         "data": {
          "bar": [
           {
            "error_x": {
             "color": "#2a3f5f"
            },
            "error_y": {
             "color": "#2a3f5f"
            },
            "marker": {
             "line": {
              "color": "#E5ECF6",
              "width": 0.5
             },
             "pattern": {
              "fillmode": "overlay",
              "size": 10,
              "solidity": 0.2
             }
            },
            "type": "bar"
           }
          ],
          "barpolar": [
           {
            "marker": {
             "line": {
              "color": "#E5ECF6",
              "width": 0.5
             },
             "pattern": {
              "fillmode": "overlay",
              "size": 10,
              "solidity": 0.2
             }
            },
            "type": "barpolar"
           }
          ],
          "carpet": [
           {
            "aaxis": {
             "endlinecolor": "#2a3f5f",
             "gridcolor": "white",
             "linecolor": "white",
             "minorgridcolor": "white",
             "startlinecolor": "#2a3f5f"
            },
            "baxis": {
             "endlinecolor": "#2a3f5f",
             "gridcolor": "white",
             "linecolor": "white",
             "minorgridcolor": "white",
             "startlinecolor": "#2a3f5f"
            },
            "type": "carpet"
           }
          ],
          "choropleth": [
           {
            "colorbar": {
             "outlinewidth": 0,
             "ticks": ""
            },
            "type": "choropleth"
           }
          ],
          "contour": [
           {
            "colorbar": {
             "outlinewidth": 0,
             "ticks": ""
            },
            "colorscale": [
             [
              0,
              "#0d0887"
             ],
             [
              0.1111111111111111,
              "#46039f"
             ],
             [
              0.2222222222222222,
              "#7201a8"
             ],
             [
              0.3333333333333333,
              "#9c179e"
             ],
             [
              0.4444444444444444,
              "#bd3786"
             ],
             [
              0.5555555555555556,
              "#d8576b"
             ],
             [
              0.6666666666666666,
              "#ed7953"
             ],
             [
              0.7777777777777778,
              "#fb9f3a"
             ],
             [
              0.8888888888888888,
              "#fdca26"
             ],
             [
              1,
              "#f0f921"
             ]
            ],
            "type": "contour"
           }
          ],
          "contourcarpet": [
           {
            "colorbar": {
             "outlinewidth": 0,
             "ticks": ""
            },
            "type": "contourcarpet"
           }
          ],
          "heatmap": [
           {
            "colorbar": {
             "outlinewidth": 0,
             "ticks": ""
            },
            "colorscale": [
             [
              0,
              "#0d0887"
             ],
             [
              0.1111111111111111,
              "#46039f"
             ],
             [
              0.2222222222222222,
              "#7201a8"
             ],
             [
              0.3333333333333333,
              "#9c179e"
             ],
             [
              0.4444444444444444,
              "#bd3786"
             ],
             [
              0.5555555555555556,
              "#d8576b"
             ],
             [
              0.6666666666666666,
              "#ed7953"
             ],
             [
              0.7777777777777778,
              "#fb9f3a"
             ],
             [
              0.8888888888888888,
              "#fdca26"
             ],
             [
              1,
              "#f0f921"
             ]
            ],
            "type": "heatmap"
           }
          ],
          "heatmapgl": [
           {
            "colorbar": {
             "outlinewidth": 0,
             "ticks": ""
            },
            "colorscale": [
             [
              0,
              "#0d0887"
             ],
             [
              0.1111111111111111,
              "#46039f"
             ],
             [
              0.2222222222222222,
              "#7201a8"
             ],
             [
              0.3333333333333333,
              "#9c179e"
             ],
             [
              0.4444444444444444,
              "#bd3786"
             ],
             [
              0.5555555555555556,
              "#d8576b"
             ],
             [
              0.6666666666666666,
              "#ed7953"
             ],
             [
              0.7777777777777778,
              "#fb9f3a"
             ],
             [
              0.8888888888888888,
              "#fdca26"
             ],
             [
              1,
              "#f0f921"
             ]
            ],
            "type": "heatmapgl"
           }
          ],
          "histogram": [
           {
            "marker": {
             "pattern": {
              "fillmode": "overlay",
              "size": 10,
              "solidity": 0.2
             }
            },
            "type": "histogram"
           }
          ],
          "histogram2d": [
           {
            "colorbar": {
             "outlinewidth": 0,
             "ticks": ""
            },
            "colorscale": [
             [
              0,
              "#0d0887"
             ],
             [
              0.1111111111111111,
              "#46039f"
             ],
             [
              0.2222222222222222,
              "#7201a8"
             ],
             [
              0.3333333333333333,
              "#9c179e"
             ],
             [
              0.4444444444444444,
              "#bd3786"
             ],
             [
              0.5555555555555556,
              "#d8576b"
             ],
             [
              0.6666666666666666,
              "#ed7953"
             ],
             [
              0.7777777777777778,
              "#fb9f3a"
             ],
             [
              0.8888888888888888,
              "#fdca26"
             ],
             [
              1,
              "#f0f921"
             ]
            ],
            "type": "histogram2d"
           }
          ],
          "histogram2dcontour": [
           {
            "colorbar": {
             "outlinewidth": 0,
             "ticks": ""
            },
            "colorscale": [
             [
              0,
              "#0d0887"
             ],
             [
              0.1111111111111111,
              "#46039f"
             ],
             [
              0.2222222222222222,
              "#7201a8"
             ],
             [
              0.3333333333333333,
              "#9c179e"
             ],
             [
              0.4444444444444444,
              "#bd3786"
             ],
             [
              0.5555555555555556,
              "#d8576b"
             ],
             [
              0.6666666666666666,
              "#ed7953"
             ],
             [
              0.7777777777777778,
              "#fb9f3a"
             ],
             [
              0.8888888888888888,
              "#fdca26"
             ],
             [
              1,
              "#f0f921"
             ]
            ],
            "type": "histogram2dcontour"
           }
          ],
          "mesh3d": [
           {
            "colorbar": {
             "outlinewidth": 0,
             "ticks": ""
            },
            "type": "mesh3d"
           }
          ],
          "parcoords": [
           {
            "line": {
             "colorbar": {
              "outlinewidth": 0,
              "ticks": ""
             }
            },
            "type": "parcoords"
           }
          ],
          "pie": [
           {
            "automargin": true,
            "type": "pie"
           }
          ],
          "scatter": [
           {
            "fillpattern": {
             "fillmode": "overlay",
             "size": 10,
             "solidity": 0.2
            },
            "type": "scatter"
           }
          ],
          "scatter3d": [
           {
            "line": {
             "colorbar": {
              "outlinewidth": 0,
              "ticks": ""
             }
            },
            "marker": {
             "colorbar": {
              "outlinewidth": 0,
              "ticks": ""
             }
            },
            "type": "scatter3d"
           }
          ],
          "scattercarpet": [
           {
            "marker": {
             "colorbar": {
              "outlinewidth": 0,
              "ticks": ""
             }
            },
            "type": "scattercarpet"
           }
          ],
          "scattergeo": [
           {
            "marker": {
             "colorbar": {
              "outlinewidth": 0,
              "ticks": ""
             }
            },
            "type": "scattergeo"
           }
          ],
          "scattergl": [
           {
            "marker": {
             "colorbar": {
              "outlinewidth": 0,
              "ticks": ""
             }
            },
            "type": "scattergl"
           }
          ],
          "scattermapbox": [
           {
            "marker": {
             "colorbar": {
              "outlinewidth": 0,
              "ticks": ""
             }
            },
            "type": "scattermapbox"
           }
          ],
          "scatterpolar": [
           {
            "marker": {
             "colorbar": {
              "outlinewidth": 0,
              "ticks": ""
             }
            },
            "type": "scatterpolar"
           }
          ],
          "scatterpolargl": [
           {
            "marker": {
             "colorbar": {
              "outlinewidth": 0,
              "ticks": ""
             }
            },
            "type": "scatterpolargl"
           }
          ],
          "scatterternary": [
           {
            "marker": {
             "colorbar": {
              "outlinewidth": 0,
              "ticks": ""
             }
            },
            "type": "scatterternary"
           }
          ],
          "surface": [
           {
            "colorbar": {
             "outlinewidth": 0,
             "ticks": ""
            },
            "colorscale": [
             [
              0,
              "#0d0887"
             ],
             [
              0.1111111111111111,
              "#46039f"
             ],
             [
              0.2222222222222222,
              "#7201a8"
             ],
             [
              0.3333333333333333,
              "#9c179e"
             ],
             [
              0.4444444444444444,
              "#bd3786"
             ],
             [
              0.5555555555555556,
              "#d8576b"
             ],
             [
              0.6666666666666666,
              "#ed7953"
             ],
             [
              0.7777777777777778,
              "#fb9f3a"
             ],
             [
              0.8888888888888888,
              "#fdca26"
             ],
             [
              1,
              "#f0f921"
             ]
            ],
            "type": "surface"
           }
          ],
          "table": [
           {
            "cells": {
             "fill": {
              "color": "#EBF0F8"
             },
             "line": {
              "color": "white"
             }
            },
            "header": {
             "fill": {
              "color": "#C8D4E3"
             },
             "line": {
              "color": "white"
             }
            },
            "type": "table"
           }
          ]
         },
         "layout": {
          "annotationdefaults": {
           "arrowcolor": "#2a3f5f",
           "arrowhead": 0,
           "arrowwidth": 1
          },
          "autotypenumbers": "strict",
          "coloraxis": {
           "colorbar": {
            "outlinewidth": 0,
            "ticks": ""
           }
          },
          "colorscale": {
           "diverging": [
            [
             0,
             "#8e0152"
            ],
            [
             0.1,
             "#c51b7d"
            ],
            [
             0.2,
             "#de77ae"
            ],
            [
             0.3,
             "#f1b6da"
            ],
            [
             0.4,
             "#fde0ef"
            ],
            [
             0.5,
             "#f7f7f7"
            ],
            [
             0.6,
             "#e6f5d0"
            ],
            [
             0.7,
             "#b8e186"
            ],
            [
             0.8,
             "#7fbc41"
            ],
            [
             0.9,
             "#4d9221"
            ],
            [
             1,
             "#276419"
            ]
           ],
           "sequential": [
            [
             0,
             "#0d0887"
            ],
            [
             0.1111111111111111,
             "#46039f"
            ],
            [
             0.2222222222222222,
             "#7201a8"
            ],
            [
             0.3333333333333333,
             "#9c179e"
            ],
            [
             0.4444444444444444,
             "#bd3786"
            ],
            [
             0.5555555555555556,
             "#d8576b"
            ],
            [
             0.6666666666666666,
             "#ed7953"
            ],
            [
             0.7777777777777778,
             "#fb9f3a"
            ],
            [
             0.8888888888888888,
             "#fdca26"
            ],
            [
             1,
             "#f0f921"
            ]
           ],
           "sequentialminus": [
            [
             0,
             "#0d0887"
            ],
            [
             0.1111111111111111,
             "#46039f"
            ],
            [
             0.2222222222222222,
             "#7201a8"
            ],
            [
             0.3333333333333333,
             "#9c179e"
            ],
            [
             0.4444444444444444,
             "#bd3786"
            ],
            [
             0.5555555555555556,
             "#d8576b"
            ],
            [
             0.6666666666666666,
             "#ed7953"
            ],
            [
             0.7777777777777778,
             "#fb9f3a"
            ],
            [
             0.8888888888888888,
             "#fdca26"
            ],
            [
             1,
             "#f0f921"
            ]
           ]
          },
          "colorway": [
           "#636efa",
           "#EF553B",
           "#00cc96",
           "#ab63fa",
           "#FFA15A",
           "#19d3f3",
           "#FF6692",
           "#B6E880",
           "#FF97FF",
           "#FECB52"
          ],
          "font": {
           "color": "#2a3f5f"
          },
          "geo": {
           "bgcolor": "white",
           "lakecolor": "white",
           "landcolor": "#E5ECF6",
           "showlakes": true,
           "showland": true,
           "subunitcolor": "white"
          },
          "hoverlabel": {
           "align": "left"
          },
          "hovermode": "closest",
          "mapbox": {
           "style": "light"
          },
          "paper_bgcolor": "white",
          "plot_bgcolor": "#E5ECF6",
          "polar": {
           "angularaxis": {
            "gridcolor": "white",
            "linecolor": "white",
            "ticks": ""
           },
           "bgcolor": "#E5ECF6",
           "radialaxis": {
            "gridcolor": "white",
            "linecolor": "white",
            "ticks": ""
           }
          },
          "scene": {
           "xaxis": {
            "backgroundcolor": "#E5ECF6",
            "gridcolor": "white",
            "gridwidth": 2,
            "linecolor": "white",
            "showbackground": true,
            "ticks": "",
            "zerolinecolor": "white"
           },
           "yaxis": {
            "backgroundcolor": "#E5ECF6",
            "gridcolor": "white",
            "gridwidth": 2,
            "linecolor": "white",
            "showbackground": true,
            "ticks": "",
            "zerolinecolor": "white"
           },
           "zaxis": {
            "backgroundcolor": "#E5ECF6",
            "gridcolor": "white",
            "gridwidth": 2,
            "linecolor": "white",
            "showbackground": true,
            "ticks": "",
            "zerolinecolor": "white"
           }
          },
          "shapedefaults": {
           "line": {
            "color": "#2a3f5f"
           }
          },
          "ternary": {
           "aaxis": {
            "gridcolor": "white",
            "linecolor": "white",
            "ticks": ""
           },
           "baxis": {
            "gridcolor": "white",
            "linecolor": "white",
            "ticks": ""
           },
           "bgcolor": "#E5ECF6",
           "caxis": {
            "gridcolor": "white",
            "linecolor": "white",
            "ticks": ""
           }
          },
          "title": {
           "x": 0.05
          },
          "xaxis": {
           "automargin": true,
           "gridcolor": "white",
           "linecolor": "white",
           "ticks": "",
           "title": {
            "standoff": 15
           },
           "zerolinecolor": "white",
           "zerolinewidth": 2
          },
          "yaxis": {
           "automargin": true,
           "gridcolor": "white",
           "linecolor": "white",
           "ticks": "",
           "title": {
            "standoff": 15
           },
           "zerolinecolor": "white",
           "zerolinewidth": 2
          }
         }
        },
        "title": {
         "text": "Total Consumption and Production by Country"
        },
        "xaxis": {
         "anchor": "y",
         "domain": [
          0,
          1
         ],
         "title": {
          "text": "Country"
         }
        },
        "yaxis": {
         "anchor": "x",
         "domain": [
          0,
          1
         ],
         "title": {
          "text": "value"
         }
        }
       }
      }
     },
     "metadata": {},
     "output_type": "display_data"
    }
   ],
   "source": [
    "export_agg_df = export_long_df[['Country', 'variable', 'value']].groupby(['Country', 'variable']).sum().reset_index()\n",
    "export_fig = px.bar(export_agg_df.sort_values(by = ['value'], ascending=False), \n",
    "                         x = 'Country', y = 'value',color = 'variable', title = \"Total Consumption and Production by Country\")\n",
    "export_fig.show()"
   ]
  },
  {
   "cell_type": "code",
   "execution_count": 73,
   "metadata": {},
   "outputs": [
    {
     "ename": "TypeError",
     "evalue": "'<' not supported between instances of 'float' and 'str'",
     "output_type": "error",
     "traceback": [
      "\u001b[1;31m---------------------------------------------------------------------------\u001b[0m",
      "\u001b[1;31mTypeError\u001b[0m                                 Traceback (most recent call last)",
      "Cell \u001b[1;32mIn[73], line 2\u001b[0m\n\u001b[0;32m      1\u001b[0m \u001b[38;5;66;03m#print(coffee_production.head(10))\u001b[39;00m\n\u001b[1;32m----> 2\u001b[0m top_producers \u001b[38;5;241m=\u001b[39m \u001b[43mcoffee_production\u001b[49m\u001b[38;5;241;43m.\u001b[39;49m\u001b[43msort_values\u001b[49m\u001b[43m(\u001b[49m\u001b[43mby\u001b[49m\u001b[43m \u001b[49m\u001b[38;5;241;43m=\u001b[39;49m\u001b[43m \u001b[49m\u001b[38;5;124;43m'\u001b[39;49m\u001b[38;5;124;43mTotal Production\u001b[39;49m\u001b[38;5;124;43m'\u001b[39;49m\u001b[43m,\u001b[49m\u001b[43m \u001b[49m\u001b[43mascending\u001b[49m\u001b[38;5;241;43m=\u001b[39;49m\u001b[43m \u001b[49m\u001b[38;5;28;43;01mFalse\u001b[39;49;00m\u001b[43m)\u001b[49m[\u001b[38;5;124m'\u001b[39m\u001b[38;5;124mCountry\u001b[39m\u001b[38;5;124m'\u001b[39m][:\u001b[38;5;241m10\u001b[39m]\n\u001b[0;32m      3\u001b[0m \u001b[38;5;66;03m#top_producers = coffee_production[]\u001b[39;00m\n\u001b[0;32m      4\u001b[0m \u001b[38;5;124;03m'''\u001b[39;00m\n\u001b[0;32m      5\u001b[0m \u001b[38;5;124;03mtime_fig = px.line(merged_aggregated[merged_aggregated['Country'].isin(top_producers)],\u001b[39;00m\n\u001b[0;32m      6\u001b[0m \u001b[38;5;124;03m                            x = 'Year', y = 'value', color = 'Country', line_dash = 'variable', \u001b[39;00m\n\u001b[0;32m      7\u001b[0m \u001b[38;5;124;03m                            title = 'Top 10 Countries Production versus Consumption')\u001b[39;00m\n\u001b[0;32m      8\u001b[0m \u001b[38;5;124;03mtime_fig.show()\u001b[39;00m\n\u001b[0;32m      9\u001b[0m \u001b[38;5;124;03m'''\u001b[39;00m\n",
      "File \u001b[1;32mc:\\Python312\\Lib\\site-packages\\pandas\\core\\frame.py:6955\u001b[0m, in \u001b[0;36mDataFrame.sort_values\u001b[1;34m(self, by, axis, ascending, inplace, kind, na_position, ignore_index, key)\u001b[0m\n\u001b[0;32m   6952\u001b[0m     \u001b[38;5;28;01mif\u001b[39;00m \u001b[38;5;28misinstance\u001b[39m(ascending, (\u001b[38;5;28mtuple\u001b[39m, \u001b[38;5;28mlist\u001b[39m)):\n\u001b[0;32m   6953\u001b[0m         ascending \u001b[38;5;241m=\u001b[39m ascending[\u001b[38;5;241m0\u001b[39m]\n\u001b[1;32m-> 6955\u001b[0m     indexer \u001b[38;5;241m=\u001b[39m \u001b[43mnargsort\u001b[49m\u001b[43m(\u001b[49m\n\u001b[0;32m   6956\u001b[0m \u001b[43m        \u001b[49m\u001b[43mk\u001b[49m\u001b[43m,\u001b[49m\u001b[43m \u001b[49m\u001b[43mkind\u001b[49m\u001b[38;5;241;43m=\u001b[39;49m\u001b[43mkind\u001b[49m\u001b[43m,\u001b[49m\u001b[43m \u001b[49m\u001b[43mascending\u001b[49m\u001b[38;5;241;43m=\u001b[39;49m\u001b[43mascending\u001b[49m\u001b[43m,\u001b[49m\u001b[43m \u001b[49m\u001b[43mna_position\u001b[49m\u001b[38;5;241;43m=\u001b[39;49m\u001b[43mna_position\u001b[49m\u001b[43m,\u001b[49m\u001b[43m \u001b[49m\u001b[43mkey\u001b[49m\u001b[38;5;241;43m=\u001b[39;49m\u001b[43mkey\u001b[49m\n\u001b[0;32m   6957\u001b[0m \u001b[43m    \u001b[49m\u001b[43m)\u001b[49m\n\u001b[0;32m   6958\u001b[0m \u001b[38;5;28;01melse\u001b[39;00m:\n\u001b[0;32m   6959\u001b[0m     \u001b[38;5;28;01mif\u001b[39;00m inplace:\n",
      "File \u001b[1;32mc:\\Python312\\Lib\\site-packages\\pandas\\core\\sorting.py:483\u001b[0m, in \u001b[0;36mnargsort\u001b[1;34m(items, kind, ascending, na_position, key, mask)\u001b[0m\n\u001b[0;32m    481\u001b[0m     non_nans \u001b[38;5;241m=\u001b[39m non_nans[::\u001b[38;5;241m-\u001b[39m\u001b[38;5;241m1\u001b[39m]\n\u001b[0;32m    482\u001b[0m     non_nan_idx \u001b[38;5;241m=\u001b[39m non_nan_idx[::\u001b[38;5;241m-\u001b[39m\u001b[38;5;241m1\u001b[39m]\n\u001b[1;32m--> 483\u001b[0m indexer \u001b[38;5;241m=\u001b[39m non_nan_idx[\u001b[43mnon_nans\u001b[49m\u001b[38;5;241;43m.\u001b[39;49m\u001b[43margsort\u001b[49m\u001b[43m(\u001b[49m\u001b[43mkind\u001b[49m\u001b[38;5;241;43m=\u001b[39;49m\u001b[43mkind\u001b[49m\u001b[43m)\u001b[49m]\n\u001b[0;32m    484\u001b[0m \u001b[38;5;28;01mif\u001b[39;00m \u001b[38;5;129;01mnot\u001b[39;00m ascending:\n\u001b[0;32m    485\u001b[0m     indexer \u001b[38;5;241m=\u001b[39m indexer[::\u001b[38;5;241m-\u001b[39m\u001b[38;5;241m1\u001b[39m]\n",
      "\u001b[1;31mTypeError\u001b[0m: '<' not supported between instances of 'float' and 'str'"
     ]
    }
   ],
   "source": [
    "#print(coffee_production.head(10))\n",
    "top_producers = coffee_production.sort_values(by = 'Total Production', ascending= False)['Country'][:10]\n",
    "#top_producers = coffee_production[]\n",
    "'''\n",
    "time_fig = px.line(merged_aggregated[merged_aggregated['Country'].isin(top_producers)],\n",
    "                            x = 'Year', y = 'value', color = 'Country', line_dash = 'variable', \n",
    "                            title = 'Top 10 Countries Production versus Consumption')\n",
    "time_fig.show()\n",
    "'''\n"
   ]
  },
  {
   "cell_type": "markdown",
   "metadata": {},
   "source": [
    "### Creating Import Side Dataframe"
   ]
  },
  {
   "cell_type": "code",
   "execution_count": null,
   "metadata": {},
   "outputs": [
    {
     "data": {
      "text/html": [
       "<div>\n",
       "<style scoped>\n",
       "    .dataframe tbody tr th:only-of-type {\n",
       "        vertical-align: middle;\n",
       "    }\n",
       "\n",
       "    .dataframe tbody tr th {\n",
       "        vertical-align: top;\n",
       "    }\n",
       "\n",
       "    .dataframe thead th {\n",
       "        text-align: right;\n",
       "    }\n",
       "</style>\n",
       "<table border=\"1\" class=\"dataframe\">\n",
       "  <thead>\n",
       "    <tr style=\"text-align: right;\">\n",
       "      <th></th>\n",
       "      <th>Country</th>\n",
       "      <th>Year</th>\n",
       "      <th>import</th>\n",
       "      <th>import consumption</th>\n",
       "      <th>re-export</th>\n",
       "    </tr>\n",
       "  </thead>\n",
       "  <tbody>\n",
       "    <tr>\n",
       "      <th>0</th>\n",
       "      <td>Austria</td>\n",
       "      <td>1990</td>\n",
       "      <td>112800000</td>\n",
       "      <td>80400000</td>\n",
       "      <td>24900000</td>\n",
       "    </tr>\n",
       "    <tr>\n",
       "      <th>1</th>\n",
       "      <td>Austria</td>\n",
       "      <td>1991</td>\n",
       "      <td>123480000</td>\n",
       "      <td>78120000</td>\n",
       "      <td>45360000</td>\n",
       "    </tr>\n",
       "    <tr>\n",
       "      <th>2</th>\n",
       "      <td>Austria</td>\n",
       "      <td>1992</td>\n",
       "      <td>132360000</td>\n",
       "      <td>72720000</td>\n",
       "      <td>57600000</td>\n",
       "    </tr>\n",
       "    <tr>\n",
       "      <th>3</th>\n",
       "      <td>Austria</td>\n",
       "      <td>1993</td>\n",
       "      <td>110160000</td>\n",
       "      <td>80100000</td>\n",
       "      <td>32100000</td>\n",
       "    </tr>\n",
       "    <tr>\n",
       "      <th>4</th>\n",
       "      <td>Austria</td>\n",
       "      <td>1994</td>\n",
       "      <td>85020000</td>\n",
       "      <td>65160000</td>\n",
       "      <td>22860000</td>\n",
       "    </tr>\n",
       "    <tr>\n",
       "      <th>5</th>\n",
       "      <td>Austria</td>\n",
       "      <td>1995</td>\n",
       "      <td>73860000</td>\n",
       "      <td>60720000</td>\n",
       "      <td>13740000</td>\n",
       "    </tr>\n",
       "    <tr>\n",
       "      <th>6</th>\n",
       "      <td>Austria</td>\n",
       "      <td>1996</td>\n",
       "      <td>72600000</td>\n",
       "      <td>64560000</td>\n",
       "      <td>9780000</td>\n",
       "    </tr>\n",
       "    <tr>\n",
       "      <th>7</th>\n",
       "      <td>Austria</td>\n",
       "      <td>1997</td>\n",
       "      <td>77640000</td>\n",
       "      <td>65220000</td>\n",
       "      <td>13320000</td>\n",
       "    </tr>\n",
       "    <tr>\n",
       "      <th>8</th>\n",
       "      <td>Austria</td>\n",
       "      <td>1998</td>\n",
       "      <td>77580000</td>\n",
       "      <td>66300000</td>\n",
       "      <td>12600000</td>\n",
       "    </tr>\n",
       "    <tr>\n",
       "      <th>9</th>\n",
       "      <td>Austria</td>\n",
       "      <td>1999</td>\n",
       "      <td>90000000</td>\n",
       "      <td>67380000</td>\n",
       "      <td>23880000</td>\n",
       "    </tr>\n",
       "  </tbody>\n",
       "</table>\n",
       "</div>"
      ],
      "text/plain": [
       "      Country  Year     import  import consumption  re-export\n",
       "0     Austria  1990  112800000            80400000   24900000\n",
       "1     Austria  1991  123480000            78120000   45360000\n",
       "2     Austria  1992  132360000            72720000   57600000\n",
       "3     Austria  1993  110160000            80100000   32100000\n",
       "4     Austria  1994   85020000            65160000   22860000\n",
       "5     Austria  1995   73860000            60720000   13740000\n",
       "6     Austria  1996   72600000            64560000    9780000\n",
       "7     Austria  1997   77640000            65220000   13320000\n",
       "8     Austria  1998   77580000            66300000   12600000\n",
       "9     Austria  1999   90000000            67380000   23880000"
      ]
     },
     "execution_count": 47,
     "metadata": {},
     "output_type": "execute_result"
    }
   ],
   "source": [
    "# Loading data and grouping to exclude coffee_type\n",
    "coffee_import = pd.read_csv(base_path + 'Coffee_import.csv').drop(columns = ['Total_import'])\n",
    "coffee_importers_consumption = pd.read_csv(base_path + 'Coffee_importers_consumption.csv').drop(columns = ['Total_import_consumption'])\n",
    "coffee_reexport = pd.read_csv(base_path + 'Coffee_re_export.csv').drop(columns = ['Total_re_export'])\n",
    "\n",
    "# Pivoting dataframes long and \n",
    "coffee_import = pd.melt(coffee_import, id_vars=['Country']).rename(columns = {'variable': 'Year',\n",
    "                                                                                'value': 'import'}).groupby(['Country', 'Year']).sum().reset_index()\n",
    "coffee_importers_consumption = pd.melt(coffee_importers_consumption, id_vars=['Country']).rename(columns = {'variable': 'Year',\n",
    "                                                                                'value': 'import consumption'}).groupby(['Country', 'Year']).sum().reset_index()\n",
    "coffee_reexport = pd.melt(coffee_reexport, id_vars=['Country']).rename(columns = {'variable': 'Year',\n",
    "                                                                                  'value': 're-export'}).groupby(['Country', 'Year']).sum().reset_index()\n",
    "\n",
    "# Merging\n",
    "import_df = coffee_import.merge(coffee_importers_consumption, left_on=['Country',  'Year'], \n",
    "                                    right_on=['Country',  'Year'])\n",
    "import_df['Year'] = import_df['Year'].str[:4]\n",
    "import_df = import_df.merge(coffee_reexport, left_on=['Country',  'Year'], \n",
    "                                    right_on=['Country', 'Year'])\n",
    "import_df.head(10)"
   ]
  },
  {
   "cell_type": "code",
   "execution_count": 70,
   "metadata": {},
   "outputs": [
    {
     "data": {
      "application/vnd.plotly.v1+json": {
       "config": {
        "plotlyServerURL": "https://plot.ly"
       },
       "data": [
        {
         "alignmentgroup": "True",
         "hovertemplate": "variable=Total Production<br>Country=%{x}<br>value=%{y}<extra></extra>",
         "legendgroup": "Total Production",
         "marker": {
          "color": "#636efa",
          "pattern": {
           "shape": ""
          }
         },
         "name": "Total Production",
         "offsetgroup": "Total Production",
         "orientation": "v",
         "showlegend": true,
         "textposition": "auto",
         "type": "bar",
         "x": [
          "Brazil",
          "Viet Nam",
          "Colombia",
          "Indonesia",
          "Ethiopia",
          "India",
          "Mexico",
          "Guatemala",
          "Honduras",
          "Uganda",
          "Peru",
          "Côte d'Ivoire",
          "Costa Rica",
          "El Salvador",
          "Nicaragua",
          "Venezuela",
          "Ecuador",
          "Papua New Guinea",
          "Kenya",
          "Thailand",
          "Tanzania",
          "Cameroon",
          "Democratic Republic of Congo",
          "Madagascar",
          "Dominican Republic",
          "Philippines",
          "Haiti",
          "Burundi",
          "Lao People's Democratic Republic",
          "Rwanda",
          "Guinea",
          "Cuba",
          "Togo",
          "Panama",
          "Bolivia (Plurinational State of)",
          "Yemen",
          "Central African Republic",
          "Zimbabwe",
          "Sierra Leone",
          "Malawi",
          "Angola",
          "Nigeria",
          "Zambia",
          "Sri Lanka",
          "Timor-Leste",
          "Ghana",
          "Paraguay",
          "Jamaica",
          "Trinidad & Tobago",
          "Liberia",
          "Guyana",
          "Congo",
          "Gabon",
          "Nepal",
          "Equatorial Guinea"
         ],
         "xaxis": "x",
         "y": [
          75082980000,
          28803180000,
          21598620000,
          15404880000,
          8669520000,
          8222220000,
          7853520000,
          7020540000,
          6672720000,
          5919480000,
          5317620000,
          4761420000,
          3596700000,
          2820900000,
          2749380000,
          1992780000,
          1900380000,
          1803120000,
          1768320000,
          1674000000,
          1474680000,
          1358640000,
          1051080000,
          1045560000,
          909540000,
          890700000,
          698880000,
          623640000,
          568080000,
          567540000,
          482460000,
          359160000,
          281400000,
          280980000,
          207000000,
          190920000,
          184020000,
          132120000,
          87180000,
          82260000,
          82080000,
          81900000,
          76800000,
          73860000,
          68640000,
          63660000,
          62220000,
          54000000,
          25740000,
          14880000,
          10800000,
          6900000,
          2700000,
          1440000,
          1080000
         ],
         "yaxis": "y"
        },
        {
         "alignmentgroup": "True",
         "hovertemplate": "variable=Total Export<br>Country=%{x}<br>value=%{y}<extra></extra>",
         "legendgroup": "Total Export",
         "marker": {
          "color": "#EF553B",
          "pattern": {
           "shape": ""
          }
         },
         "name": "Total Export",
         "offsetgroup": "Total Export",
         "orientation": "v",
         "showlegend": true,
         "textposition": "auto",
         "type": "bar",
         "x": [
          "Brazil",
          "Viet Nam",
          "Colombia",
          "Indonesia",
          "India",
          "Guatemala",
          "Honduras",
          "Uganda",
          "Mexico",
          "Peru",
          "Côte d'Ivoire",
          "Ethiopia",
          "Costa Rica",
          "El Salvador",
          "Nicaragua",
          "Ecuador",
          "Papua New Guinea",
          "Kenya",
          "Tanzania",
          "Cameroon",
          "Thailand",
          "Democratic Republic of Congo",
          "Burundi",
          "Rwanda",
          "Madagascar",
          "Lao People's Democratic Republic",
          "Guinea",
          "Dominican Republic",
          "Togo",
          "Venezuela",
          "Central African Republic",
          "Panama",
          "Bolivia (Plurinational State of)",
          "Zimbabwe",
          "Cuba",
          "Haiti",
          "Yemen",
          "Sierra Leone",
          "Malawi",
          "Zambia",
          "Timor-Leste",
          "Ghana",
          "Philippines",
          "Paraguay",
          "Angola",
          "Jamaica",
          "Sri Lanka",
          "Nigeria",
          "Liberia",
          "Trinidad & Tobago",
          "Congo",
          "Guyana",
          "Gabon",
          "Nepal",
          "Equatorial Guinea"
         ],
         "xaxis": "x",
         "y": [
          33807709056,
          24924480000,
          19878480000,
          10607940000,
          6933960000,
          6464340000,
          5964840000,
          5632200000,
          5628000000,
          4903920000,
          4721640000,
          4163340000,
          2991840000,
          2716980000,
          2388360000,
          1971720000,
          1814100000,
          1771380000,
          1432320000,
          1399920000,
          970620000,
          775560000,
          646200000,
          578700000,
          504120000,
          457620000,
          397140000,
          316080000,
          291420000,
          241260000,
          170700000,
          161520000,
          137460000,
          136080000,
          111720000,
          108060000,
          101220000,
          90060000,
          83340000,
          76260000,
          68040000,
          53640000,
          52440000,
          46740000,
          43320000,
          35220000,
          16020000,
          11400000,
          7680000,
          6480000,
          2400000,
          2400000,
          1800000,
          1560000,
          1500000
         ],
         "yaxis": "y"
        },
        {
         "alignmentgroup": "True",
         "hovertemplate": "variable=Domestic Consumption<br>Country=%{x}<br>value=%{y}<extra></extra>",
         "legendgroup": "Domestic Consumption",
         "marker": {
          "color": "#00cc96",
          "pattern": {
           "shape": ""
          }
         },
         "name": "Domestic Consumption",
         "offsetgroup": "Domestic Consumption",
         "orientation": "v",
         "showlegend": true,
         "textposition": "auto",
         "type": "bar",
         "x": [
          "Brazil",
          "Indonesia",
          "Ethiopia",
          "Mexico",
          "Philippines",
          "Colombia",
          "Venezuela",
          "India",
          "Viet Nam",
          "Thailand",
          "Costa Rica",
          "Dominican Republic",
          "Haiti",
          "Guatemala",
          "Madagascar",
          "Honduras",
          "El Salvador",
          "Côte d'Ivoire",
          "Peru",
          "Cuba",
          "Ecuador",
          "Democratic Republic of Congo",
          "Nicaragua",
          "Uganda",
          "Lao People's Democratic Republic",
          "Cameroon",
          "Panama",
          "Yemen",
          "Kenya",
          "Guinea",
          "Tanzania",
          "Bolivia (Plurinational State of)",
          "Nigeria",
          "Sri Lanka",
          "Angola",
          "Paraguay",
          "Central African Republic",
          "Trinidad & Tobago",
          "Jamaica",
          "Sierra Leone",
          "Ghana",
          "Guyana",
          "Liberia",
          "Zimbabwe",
          "Congo",
          "Papua New Guinea",
          "Burundi",
          "Malawi",
          "Togo",
          "Rwanda",
          "Gabon",
          "Zambia",
          "Timor-Leste",
          "Equatorial Guinea",
          "Nepal"
         ],
         "xaxis": "x",
         "y": [
          27824700000,
          4920480000,
          4536540000,
          3189660000,
          2807280000,
          2536776384,
          2386067999,
          2093460000,
          1920928320,
          1248600000,
          665335200,
          642823380,
          600600000,
          590880000,
          588705960,
          471850680,
          417242040,
          410260140,
          402000000,
          384006000,
          381540000,
          359880000,
          299700300,
          284816400,
          157980000,
          143450940,
          122916960,
          121620000,
          95190000,
          86730000,
          76425060,
          75180000,
          70740000,
          58300020,
          46500000,
          35100000,
          24794400,
          21090000,
          18688020,
          10080000,
          9970800,
          9203040,
          8640000,
          8595960,
          5360040,
          3608400,
          3412020,
          2340000,
          2167620,
          2139960,
          1123140,
          991920,
          294000,
          0,
          0
         ],
         "yaxis": "y"
        }
       ],
       "layout": {
        "barmode": "relative",
        "legend": {
         "title": {
          "text": "variable"
         },
         "tracegroupgap": 0
        },
        "template": {
         "data": {
          "bar": [
           {
            "error_x": {
             "color": "#2a3f5f"
            },
            "error_y": {
             "color": "#2a3f5f"
            },
            "marker": {
             "line": {
              "color": "#E5ECF6",
              "width": 0.5
             },
             "pattern": {
              "fillmode": "overlay",
              "size": 10,
              "solidity": 0.2
             }
            },
            "type": "bar"
           }
          ],
          "barpolar": [
           {
            "marker": {
             "line": {
              "color": "#E5ECF6",
              "width": 0.5
             },
             "pattern": {
              "fillmode": "overlay",
              "size": 10,
              "solidity": 0.2
             }
            },
            "type": "barpolar"
           }
          ],
          "carpet": [
           {
            "aaxis": {
             "endlinecolor": "#2a3f5f",
             "gridcolor": "white",
             "linecolor": "white",
             "minorgridcolor": "white",
             "startlinecolor": "#2a3f5f"
            },
            "baxis": {
             "endlinecolor": "#2a3f5f",
             "gridcolor": "white",
             "linecolor": "white",
             "minorgridcolor": "white",
             "startlinecolor": "#2a3f5f"
            },
            "type": "carpet"
           }
          ],
          "choropleth": [
           {
            "colorbar": {
             "outlinewidth": 0,
             "ticks": ""
            },
            "type": "choropleth"
           }
          ],
          "contour": [
           {
            "colorbar": {
             "outlinewidth": 0,
             "ticks": ""
            },
            "colorscale": [
             [
              0,
              "#0d0887"
             ],
             [
              0.1111111111111111,
              "#46039f"
             ],
             [
              0.2222222222222222,
              "#7201a8"
             ],
             [
              0.3333333333333333,
              "#9c179e"
             ],
             [
              0.4444444444444444,
              "#bd3786"
             ],
             [
              0.5555555555555556,
              "#d8576b"
             ],
             [
              0.6666666666666666,
              "#ed7953"
             ],
             [
              0.7777777777777778,
              "#fb9f3a"
             ],
             [
              0.8888888888888888,
              "#fdca26"
             ],
             [
              1,
              "#f0f921"
             ]
            ],
            "type": "contour"
           }
          ],
          "contourcarpet": [
           {
            "colorbar": {
             "outlinewidth": 0,
             "ticks": ""
            },
            "type": "contourcarpet"
           }
          ],
          "heatmap": [
           {
            "colorbar": {
             "outlinewidth": 0,
             "ticks": ""
            },
            "colorscale": [
             [
              0,
              "#0d0887"
             ],
             [
              0.1111111111111111,
              "#46039f"
             ],
             [
              0.2222222222222222,
              "#7201a8"
             ],
             [
              0.3333333333333333,
              "#9c179e"
             ],
             [
              0.4444444444444444,
              "#bd3786"
             ],
             [
              0.5555555555555556,
              "#d8576b"
             ],
             [
              0.6666666666666666,
              "#ed7953"
             ],
             [
              0.7777777777777778,
              "#fb9f3a"
             ],
             [
              0.8888888888888888,
              "#fdca26"
             ],
             [
              1,
              "#f0f921"
             ]
            ],
            "type": "heatmap"
           }
          ],
          "heatmapgl": [
           {
            "colorbar": {
             "outlinewidth": 0,
             "ticks": ""
            },
            "colorscale": [
             [
              0,
              "#0d0887"
             ],
             [
              0.1111111111111111,
              "#46039f"
             ],
             [
              0.2222222222222222,
              "#7201a8"
             ],
             [
              0.3333333333333333,
              "#9c179e"
             ],
             [
              0.4444444444444444,
              "#bd3786"
             ],
             [
              0.5555555555555556,
              "#d8576b"
             ],
             [
              0.6666666666666666,
              "#ed7953"
             ],
             [
              0.7777777777777778,
              "#fb9f3a"
             ],
             [
              0.8888888888888888,
              "#fdca26"
             ],
             [
              1,
              "#f0f921"
             ]
            ],
            "type": "heatmapgl"
           }
          ],
          "histogram": [
           {
            "marker": {
             "pattern": {
              "fillmode": "overlay",
              "size": 10,
              "solidity": 0.2
             }
            },
            "type": "histogram"
           }
          ],
          "histogram2d": [
           {
            "colorbar": {
             "outlinewidth": 0,
             "ticks": ""
            },
            "colorscale": [
             [
              0,
              "#0d0887"
             ],
             [
              0.1111111111111111,
              "#46039f"
             ],
             [
              0.2222222222222222,
              "#7201a8"
             ],
             [
              0.3333333333333333,
              "#9c179e"
             ],
             [
              0.4444444444444444,
              "#bd3786"
             ],
             [
              0.5555555555555556,
              "#d8576b"
             ],
             [
              0.6666666666666666,
              "#ed7953"
             ],
             [
              0.7777777777777778,
              "#fb9f3a"
             ],
             [
              0.8888888888888888,
              "#fdca26"
             ],
             [
              1,
              "#f0f921"
             ]
            ],
            "type": "histogram2d"
           }
          ],
          "histogram2dcontour": [
           {
            "colorbar": {
             "outlinewidth": 0,
             "ticks": ""
            },
            "colorscale": [
             [
              0,
              "#0d0887"
             ],
             [
              0.1111111111111111,
              "#46039f"
             ],
             [
              0.2222222222222222,
              "#7201a8"
             ],
             [
              0.3333333333333333,
              "#9c179e"
             ],
             [
              0.4444444444444444,
              "#bd3786"
             ],
             [
              0.5555555555555556,
              "#d8576b"
             ],
             [
              0.6666666666666666,
              "#ed7953"
             ],
             [
              0.7777777777777778,
              "#fb9f3a"
             ],
             [
              0.8888888888888888,
              "#fdca26"
             ],
             [
              1,
              "#f0f921"
             ]
            ],
            "type": "histogram2dcontour"
           }
          ],
          "mesh3d": [
           {
            "colorbar": {
             "outlinewidth": 0,
             "ticks": ""
            },
            "type": "mesh3d"
           }
          ],
          "parcoords": [
           {
            "line": {
             "colorbar": {
              "outlinewidth": 0,
              "ticks": ""
             }
            },
            "type": "parcoords"
           }
          ],
          "pie": [
           {
            "automargin": true,
            "type": "pie"
           }
          ],
          "scatter": [
           {
            "fillpattern": {
             "fillmode": "overlay",
             "size": 10,
             "solidity": 0.2
            },
            "type": "scatter"
           }
          ],
          "scatter3d": [
           {
            "line": {
             "colorbar": {
              "outlinewidth": 0,
              "ticks": ""
             }
            },
            "marker": {
             "colorbar": {
              "outlinewidth": 0,
              "ticks": ""
             }
            },
            "type": "scatter3d"
           }
          ],
          "scattercarpet": [
           {
            "marker": {
             "colorbar": {
              "outlinewidth": 0,
              "ticks": ""
             }
            },
            "type": "scattercarpet"
           }
          ],
          "scattergeo": [
           {
            "marker": {
             "colorbar": {
              "outlinewidth": 0,
              "ticks": ""
             }
            },
            "type": "scattergeo"
           }
          ],
          "scattergl": [
           {
            "marker": {
             "colorbar": {
              "outlinewidth": 0,
              "ticks": ""
             }
            },
            "type": "scattergl"
           }
          ],
          "scattermapbox": [
           {
            "marker": {
             "colorbar": {
              "outlinewidth": 0,
              "ticks": ""
             }
            },
            "type": "scattermapbox"
           }
          ],
          "scatterpolar": [
           {
            "marker": {
             "colorbar": {
              "outlinewidth": 0,
              "ticks": ""
             }
            },
            "type": "scatterpolar"
           }
          ],
          "scatterpolargl": [
           {
            "marker": {
             "colorbar": {
              "outlinewidth": 0,
              "ticks": ""
             }
            },
            "type": "scatterpolargl"
           }
          ],
          "scatterternary": [
           {
            "marker": {
             "colorbar": {
              "outlinewidth": 0,
              "ticks": ""
             }
            },
            "type": "scatterternary"
           }
          ],
          "surface": [
           {
            "colorbar": {
             "outlinewidth": 0,
             "ticks": ""
            },
            "colorscale": [
             [
              0,
              "#0d0887"
             ],
             [
              0.1111111111111111,
              "#46039f"
             ],
             [
              0.2222222222222222,
              "#7201a8"
             ],
             [
              0.3333333333333333,
              "#9c179e"
             ],
             [
              0.4444444444444444,
              "#bd3786"
             ],
             [
              0.5555555555555556,
              "#d8576b"
             ],
             [
              0.6666666666666666,
              "#ed7953"
             ],
             [
              0.7777777777777778,
              "#fb9f3a"
             ],
             [
              0.8888888888888888,
              "#fdca26"
             ],
             [
              1,
              "#f0f921"
             ]
            ],
            "type": "surface"
           }
          ],
          "table": [
           {
            "cells": {
             "fill": {
              "color": "#EBF0F8"
             },
             "line": {
              "color": "white"
             }
            },
            "header": {
             "fill": {
              "color": "#C8D4E3"
             },
             "line": {
              "color": "white"
             }
            },
            "type": "table"
           }
          ]
         },
         "layout": {
          "annotationdefaults": {
           "arrowcolor": "#2a3f5f",
           "arrowhead": 0,
           "arrowwidth": 1
          },
          "autotypenumbers": "strict",
          "coloraxis": {
           "colorbar": {
            "outlinewidth": 0,
            "ticks": ""
           }
          },
          "colorscale": {
           "diverging": [
            [
             0,
             "#8e0152"
            ],
            [
             0.1,
             "#c51b7d"
            ],
            [
             0.2,
             "#de77ae"
            ],
            [
             0.3,
             "#f1b6da"
            ],
            [
             0.4,
             "#fde0ef"
            ],
            [
             0.5,
             "#f7f7f7"
            ],
            [
             0.6,
             "#e6f5d0"
            ],
            [
             0.7,
             "#b8e186"
            ],
            [
             0.8,
             "#7fbc41"
            ],
            [
             0.9,
             "#4d9221"
            ],
            [
             1,
             "#276419"
            ]
           ],
           "sequential": [
            [
             0,
             "#0d0887"
            ],
            [
             0.1111111111111111,
             "#46039f"
            ],
            [
             0.2222222222222222,
             "#7201a8"
            ],
            [
             0.3333333333333333,
             "#9c179e"
            ],
            [
             0.4444444444444444,
             "#bd3786"
            ],
            [
             0.5555555555555556,
             "#d8576b"
            ],
            [
             0.6666666666666666,
             "#ed7953"
            ],
            [
             0.7777777777777778,
             "#fb9f3a"
            ],
            [
             0.8888888888888888,
             "#fdca26"
            ],
            [
             1,
             "#f0f921"
            ]
           ],
           "sequentialminus": [
            [
             0,
             "#0d0887"
            ],
            [
             0.1111111111111111,
             "#46039f"
            ],
            [
             0.2222222222222222,
             "#7201a8"
            ],
            [
             0.3333333333333333,
             "#9c179e"
            ],
            [
             0.4444444444444444,
             "#bd3786"
            ],
            [
             0.5555555555555556,
             "#d8576b"
            ],
            [
             0.6666666666666666,
             "#ed7953"
            ],
            [
             0.7777777777777778,
             "#fb9f3a"
            ],
            [
             0.8888888888888888,
             "#fdca26"
            ],
            [
             1,
             "#f0f921"
            ]
           ]
          },
          "colorway": [
           "#636efa",
           "#EF553B",
           "#00cc96",
           "#ab63fa",
           "#FFA15A",
           "#19d3f3",
           "#FF6692",
           "#B6E880",
           "#FF97FF",
           "#FECB52"
          ],
          "font": {
           "color": "#2a3f5f"
          },
          "geo": {
           "bgcolor": "white",
           "lakecolor": "white",
           "landcolor": "#E5ECF6",
           "showlakes": true,
           "showland": true,
           "subunitcolor": "white"
          },
          "hoverlabel": {
           "align": "left"
          },
          "hovermode": "closest",
          "mapbox": {
           "style": "light"
          },
          "paper_bgcolor": "white",
          "plot_bgcolor": "#E5ECF6",
          "polar": {
           "angularaxis": {
            "gridcolor": "white",
            "linecolor": "white",
            "ticks": ""
           },
           "bgcolor": "#E5ECF6",
           "radialaxis": {
            "gridcolor": "white",
            "linecolor": "white",
            "ticks": ""
           }
          },
          "scene": {
           "xaxis": {
            "backgroundcolor": "#E5ECF6",
            "gridcolor": "white",
            "gridwidth": 2,
            "linecolor": "white",
            "showbackground": true,
            "ticks": "",
            "zerolinecolor": "white"
           },
           "yaxis": {
            "backgroundcolor": "#E5ECF6",
            "gridcolor": "white",
            "gridwidth": 2,
            "linecolor": "white",
            "showbackground": true,
            "ticks": "",
            "zerolinecolor": "white"
           },
           "zaxis": {
            "backgroundcolor": "#E5ECF6",
            "gridcolor": "white",
            "gridwidth": 2,
            "linecolor": "white",
            "showbackground": true,
            "ticks": "",
            "zerolinecolor": "white"
           }
          },
          "shapedefaults": {
           "line": {
            "color": "#2a3f5f"
           }
          },
          "ternary": {
           "aaxis": {
            "gridcolor": "white",
            "linecolor": "white",
            "ticks": ""
           },
           "baxis": {
            "gridcolor": "white",
            "linecolor": "white",
            "ticks": ""
           },
           "bgcolor": "#E5ECF6",
           "caxis": {
            "gridcolor": "white",
            "linecolor": "white",
            "ticks": ""
           }
          },
          "title": {
           "x": 0.05
          },
          "xaxis": {
           "automargin": true,
           "gridcolor": "white",
           "linecolor": "white",
           "ticks": "",
           "title": {
            "standoff": 15
           },
           "zerolinecolor": "white",
           "zerolinewidth": 2
          },
          "yaxis": {
           "automargin": true,
           "gridcolor": "white",
           "linecolor": "white",
           "ticks": "",
           "title": {
            "standoff": 15
           },
           "zerolinecolor": "white",
           "zerolinewidth": 2
          }
         }
        },
        "title": {
         "text": "Total Consumption and Production by Country"
        },
        "xaxis": {
         "anchor": "y",
         "domain": [
          0,
          1
         ],
         "title": {
          "text": "Country"
         }
        },
        "yaxis": {
         "anchor": "x",
         "domain": [
          0,
          1
         ],
         "title": {
          "text": "value"
         }
        }
       }
      }
     },
     "metadata": {},
     "output_type": "display_data"
    }
   ],
   "source": [
    "import_agg_df = export_long_df[['Country', 'variable', 'value']].groupby(['Country', 'variable']).sum().reset_index()\n",
    "import_fig = px.bar(export_agg_df.sort_values(by = ['value'], ascending=False), \n",
    "                         x = 'Country', y = 'value',color = 'variable', title = \"Total Consumption and Production by Country\")\n",
    "import_fig.show()"
   ]
  }
 ],
 "metadata": {
  "kernelspec": {
   "display_name": "Python 3",
   "language": "python",
   "name": "python3"
  },
  "language_info": {
   "codemirror_mode": {
    "name": "ipython",
    "version": 3
   },
   "file_extension": ".py",
   "mimetype": "text/x-python",
   "name": "python",
   "nbconvert_exporter": "python",
   "pygments_lexer": "ipython3",
   "version": "3.12.0"
  }
 },
 "nbformat": 4,
 "nbformat_minor": 2
}
