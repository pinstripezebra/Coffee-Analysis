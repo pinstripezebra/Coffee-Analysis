{
 "cells": [
  {
   "cell_type": "code",
   "execution_count": 42,
   "metadata": {},
   "outputs": [],
   "source": [
    "import pandas as pd\n",
    "import numpy as np\n",
    "import plotly.express as px\n",
    "import os"
   ]
  },
  {
   "cell_type": "markdown",
   "metadata": {},
   "source": [
    "### Creating Export Side Dataframe"
   ]
  },
  {
   "cell_type": "code",
   "execution_count": 43,
   "metadata": {},
   "outputs": [
    {
     "data": {
      "text/html": [
       "<div>\n",
       "<style scoped>\n",
       "    .dataframe tbody tr th:only-of-type {\n",
       "        vertical-align: middle;\n",
       "    }\n",
       "\n",
       "    .dataframe tbody tr th {\n",
       "        vertical-align: top;\n",
       "    }\n",
       "\n",
       "    .dataframe thead th {\n",
       "        text-align: right;\n",
       "    }\n",
       "</style>\n",
       "<table border=\"1\" class=\"dataframe\">\n",
       "  <thead>\n",
       "    <tr style=\"text-align: right;\">\n",
       "      <th></th>\n",
       "      <th>Country</th>\n",
       "      <th>Year</th>\n",
       "      <th>variable</th>\n",
       "      <th>value</th>\n",
       "      <th>Annual % Change</th>\n",
       "      <th>Three Rolling Average</th>\n",
       "    </tr>\n",
       "  </thead>\n",
       "  <tbody>\n",
       "    <tr>\n",
       "      <th>0</th>\n",
       "      <td>Angola</td>\n",
       "      <td>1990</td>\n",
       "      <td>Domestic Consumption</td>\n",
       "      <td>1200000.0</td>\n",
       "      <td>0.000000</td>\n",
       "      <td>0.0</td>\n",
       "    </tr>\n",
       "    <tr>\n",
       "      <th>1</th>\n",
       "      <td>Angola</td>\n",
       "      <td>1991</td>\n",
       "      <td>Domestic Consumption</td>\n",
       "      <td>1800000.0</td>\n",
       "      <td>0.500000</td>\n",
       "      <td>0.0</td>\n",
       "    </tr>\n",
       "    <tr>\n",
       "      <th>2</th>\n",
       "      <td>Angola</td>\n",
       "      <td>1992</td>\n",
       "      <td>Domestic Consumption</td>\n",
       "      <td>2100000.0</td>\n",
       "      <td>0.166667</td>\n",
       "      <td>0.0</td>\n",
       "    </tr>\n",
       "    <tr>\n",
       "      <th>3</th>\n",
       "      <td>Angola</td>\n",
       "      <td>1993</td>\n",
       "      <td>Domestic Consumption</td>\n",
       "      <td>1200000.0</td>\n",
       "      <td>-0.428571</td>\n",
       "      <td>1700000.0</td>\n",
       "    </tr>\n",
       "    <tr>\n",
       "      <th>4</th>\n",
       "      <td>Angola</td>\n",
       "      <td>1994</td>\n",
       "      <td>Domestic Consumption</td>\n",
       "      <td>1500000.0</td>\n",
       "      <td>0.250000</td>\n",
       "      <td>1600000.0</td>\n",
       "    </tr>\n",
       "    <tr>\n",
       "      <th>5</th>\n",
       "      <td>Angola</td>\n",
       "      <td>1995</td>\n",
       "      <td>Domestic Consumption</td>\n",
       "      <td>600000.0</td>\n",
       "      <td>-0.600000</td>\n",
       "      <td>1100000.0</td>\n",
       "    </tr>\n",
       "    <tr>\n",
       "      <th>6</th>\n",
       "      <td>Angola</td>\n",
       "      <td>1996</td>\n",
       "      <td>Domestic Consumption</td>\n",
       "      <td>1200000.0</td>\n",
       "      <td>1.000000</td>\n",
       "      <td>1100000.0</td>\n",
       "    </tr>\n",
       "    <tr>\n",
       "      <th>7</th>\n",
       "      <td>Angola</td>\n",
       "      <td>1997</td>\n",
       "      <td>Domestic Consumption</td>\n",
       "      <td>2400000.0</td>\n",
       "      <td>1.000000</td>\n",
       "      <td>1400000.0</td>\n",
       "    </tr>\n",
       "    <tr>\n",
       "      <th>8</th>\n",
       "      <td>Angola</td>\n",
       "      <td>1998</td>\n",
       "      <td>Domestic Consumption</td>\n",
       "      <td>1800000.0</td>\n",
       "      <td>-0.250000</td>\n",
       "      <td>1800000.0</td>\n",
       "    </tr>\n",
       "    <tr>\n",
       "      <th>9</th>\n",
       "      <td>Angola</td>\n",
       "      <td>1999</td>\n",
       "      <td>Domestic Consumption</td>\n",
       "      <td>1200000.0</td>\n",
       "      <td>-0.333333</td>\n",
       "      <td>1800000.0</td>\n",
       "    </tr>\n",
       "  </tbody>\n",
       "</table>\n",
       "</div>"
      ],
      "text/plain": [
       "  Country  Year              variable      value  Annual % Change  \\\n",
       "0  Angola  1990  Domestic Consumption  1200000.0         0.000000   \n",
       "1  Angola  1991  Domestic Consumption  1800000.0         0.500000   \n",
       "2  Angola  1992  Domestic Consumption  2100000.0         0.166667   \n",
       "3  Angola  1993  Domestic Consumption  1200000.0        -0.428571   \n",
       "4  Angola  1994  Domestic Consumption  1500000.0         0.250000   \n",
       "5  Angola  1995  Domestic Consumption   600000.0        -0.600000   \n",
       "6  Angola  1996  Domestic Consumption  1200000.0         1.000000   \n",
       "7  Angola  1997  Domestic Consumption  2400000.0         1.000000   \n",
       "8  Angola  1998  Domestic Consumption  1800000.0        -0.250000   \n",
       "9  Angola  1999  Domestic Consumption  1200000.0        -0.333333   \n",
       "\n",
       "   Three Rolling Average  \n",
       "0                    0.0  \n",
       "1                    0.0  \n",
       "2                    0.0  \n",
       "3              1700000.0  \n",
       "4              1600000.0  \n",
       "5              1100000.0  \n",
       "6              1100000.0  \n",
       "7              1400000.0  \n",
       "8              1800000.0  \n",
       "9              1800000.0  "
      ]
     },
     "execution_count": 43,
     "metadata": {},
     "output_type": "execute_result"
    }
   ],
   "source": [
    "# Getting the current working directory\n",
    "base_path = os.getcwd() + '//Data//'\n",
    "\n",
    "# Loading data and grouping to exclude coffee_type\n",
    "domestic_consumption = pd.read_csv(base_path + 'Coffee_domestic_consumption.csv').drop(columns = ['Total_domestic_consumption', 'Coffee type'])\n",
    "coffee_production = pd.read_csv(base_path + 'Coffee_production.csv').drop(columns = ['Total_production', 'Coffee type'])\n",
    "coffee_export = pd.read_csv(base_path + 'Coffee_export.csv').drop(columns = ['Total_export'])\n",
    "\n",
    "# Pivoting dataframes long and grouping to exclude coffee type since this isnt captured in export dataset\n",
    "domestic_consumption = pd.melt(domestic_consumption, id_vars=['Country']).rename(columns = {'variable': 'Year',\n",
    "                                                                                                           'value': 'Domestic Consumption'}).groupby(['Country', 'Year']).sum().reset_index()\n",
    "coffee_production = pd.melt(coffee_production, id_vars=['Country']).rename(columns = {'variable': 'Year',\n",
    "                                                                                                           'value': 'Total Production'}).groupby(['Country', 'Year']).sum().reset_index()\n",
    "coffee_export = pd.melt(coffee_export, id_vars=['Country']).rename(columns = {'variable': 'Year','value': 'Total Export'}).groupby(['Country', 'Year']).sum().reset_index()\n",
    "\n",
    "# Merging\n",
    "export_df = domestic_consumption.merge(coffee_production, left_on=['Country',  'Year'], \n",
    "                                    right_on=['Country',  'Year'])\n",
    "export_df['Year'] = export_df['Year'].str[:4]\n",
    "export_df = export_df.merge(coffee_export, left_on=['Country',  'Year'], \n",
    "                                    right_on=['Country', 'Year'])\n",
    "\n",
    "# Pivoting long and adding average change measure\n",
    "export_long_df = export_df.melt(id_vars=['Country', 'Year']).sort_values(by = ['Country', 'variable', 'Year'])\n",
    "export_long_df['Annual % Change'] = export_long_df['value'].pct_change()\n",
    "export_long_df['Annual % Change'] = np.where(export_long_df['Year'] == '1990', 0, export_long_df['Annual % Change'])\n",
    "\n",
    "# Adding rolling 3 year average\n",
    "export_long_df['Three Rolling Average'] = export_long_df['value'].rolling(3).mean()\n",
    "export_long_df['Three Rolling Average'] = np.where(export_long_df['Year'].isin(['1990','1991','1992']) , 0, export_long_df['Three Rolling Average'])\n",
    "export_long_df['Year'] = pd.to_numeric(export_long_df['Year'])\n",
    "export_long_df = export_long_df.fillna(0)\n",
    "\n",
    "export_long_df.head(10)\n"
   ]
  },
  {
   "cell_type": "markdown",
   "metadata": {},
   "source": [
    "#### Visualizing Production Side Dataframe"
   ]
  },
  {
   "cell_type": "code",
   "execution_count": 44,
   "metadata": {},
   "outputs": [
    {
     "data": {
      "application/vnd.plotly.v1+json": {
       "config": {
        "plotlyServerURL": "https://plot.ly"
       },
       "data": [
        {
         "alignmentgroup": "True",
         "hovertemplate": "variable=Total Production<br>Country=%{x}<br>value=%{y}<extra></extra>",
         "legendgroup": "Total Production",
         "marker": {
          "color": "#636efa",
          "pattern": {
           "shape": ""
          }
         },
         "name": "Total Production",
         "offsetgroup": "Total Production",
         "orientation": "v",
         "showlegend": true,
         "textposition": "auto",
         "type": "bar",
         "x": [
          "Brazil",
          "Viet Nam",
          "Colombia",
          "Indonesia",
          "Ethiopia",
          "India",
          "Mexico",
          "Guatemala",
          "Honduras",
          "Uganda",
          "Peru",
          "Côte d'Ivoire",
          "Costa Rica",
          "El Salvador",
          "Nicaragua",
          "Venezuela",
          "Ecuador",
          "Papua New Guinea",
          "Kenya",
          "Thailand",
          "Tanzania",
          "Cameroon",
          "Democratic Republic of Congo",
          "Madagascar",
          "Dominican Republic",
          "Philippines",
          "Haiti",
          "Burundi",
          "Lao People's Democratic Republic",
          "Rwanda",
          "Guinea",
          "Cuba",
          "Togo",
          "Panama",
          "Bolivia (Plurinational State of)",
          "Yemen",
          "Central African Republic",
          "Zimbabwe",
          "Sierra Leone",
          "Malawi",
          "Angola",
          "Nigeria",
          "Zambia",
          "Sri Lanka",
          "Timor-Leste",
          "Ghana",
          "Paraguay",
          "Jamaica",
          "Trinidad & Tobago",
          "Liberia",
          "Guyana",
          "Congo",
          "Gabon",
          "Nepal",
          "Equatorial Guinea"
         ],
         "xaxis": "x",
         "y": [
          75082980000,
          28803180000,
          21598620000,
          15404880000,
          8669520000,
          8222220000,
          7853520000,
          7020540000,
          6672720000,
          5919480000,
          5317620000,
          4761420000,
          3596700000,
          2820900000,
          2749380000,
          1992780000,
          1900380000,
          1803120000,
          1768320000,
          1674000000,
          1474680000,
          1358640000,
          1051080000,
          1045560000,
          909540000,
          890700000,
          698880000,
          623640000,
          568080000,
          567540000,
          482460000,
          359160000,
          281400000,
          280980000,
          207000000,
          190920000,
          184020000,
          132120000,
          87180000,
          82260000,
          82080000,
          81900000,
          76800000,
          73860000,
          68640000,
          63660000,
          62220000,
          54000000,
          25740000,
          14880000,
          10800000,
          6900000,
          2700000,
          1440000,
          1080000
         ],
         "yaxis": "y"
        },
        {
         "alignmentgroup": "True",
         "hovertemplate": "variable=Total Export<br>Country=%{x}<br>value=%{y}<extra></extra>",
         "legendgroup": "Total Export",
         "marker": {
          "color": "#EF553B",
          "pattern": {
           "shape": ""
          }
         },
         "name": "Total Export",
         "offsetgroup": "Total Export",
         "orientation": "v",
         "showlegend": true,
         "textposition": "auto",
         "type": "bar",
         "x": [
          "Brazil",
          "Viet Nam",
          "Colombia",
          "Indonesia",
          "India",
          "Guatemala",
          "Honduras",
          "Uganda",
          "Mexico",
          "Peru",
          "Côte d'Ivoire",
          "Ethiopia",
          "Costa Rica",
          "El Salvador",
          "Nicaragua",
          "Ecuador",
          "Papua New Guinea",
          "Kenya",
          "Tanzania",
          "Cameroon",
          "Thailand",
          "Democratic Republic of Congo",
          "Burundi",
          "Rwanda",
          "Madagascar",
          "Lao People's Democratic Republic",
          "Guinea",
          "Dominican Republic",
          "Togo",
          "Venezuela",
          "Central African Republic",
          "Panama",
          "Bolivia (Plurinational State of)",
          "Zimbabwe",
          "Cuba",
          "Haiti",
          "Yemen",
          "Sierra Leone",
          "Malawi",
          "Zambia",
          "Timor-Leste",
          "Ghana",
          "Philippines",
          "Paraguay",
          "Angola",
          "Jamaica",
          "Sri Lanka",
          "Nigeria",
          "Liberia",
          "Trinidad & Tobago",
          "Congo",
          "Guyana",
          "Gabon",
          "Nepal",
          "Equatorial Guinea"
         ],
         "xaxis": "x",
         "y": [
          33807709056,
          24924480000,
          19878480000,
          10607940000,
          6933960000,
          6464340000,
          5964840000,
          5632200000,
          5628000000,
          4903920000,
          4721640000,
          4163340000,
          2991840000,
          2716980000,
          2388360000,
          1971720000,
          1814100000,
          1771380000,
          1432320000,
          1399920000,
          970620000,
          775560000,
          646200000,
          578700000,
          504120000,
          457620000,
          397140000,
          316080000,
          291420000,
          241260000,
          170700000,
          161520000,
          137460000,
          136080000,
          111720000,
          108060000,
          101220000,
          90060000,
          83340000,
          76260000,
          68040000,
          53640000,
          52440000,
          46740000,
          43320000,
          35220000,
          16020000,
          11400000,
          7680000,
          6480000,
          2400000,
          2400000,
          1800000,
          1560000,
          1500000
         ],
         "yaxis": "y"
        },
        {
         "alignmentgroup": "True",
         "hovertemplate": "variable=Domestic Consumption<br>Country=%{x}<br>value=%{y}<extra></extra>",
         "legendgroup": "Domestic Consumption",
         "marker": {
          "color": "#00cc96",
          "pattern": {
           "shape": ""
          }
         },
         "name": "Domestic Consumption",
         "offsetgroup": "Domestic Consumption",
         "orientation": "v",
         "showlegend": true,
         "textposition": "auto",
         "type": "bar",
         "x": [
          "Brazil",
          "Indonesia",
          "Ethiopia",
          "Mexico",
          "Philippines",
          "Colombia",
          "Venezuela",
          "India",
          "Viet Nam",
          "Thailand",
          "Costa Rica",
          "Dominican Republic",
          "Haiti",
          "Guatemala",
          "Madagascar",
          "Honduras",
          "El Salvador",
          "Côte d'Ivoire",
          "Peru",
          "Cuba",
          "Ecuador",
          "Democratic Republic of Congo",
          "Nicaragua",
          "Uganda",
          "Lao People's Democratic Republic",
          "Cameroon",
          "Panama",
          "Yemen",
          "Kenya",
          "Guinea",
          "Tanzania",
          "Bolivia (Plurinational State of)",
          "Nigeria",
          "Sri Lanka",
          "Angola",
          "Paraguay",
          "Central African Republic",
          "Trinidad & Tobago",
          "Jamaica",
          "Sierra Leone",
          "Ghana",
          "Guyana",
          "Liberia",
          "Zimbabwe",
          "Congo",
          "Papua New Guinea",
          "Burundi",
          "Malawi",
          "Togo",
          "Rwanda",
          "Gabon",
          "Zambia",
          "Timor-Leste",
          "Equatorial Guinea",
          "Nepal"
         ],
         "xaxis": "x",
         "y": [
          27824700000,
          4920480000,
          4536540000,
          3189660000,
          2807280000,
          2536776384,
          2386067999,
          2093460000,
          1920928320,
          1248600000,
          665335200,
          642823380,
          600600000,
          590880000,
          588705960,
          471850680,
          417242040,
          410260140,
          402000000,
          384006000,
          381540000,
          359880000,
          299700300,
          284816400,
          157980000,
          143450940,
          122916960,
          121620000,
          95190000,
          86730000,
          76425060,
          75180000,
          70740000,
          58300020,
          46500000,
          35100000,
          24794400,
          21090000,
          18688020,
          10080000,
          9970800,
          9203040,
          8640000,
          8595960,
          5360040,
          3608400,
          3412020,
          2340000,
          2167620,
          2139960,
          1123140,
          991920,
          294000,
          0,
          0
         ],
         "yaxis": "y"
        }
       ],
       "layout": {
        "barmode": "relative",
        "legend": {
         "title": {
          "text": "variable"
         },
         "tracegroupgap": 0
        },
        "template": {
         "data": {
          "bar": [
           {
            "error_x": {
             "color": "#2a3f5f"
            },
            "error_y": {
             "color": "#2a3f5f"
            },
            "marker": {
             "line": {
              "color": "#E5ECF6",
              "width": 0.5
             },
             "pattern": {
              "fillmode": "overlay",
              "size": 10,
              "solidity": 0.2
             }
            },
            "type": "bar"
           }
          ],
          "barpolar": [
           {
            "marker": {
             "line": {
              "color": "#E5ECF6",
              "width": 0.5
             },
             "pattern": {
              "fillmode": "overlay",
              "size": 10,
              "solidity": 0.2
             }
            },
            "type": "barpolar"
           }
          ],
          "carpet": [
           {
            "aaxis": {
             "endlinecolor": "#2a3f5f",
             "gridcolor": "white",
             "linecolor": "white",
             "minorgridcolor": "white",
             "startlinecolor": "#2a3f5f"
            },
            "baxis": {
             "endlinecolor": "#2a3f5f",
             "gridcolor": "white",
             "linecolor": "white",
             "minorgridcolor": "white",
             "startlinecolor": "#2a3f5f"
            },
            "type": "carpet"
           }
          ],
          "choropleth": [
           {
            "colorbar": {
             "outlinewidth": 0,
             "ticks": ""
            },
            "type": "choropleth"
           }
          ],
          "contour": [
           {
            "colorbar": {
             "outlinewidth": 0,
             "ticks": ""
            },
            "colorscale": [
             [
              0,
              "#0d0887"
             ],
             [
              0.1111111111111111,
              "#46039f"
             ],
             [
              0.2222222222222222,
              "#7201a8"
             ],
             [
              0.3333333333333333,
              "#9c179e"
             ],
             [
              0.4444444444444444,
              "#bd3786"
             ],
             [
              0.5555555555555556,
              "#d8576b"
             ],
             [
              0.6666666666666666,
              "#ed7953"
             ],
             [
              0.7777777777777778,
              "#fb9f3a"
             ],
             [
              0.8888888888888888,
              "#fdca26"
             ],
             [
              1,
              "#f0f921"
             ]
            ],
            "type": "contour"
           }
          ],
          "contourcarpet": [
           {
            "colorbar": {
             "outlinewidth": 0,
             "ticks": ""
            },
            "type": "contourcarpet"
           }
          ],
          "heatmap": [
           {
            "colorbar": {
             "outlinewidth": 0,
             "ticks": ""
            },
            "colorscale": [
             [
              0,
              "#0d0887"
             ],
             [
              0.1111111111111111,
              "#46039f"
             ],
             [
              0.2222222222222222,
              "#7201a8"
             ],
             [
              0.3333333333333333,
              "#9c179e"
             ],
             [
              0.4444444444444444,
              "#bd3786"
             ],
             [
              0.5555555555555556,
              "#d8576b"
             ],
             [
              0.6666666666666666,
              "#ed7953"
             ],
             [
              0.7777777777777778,
              "#fb9f3a"
             ],
             [
              0.8888888888888888,
              "#fdca26"
             ],
             [
              1,
              "#f0f921"
             ]
            ],
            "type": "heatmap"
           }
          ],
          "heatmapgl": [
           {
            "colorbar": {
             "outlinewidth": 0,
             "ticks": ""
            },
            "colorscale": [
             [
              0,
              "#0d0887"
             ],
             [
              0.1111111111111111,
              "#46039f"
             ],
             [
              0.2222222222222222,
              "#7201a8"
             ],
             [
              0.3333333333333333,
              "#9c179e"
             ],
             [
              0.4444444444444444,
              "#bd3786"
             ],
             [
              0.5555555555555556,
              "#d8576b"
             ],
             [
              0.6666666666666666,
              "#ed7953"
             ],
             [
              0.7777777777777778,
              "#fb9f3a"
             ],
             [
              0.8888888888888888,
              "#fdca26"
             ],
             [
              1,
              "#f0f921"
             ]
            ],
            "type": "heatmapgl"
           }
          ],
          "histogram": [
           {
            "marker": {
             "pattern": {
              "fillmode": "overlay",
              "size": 10,
              "solidity": 0.2
             }
            },
            "type": "histogram"
           }
          ],
          "histogram2d": [
           {
            "colorbar": {
             "outlinewidth": 0,
             "ticks": ""
            },
            "colorscale": [
             [
              0,
              "#0d0887"
             ],
             [
              0.1111111111111111,
              "#46039f"
             ],
             [
              0.2222222222222222,
              "#7201a8"
             ],
             [
              0.3333333333333333,
              "#9c179e"
             ],
             [
              0.4444444444444444,
              "#bd3786"
             ],
             [
              0.5555555555555556,
              "#d8576b"
             ],
             [
              0.6666666666666666,
              "#ed7953"
             ],
             [
              0.7777777777777778,
              "#fb9f3a"
             ],
             [
              0.8888888888888888,
              "#fdca26"
             ],
             [
              1,
              "#f0f921"
             ]
            ],
            "type": "histogram2d"
           }
          ],
          "histogram2dcontour": [
           {
            "colorbar": {
             "outlinewidth": 0,
             "ticks": ""
            },
            "colorscale": [
             [
              0,
              "#0d0887"
             ],
             [
              0.1111111111111111,
              "#46039f"
             ],
             [
              0.2222222222222222,
              "#7201a8"
             ],
             [
              0.3333333333333333,
              "#9c179e"
             ],
             [
              0.4444444444444444,
              "#bd3786"
             ],
             [
              0.5555555555555556,
              "#d8576b"
             ],
             [
              0.6666666666666666,
              "#ed7953"
             ],
             [
              0.7777777777777778,
              "#fb9f3a"
             ],
             [
              0.8888888888888888,
              "#fdca26"
             ],
             [
              1,
              "#f0f921"
             ]
            ],
            "type": "histogram2dcontour"
           }
          ],
          "mesh3d": [
           {
            "colorbar": {
             "outlinewidth": 0,
             "ticks": ""
            },
            "type": "mesh3d"
           }
          ],
          "parcoords": [
           {
            "line": {
             "colorbar": {
              "outlinewidth": 0,
              "ticks": ""
             }
            },
            "type": "parcoords"
           }
          ],
          "pie": [
           {
            "automargin": true,
            "type": "pie"
           }
          ],
          "scatter": [
           {
            "fillpattern": {
             "fillmode": "overlay",
             "size": 10,
             "solidity": 0.2
            },
            "type": "scatter"
           }
          ],
          "scatter3d": [
           {
            "line": {
             "colorbar": {
              "outlinewidth": 0,
              "ticks": ""
             }
            },
            "marker": {
             "colorbar": {
              "outlinewidth": 0,
              "ticks": ""
             }
            },
            "type": "scatter3d"
           }
          ],
          "scattercarpet": [
           {
            "marker": {
             "colorbar": {
              "outlinewidth": 0,
              "ticks": ""
             }
            },
            "type": "scattercarpet"
           }
          ],
          "scattergeo": [
           {
            "marker": {
             "colorbar": {
              "outlinewidth": 0,
              "ticks": ""
             }
            },
            "type": "scattergeo"
           }
          ],
          "scattergl": [
           {
            "marker": {
             "colorbar": {
              "outlinewidth": 0,
              "ticks": ""
             }
            },
            "type": "scattergl"
           }
          ],
          "scattermapbox": [
           {
            "marker": {
             "colorbar": {
              "outlinewidth": 0,
              "ticks": ""
             }
            },
            "type": "scattermapbox"
           }
          ],
          "scatterpolar": [
           {
            "marker": {
             "colorbar": {
              "outlinewidth": 0,
              "ticks": ""
             }
            },
            "type": "scatterpolar"
           }
          ],
          "scatterpolargl": [
           {
            "marker": {
             "colorbar": {
              "outlinewidth": 0,
              "ticks": ""
             }
            },
            "type": "scatterpolargl"
           }
          ],
          "scatterternary": [
           {
            "marker": {
             "colorbar": {
              "outlinewidth": 0,
              "ticks": ""
             }
            },
            "type": "scatterternary"
           }
          ],
          "surface": [
           {
            "colorbar": {
             "outlinewidth": 0,
             "ticks": ""
            },
            "colorscale": [
             [
              0,
              "#0d0887"
             ],
             [
              0.1111111111111111,
              "#46039f"
             ],
             [
              0.2222222222222222,
              "#7201a8"
             ],
             [
              0.3333333333333333,
              "#9c179e"
             ],
             [
              0.4444444444444444,
              "#bd3786"
             ],
             [
              0.5555555555555556,
              "#d8576b"
             ],
             [
              0.6666666666666666,
              "#ed7953"
             ],
             [
              0.7777777777777778,
              "#fb9f3a"
             ],
             [
              0.8888888888888888,
              "#fdca26"
             ],
             [
              1,
              "#f0f921"
             ]
            ],
            "type": "surface"
           }
          ],
          "table": [
           {
            "cells": {
             "fill": {
              "color": "#EBF0F8"
             },
             "line": {
              "color": "white"
             }
            },
            "header": {
             "fill": {
              "color": "#C8D4E3"
             },
             "line": {
              "color": "white"
             }
            },
            "type": "table"
           }
          ]
         },
         "layout": {
          "annotationdefaults": {
           "arrowcolor": "#2a3f5f",
           "arrowhead": 0,
           "arrowwidth": 1
          },
          "autotypenumbers": "strict",
          "coloraxis": {
           "colorbar": {
            "outlinewidth": 0,
            "ticks": ""
           }
          },
          "colorscale": {
           "diverging": [
            [
             0,
             "#8e0152"
            ],
            [
             0.1,
             "#c51b7d"
            ],
            [
             0.2,
             "#de77ae"
            ],
            [
             0.3,
             "#f1b6da"
            ],
            [
             0.4,
             "#fde0ef"
            ],
            [
             0.5,
             "#f7f7f7"
            ],
            [
             0.6,
             "#e6f5d0"
            ],
            [
             0.7,
             "#b8e186"
            ],
            [
             0.8,
             "#7fbc41"
            ],
            [
             0.9,
             "#4d9221"
            ],
            [
             1,
             "#276419"
            ]
           ],
           "sequential": [
            [
             0,
             "#0d0887"
            ],
            [
             0.1111111111111111,
             "#46039f"
            ],
            [
             0.2222222222222222,
             "#7201a8"
            ],
            [
             0.3333333333333333,
             "#9c179e"
            ],
            [
             0.4444444444444444,
             "#bd3786"
            ],
            [
             0.5555555555555556,
             "#d8576b"
            ],
            [
             0.6666666666666666,
             "#ed7953"
            ],
            [
             0.7777777777777778,
             "#fb9f3a"
            ],
            [
             0.8888888888888888,
             "#fdca26"
            ],
            [
             1,
             "#f0f921"
            ]
           ],
           "sequentialminus": [
            [
             0,
             "#0d0887"
            ],
            [
             0.1111111111111111,
             "#46039f"
            ],
            [
             0.2222222222222222,
             "#7201a8"
            ],
            [
             0.3333333333333333,
             "#9c179e"
            ],
            [
             0.4444444444444444,
             "#bd3786"
            ],
            [
             0.5555555555555556,
             "#d8576b"
            ],
            [
             0.6666666666666666,
             "#ed7953"
            ],
            [
             0.7777777777777778,
             "#fb9f3a"
            ],
            [
             0.8888888888888888,
             "#fdca26"
            ],
            [
             1,
             "#f0f921"
            ]
           ]
          },
          "colorway": [
           "#636efa",
           "#EF553B",
           "#00cc96",
           "#ab63fa",
           "#FFA15A",
           "#19d3f3",
           "#FF6692",
           "#B6E880",
           "#FF97FF",
           "#FECB52"
          ],
          "font": {
           "color": "#2a3f5f"
          },
          "geo": {
           "bgcolor": "white",
           "lakecolor": "white",
           "landcolor": "#E5ECF6",
           "showlakes": true,
           "showland": true,
           "subunitcolor": "white"
          },
          "hoverlabel": {
           "align": "left"
          },
          "hovermode": "closest",
          "mapbox": {
           "style": "light"
          },
          "paper_bgcolor": "white",
          "plot_bgcolor": "#E5ECF6",
          "polar": {
           "angularaxis": {
            "gridcolor": "white",
            "linecolor": "white",
            "ticks": ""
           },
           "bgcolor": "#E5ECF6",
           "radialaxis": {
            "gridcolor": "white",
            "linecolor": "white",
            "ticks": ""
           }
          },
          "scene": {
           "xaxis": {
            "backgroundcolor": "#E5ECF6",
            "gridcolor": "white",
            "gridwidth": 2,
            "linecolor": "white",
            "showbackground": true,
            "ticks": "",
            "zerolinecolor": "white"
           },
           "yaxis": {
            "backgroundcolor": "#E5ECF6",
            "gridcolor": "white",
            "gridwidth": 2,
            "linecolor": "white",
            "showbackground": true,
            "ticks": "",
            "zerolinecolor": "white"
           },
           "zaxis": {
            "backgroundcolor": "#E5ECF6",
            "gridcolor": "white",
            "gridwidth": 2,
            "linecolor": "white",
            "showbackground": true,
            "ticks": "",
            "zerolinecolor": "white"
           }
          },
          "shapedefaults": {
           "line": {
            "color": "#2a3f5f"
           }
          },
          "ternary": {
           "aaxis": {
            "gridcolor": "white",
            "linecolor": "white",
            "ticks": ""
           },
           "baxis": {
            "gridcolor": "white",
            "linecolor": "white",
            "ticks": ""
           },
           "bgcolor": "#E5ECF6",
           "caxis": {
            "gridcolor": "white",
            "linecolor": "white",
            "ticks": ""
           }
          },
          "title": {
           "x": 0.05
          },
          "xaxis": {
           "automargin": true,
           "gridcolor": "white",
           "linecolor": "white",
           "ticks": "",
           "title": {
            "standoff": 15
           },
           "zerolinecolor": "white",
           "zerolinewidth": 2
          },
          "yaxis": {
           "automargin": true,
           "gridcolor": "white",
           "linecolor": "white",
           "ticks": "",
           "title": {
            "standoff": 15
           },
           "zerolinecolor": "white",
           "zerolinewidth": 2
          }
         }
        },
        "title": {
         "text": "Total Consumption and Production by Country, All Time"
        },
        "xaxis": {
         "anchor": "y",
         "domain": [
          0,
          1
         ],
         "title": {
          "text": "Country"
         }
        },
        "yaxis": {
         "anchor": "x",
         "domain": [
          0,
          1
         ],
         "title": {
          "text": "value"
         }
        }
       }
      }
     },
     "metadata": {},
     "output_type": "display_data"
    },
    {
     "data": {
      "application/vnd.plotly.v1+json": {
       "config": {
        "plotlyServerURL": "https://plot.ly"
       },
       "data": [
        {
         "alignmentgroup": "True",
         "hovertemplate": "variable=Total Production<br>Country=%{x}<br>value=%{y}<extra></extra>",
         "legendgroup": "Total Production",
         "marker": {
          "color": "#636efa",
          "pattern": {
           "shape": ""
          }
         },
         "name": "Total Production",
         "offsetgroup": "Total Production",
         "orientation": "v",
         "showlegend": true,
         "textposition": "auto",
         "type": "bar",
         "x": [
          "Brazil",
          "Viet Nam",
          "Colombia",
          "Indonesia",
          "Ethiopia",
          "Honduras",
          "India",
          "Uganda",
          "Mexico",
          "Peru",
          "Guatemala",
          "Nicaragua",
          "Côte d'Ivoire",
          "Costa Rica",
          "Tanzania",
          "Kenya",
          "Papua New Guinea",
          "El Salvador",
          "Lao People's Democratic Republic",
          "Venezuela",
          "Ecuador",
          "Thailand",
          "Dominican Republic",
          "Democratic Republic of Congo",
          "Madagascar",
          "Haiti",
          "Rwanda",
          "Cameroon",
          "Philippines",
          "Burundi",
          "Guinea",
          "Cuba",
          "Panama",
          "Yemen",
          "Timor-Leste",
          "Bolivia (Plurinational State of)",
          "Togo",
          "Central African Republic",
          "Angola",
          "Nigeria",
          "Sierra Leone",
          "Sri Lanka",
          "Zambia",
          "Paraguay",
          "Jamaica",
          "Malawi",
          "Ghana",
          "Trinidad & Tobago",
          "Guyana",
          "Liberia",
          "Zimbabwe",
          "Congo",
          "Nepal",
          "Gabon",
          "Equatorial Guinea"
         ],
         "xaxis": "x",
         "y": [
          10564920000,
          5652120000,
          2507400000,
          1914180000,
          1332060000,
          1238640000,
          967560000,
          888600000,
          769260000,
          742680000,
          680820000,
          504180000,
          343680000,
          267600000,
          173040000,
          153840000,
          144960000,
          130920000,
          108120000,
          108000000,
          100740000,
          98220000,
          74700000,
          70200000,
          69960000,
          62160000,
          59520000,
          56880000,
          42960000,
          40680000,
          33600000,
          22260000,
          20820000,
          18540000,
          18420000,
          14880000,
          12600000,
          9120000,
          7740000,
          7560000,
          7380000,
          6540000,
          4080000,
          3600000,
          3600000,
          2580000,
          2520000,
          2220000,
          1800000,
          1680000,
          1560000,
          540000,
          240000,
          60000,
          0
         ],
         "yaxis": "y"
        },
        {
         "alignmentgroup": "True",
         "hovertemplate": "variable=Total Export<br>Country=%{x}<br>value=%{y}<extra></extra>",
         "legendgroup": "Total Export",
         "marker": {
          "color": "#EF553B",
          "pattern": {
           "shape": ""
          }
         },
         "name": "Total Export",
         "offsetgroup": "Total Export",
         "orientation": "v",
         "showlegend": true,
         "textposition": "auto",
         "type": "bar",
         "x": [
          "Viet Nam",
          "Colombia",
          "Brazil",
          "Honduras",
          "Indonesia",
          "India",
          "Uganda",
          "Peru",
          "Ethiopia",
          "Guatemala",
          "Mexico",
          "Nicaragua",
          "Côte d'Ivoire",
          "Costa Rica",
          "Tanzania",
          "Papua New Guinea",
          "Kenya",
          "Ecuador",
          "El Salvador",
          "Lao People's Democratic Republic",
          "Rwanda",
          "Cameroon",
          "Burundi",
          "Thailand",
          "Democratic Republic of Congo",
          "Guinea",
          "Timor-Leste",
          "Togo",
          "Panama",
          "Venezuela",
          "Sierra Leone",
          "Yemen",
          "Dominican Republic",
          "Central African Republic",
          "Cuba",
          "Madagascar",
          "Bolivia (Plurinational State of)",
          "Zambia",
          "Malawi",
          "Angola",
          "Ghana",
          "Jamaica",
          "Philippines",
          "Liberia",
          "Zimbabwe",
          "Nigeria",
          "Trinidad & Tobago",
          "Haiti",
          "Sri Lanka",
          "Nepal",
          "Guyana",
          "Paraguay",
          "Congo",
          "Gabon",
          "Equatorial Guinea"
         ],
         "xaxis": "x",
         "y": [
          5032620000,
          2367900000,
          1846236352,
          1275000000,
          1144260000,
          1112220000,
          811380000,
          706920000,
          676980000,
          619380000,
          505560000,
          462180000,
          268860000,
          194040000,
          155340000,
          147060000,
          137940000,
          101040000,
          98640000,
          79320000,
          59100000,
          46920000,
          39840000,
          34380000,
          28920000,
          26520000,
          19920000,
          11760000,
          8880000,
          7500000,
          6540000,
          6000000,
          4980000,
          4560000,
          4200000,
          4080000,
          4080000,
          3960000,
          2460000,
          2460000,
          2340000,
          1740000,
          1200000,
          1200000,
          780000,
          480000,
          420000,
          360000,
          300000,
          240000,
          180000,
          0,
          0,
          0,
          0
         ],
         "yaxis": "y"
        },
        {
         "alignmentgroup": "True",
         "hovertemplate": "variable=Domestic Consumption<br>Country=%{x}<br>value=%{y}<extra></extra>",
         "legendgroup": "Domestic Consumption",
         "marker": {
          "color": "#00cc96",
          "pattern": {
           "shape": ""
          }
         },
         "name": "Domestic Consumption",
         "offsetgroup": "Domestic Consumption",
         "orientation": "v",
         "showlegend": true,
         "textposition": "auto",
         "type": "bar",
         "x": [
          "Brazil",
          "Indonesia",
          "Ethiopia",
          "Philippines",
          "Viet Nam",
          "Mexico",
          "Colombia",
          "Venezuela",
          "India",
          "Thailand",
          "Guatemala",
          "Dominican Republic",
          "Madagascar",
          "Honduras",
          "Costa Rica",
          "Haiti",
          "Côte d'Ivoire",
          "El Salvador",
          "Peru",
          "Uganda",
          "Cuba",
          "Nicaragua",
          "Democratic Republic of Congo",
          "Lao People's Democratic Republic",
          "Ecuador",
          "Tanzania",
          "Cameroon",
          "Yemen",
          "Kenya",
          "Panama",
          "Bolivia (Plurinational State of)",
          "Guinea",
          "Nigeria",
          "Sri Lanka",
          "Angola",
          "Paraguay",
          "Central African Republic",
          "Trinidad & Tobago",
          "Guyana",
          "Jamaica",
          "Sierra Leone",
          "Liberia",
          "Zimbabwe",
          "Congo",
          "Papua New Guinea",
          "Burundi",
          "Ghana",
          "Malawi",
          "Rwanda",
          "Gabon",
          "Timor-Leste",
          "Togo",
          "Nepal",
          "Zambia",
          "Equatorial Guinea"
         ],
         "xaxis": "x",
         "y": [
          3971820000,
          861360000,
          666540000,
          583800000,
          465000000,
          436500000,
          336567300,
          265500000,
          263700000,
          250500000,
          70980000,
          69420000,
          66900000,
          66000000,
          64220040,
          61800000,
          57060000,
          53520000,
          45000000,
          44928000,
          39360000,
          38880000,
          35880000,
          28020000,
          27540000,
          16720020,
          13980000,
          13140000,
          12390000,
          12060000,
          10770000,
          9000000,
          7200000,
          6300000,
          5400000,
          3600000,
          3600000,
          1800000,
          1620000,
          1620000,
          900000,
          900000,
          720000,
          540000,
          360000,
          360000,
          360000,
          180000,
          180000,
          90000,
          88200,
          46080,
          0,
          0,
          0
         ],
         "yaxis": "y"
        }
       ],
       "layout": {
        "barmode": "relative",
        "legend": {
         "title": {
          "text": "variable"
         },
         "tracegroupgap": 0
        },
        "template": {
         "data": {
          "bar": [
           {
            "error_x": {
             "color": "#2a3f5f"
            },
            "error_y": {
             "color": "#2a3f5f"
            },
            "marker": {
             "line": {
              "color": "#E5ECF6",
              "width": 0.5
             },
             "pattern": {
              "fillmode": "overlay",
              "size": 10,
              "solidity": 0.2
             }
            },
            "type": "bar"
           }
          ],
          "barpolar": [
           {
            "marker": {
             "line": {
              "color": "#E5ECF6",
              "width": 0.5
             },
             "pattern": {
              "fillmode": "overlay",
              "size": 10,
              "solidity": 0.2
             }
            },
            "type": "barpolar"
           }
          ],
          "carpet": [
           {
            "aaxis": {
             "endlinecolor": "#2a3f5f",
             "gridcolor": "white",
             "linecolor": "white",
             "minorgridcolor": "white",
             "startlinecolor": "#2a3f5f"
            },
            "baxis": {
             "endlinecolor": "#2a3f5f",
             "gridcolor": "white",
             "linecolor": "white",
             "minorgridcolor": "white",
             "startlinecolor": "#2a3f5f"
            },
            "type": "carpet"
           }
          ],
          "choropleth": [
           {
            "colorbar": {
             "outlinewidth": 0,
             "ticks": ""
            },
            "type": "choropleth"
           }
          ],
          "contour": [
           {
            "colorbar": {
             "outlinewidth": 0,
             "ticks": ""
            },
            "colorscale": [
             [
              0,
              "#0d0887"
             ],
             [
              0.1111111111111111,
              "#46039f"
             ],
             [
              0.2222222222222222,
              "#7201a8"
             ],
             [
              0.3333333333333333,
              "#9c179e"
             ],
             [
              0.4444444444444444,
              "#bd3786"
             ],
             [
              0.5555555555555556,
              "#d8576b"
             ],
             [
              0.6666666666666666,
              "#ed7953"
             ],
             [
              0.7777777777777778,
              "#fb9f3a"
             ],
             [
              0.8888888888888888,
              "#fdca26"
             ],
             [
              1,
              "#f0f921"
             ]
            ],
            "type": "contour"
           }
          ],
          "contourcarpet": [
           {
            "colorbar": {
             "outlinewidth": 0,
             "ticks": ""
            },
            "type": "contourcarpet"
           }
          ],
          "heatmap": [
           {
            "colorbar": {
             "outlinewidth": 0,
             "ticks": ""
            },
            "colorscale": [
             [
              0,
              "#0d0887"
             ],
             [
              0.1111111111111111,
              "#46039f"
             ],
             [
              0.2222222222222222,
              "#7201a8"
             ],
             [
              0.3333333333333333,
              "#9c179e"
             ],
             [
              0.4444444444444444,
              "#bd3786"
             ],
             [
              0.5555555555555556,
              "#d8576b"
             ],
             [
              0.6666666666666666,
              "#ed7953"
             ],
             [
              0.7777777777777778,
              "#fb9f3a"
             ],
             [
              0.8888888888888888,
              "#fdca26"
             ],
             [
              1,
              "#f0f921"
             ]
            ],
            "type": "heatmap"
           }
          ],
          "heatmapgl": [
           {
            "colorbar": {
             "outlinewidth": 0,
             "ticks": ""
            },
            "colorscale": [
             [
              0,
              "#0d0887"
             ],
             [
              0.1111111111111111,
              "#46039f"
             ],
             [
              0.2222222222222222,
              "#7201a8"
             ],
             [
              0.3333333333333333,
              "#9c179e"
             ],
             [
              0.4444444444444444,
              "#bd3786"
             ],
             [
              0.5555555555555556,
              "#d8576b"
             ],
             [
              0.6666666666666666,
              "#ed7953"
             ],
             [
              0.7777777777777778,
              "#fb9f3a"
             ],
             [
              0.8888888888888888,
              "#fdca26"
             ],
             [
              1,
              "#f0f921"
             ]
            ],
            "type": "heatmapgl"
           }
          ],
          "histogram": [
           {
            "marker": {
             "pattern": {
              "fillmode": "overlay",
              "size": 10,
              "solidity": 0.2
             }
            },
            "type": "histogram"
           }
          ],
          "histogram2d": [
           {
            "colorbar": {
             "outlinewidth": 0,
             "ticks": ""
            },
            "colorscale": [
             [
              0,
              "#0d0887"
             ],
             [
              0.1111111111111111,
              "#46039f"
             ],
             [
              0.2222222222222222,
              "#7201a8"
             ],
             [
              0.3333333333333333,
              "#9c179e"
             ],
             [
              0.4444444444444444,
              "#bd3786"
             ],
             [
              0.5555555555555556,
              "#d8576b"
             ],
             [
              0.6666666666666666,
              "#ed7953"
             ],
             [
              0.7777777777777778,
              "#fb9f3a"
             ],
             [
              0.8888888888888888,
              "#fdca26"
             ],
             [
              1,
              "#f0f921"
             ]
            ],
            "type": "histogram2d"
           }
          ],
          "histogram2dcontour": [
           {
            "colorbar": {
             "outlinewidth": 0,
             "ticks": ""
            },
            "colorscale": [
             [
              0,
              "#0d0887"
             ],
             [
              0.1111111111111111,
              "#46039f"
             ],
             [
              0.2222222222222222,
              "#7201a8"
             ],
             [
              0.3333333333333333,
              "#9c179e"
             ],
             [
              0.4444444444444444,
              "#bd3786"
             ],
             [
              0.5555555555555556,
              "#d8576b"
             ],
             [
              0.6666666666666666,
              "#ed7953"
             ],
             [
              0.7777777777777778,
              "#fb9f3a"
             ],
             [
              0.8888888888888888,
              "#fdca26"
             ],
             [
              1,
              "#f0f921"
             ]
            ],
            "type": "histogram2dcontour"
           }
          ],
          "mesh3d": [
           {
            "colorbar": {
             "outlinewidth": 0,
             "ticks": ""
            },
            "type": "mesh3d"
           }
          ],
          "parcoords": [
           {
            "line": {
             "colorbar": {
              "outlinewidth": 0,
              "ticks": ""
             }
            },
            "type": "parcoords"
           }
          ],
          "pie": [
           {
            "automargin": true,
            "type": "pie"
           }
          ],
          "scatter": [
           {
            "fillpattern": {
             "fillmode": "overlay",
             "size": 10,
             "solidity": 0.2
            },
            "type": "scatter"
           }
          ],
          "scatter3d": [
           {
            "line": {
             "colorbar": {
              "outlinewidth": 0,
              "ticks": ""
             }
            },
            "marker": {
             "colorbar": {
              "outlinewidth": 0,
              "ticks": ""
             }
            },
            "type": "scatter3d"
           }
          ],
          "scattercarpet": [
           {
            "marker": {
             "colorbar": {
              "outlinewidth": 0,
              "ticks": ""
             }
            },
            "type": "scattercarpet"
           }
          ],
          "scattergeo": [
           {
            "marker": {
             "colorbar": {
              "outlinewidth": 0,
              "ticks": ""
             }
            },
            "type": "scattergeo"
           }
          ],
          "scattergl": [
           {
            "marker": {
             "colorbar": {
              "outlinewidth": 0,
              "ticks": ""
             }
            },
            "type": "scattergl"
           }
          ],
          "scattermapbox": [
           {
            "marker": {
             "colorbar": {
              "outlinewidth": 0,
              "ticks": ""
             }
            },
            "type": "scattermapbox"
           }
          ],
          "scatterpolar": [
           {
            "marker": {
             "colorbar": {
              "outlinewidth": 0,
              "ticks": ""
             }
            },
            "type": "scatterpolar"
           }
          ],
          "scatterpolargl": [
           {
            "marker": {
             "colorbar": {
              "outlinewidth": 0,
              "ticks": ""
             }
            },
            "type": "scatterpolargl"
           }
          ],
          "scatterternary": [
           {
            "marker": {
             "colorbar": {
              "outlinewidth": 0,
              "ticks": ""
             }
            },
            "type": "scatterternary"
           }
          ],
          "surface": [
           {
            "colorbar": {
             "outlinewidth": 0,
             "ticks": ""
            },
            "colorscale": [
             [
              0,
              "#0d0887"
             ],
             [
              0.1111111111111111,
              "#46039f"
             ],
             [
              0.2222222222222222,
              "#7201a8"
             ],
             [
              0.3333333333333333,
              "#9c179e"
             ],
             [
              0.4444444444444444,
              "#bd3786"
             ],
             [
              0.5555555555555556,
              "#d8576b"
             ],
             [
              0.6666666666666666,
              "#ed7953"
             ],
             [
              0.7777777777777778,
              "#fb9f3a"
             ],
             [
              0.8888888888888888,
              "#fdca26"
             ],
             [
              1,
              "#f0f921"
             ]
            ],
            "type": "surface"
           }
          ],
          "table": [
           {
            "cells": {
             "fill": {
              "color": "#EBF0F8"
             },
             "line": {
              "color": "white"
             }
            },
            "header": {
             "fill": {
              "color": "#C8D4E3"
             },
             "line": {
              "color": "white"
             }
            },
            "type": "table"
           }
          ]
         },
         "layout": {
          "annotationdefaults": {
           "arrowcolor": "#2a3f5f",
           "arrowhead": 0,
           "arrowwidth": 1
          },
          "autotypenumbers": "strict",
          "coloraxis": {
           "colorbar": {
            "outlinewidth": 0,
            "ticks": ""
           }
          },
          "colorscale": {
           "diverging": [
            [
             0,
             "#8e0152"
            ],
            [
             0.1,
             "#c51b7d"
            ],
            [
             0.2,
             "#de77ae"
            ],
            [
             0.3,
             "#f1b6da"
            ],
            [
             0.4,
             "#fde0ef"
            ],
            [
             0.5,
             "#f7f7f7"
            ],
            [
             0.6,
             "#e6f5d0"
            ],
            [
             0.7,
             "#b8e186"
            ],
            [
             0.8,
             "#7fbc41"
            ],
            [
             0.9,
             "#4d9221"
            ],
            [
             1,
             "#276419"
            ]
           ],
           "sequential": [
            [
             0,
             "#0d0887"
            ],
            [
             0.1111111111111111,
             "#46039f"
            ],
            [
             0.2222222222222222,
             "#7201a8"
            ],
            [
             0.3333333333333333,
             "#9c179e"
            ],
            [
             0.4444444444444444,
             "#bd3786"
            ],
            [
             0.5555555555555556,
             "#d8576b"
            ],
            [
             0.6666666666666666,
             "#ed7953"
            ],
            [
             0.7777777777777778,
             "#fb9f3a"
            ],
            [
             0.8888888888888888,
             "#fdca26"
            ],
            [
             1,
             "#f0f921"
            ]
           ],
           "sequentialminus": [
            [
             0,
             "#0d0887"
            ],
            [
             0.1111111111111111,
             "#46039f"
            ],
            [
             0.2222222222222222,
             "#7201a8"
            ],
            [
             0.3333333333333333,
             "#9c179e"
            ],
            [
             0.4444444444444444,
             "#bd3786"
            ],
            [
             0.5555555555555556,
             "#d8576b"
            ],
            [
             0.6666666666666666,
             "#ed7953"
            ],
            [
             0.7777777777777778,
             "#fb9f3a"
            ],
            [
             0.8888888888888888,
             "#fdca26"
            ],
            [
             1,
             "#f0f921"
            ]
           ]
          },
          "colorway": [
           "#636efa",
           "#EF553B",
           "#00cc96",
           "#ab63fa",
           "#FFA15A",
           "#19d3f3",
           "#FF6692",
           "#B6E880",
           "#FF97FF",
           "#FECB52"
          ],
          "font": {
           "color": "#2a3f5f"
          },
          "geo": {
           "bgcolor": "white",
           "lakecolor": "white",
           "landcolor": "#E5ECF6",
           "showlakes": true,
           "showland": true,
           "subunitcolor": "white"
          },
          "hoverlabel": {
           "align": "left"
          },
          "hovermode": "closest",
          "mapbox": {
           "style": "light"
          },
          "paper_bgcolor": "white",
          "plot_bgcolor": "#E5ECF6",
          "polar": {
           "angularaxis": {
            "gridcolor": "white",
            "linecolor": "white",
            "ticks": ""
           },
           "bgcolor": "#E5ECF6",
           "radialaxis": {
            "gridcolor": "white",
            "linecolor": "white",
            "ticks": ""
           }
          },
          "scene": {
           "xaxis": {
            "backgroundcolor": "#E5ECF6",
            "gridcolor": "white",
            "gridwidth": 2,
            "linecolor": "white",
            "showbackground": true,
            "ticks": "",
            "zerolinecolor": "white"
           },
           "yaxis": {
            "backgroundcolor": "#E5ECF6",
            "gridcolor": "white",
            "gridwidth": 2,
            "linecolor": "white",
            "showbackground": true,
            "ticks": "",
            "zerolinecolor": "white"
           },
           "zaxis": {
            "backgroundcolor": "#E5ECF6",
            "gridcolor": "white",
            "gridwidth": 2,
            "linecolor": "white",
            "showbackground": true,
            "ticks": "",
            "zerolinecolor": "white"
           }
          },
          "shapedefaults": {
           "line": {
            "color": "#2a3f5f"
           }
          },
          "ternary": {
           "aaxis": {
            "gridcolor": "white",
            "linecolor": "white",
            "ticks": ""
           },
           "baxis": {
            "gridcolor": "white",
            "linecolor": "white",
            "ticks": ""
           },
           "bgcolor": "#E5ECF6",
           "caxis": {
            "gridcolor": "white",
            "linecolor": "white",
            "ticks": ""
           }
          },
          "title": {
           "x": 0.05
          },
          "xaxis": {
           "automargin": true,
           "gridcolor": "white",
           "linecolor": "white",
           "ticks": "",
           "title": {
            "standoff": 15
           },
           "zerolinecolor": "white",
           "zerolinewidth": 2
          },
          "yaxis": {
           "automargin": true,
           "gridcolor": "white",
           "linecolor": "white",
           "ticks": "",
           "title": {
            "standoff": 15
           },
           "zerolinecolor": "white",
           "zerolinewidth": 2
          }
         }
        },
        "title": {
         "text": "Total Consumption and Production by Country, Since 2017"
        },
        "xaxis": {
         "anchor": "y",
         "domain": [
          0,
          1
         ],
         "title": {
          "text": "Country"
         }
        },
        "yaxis": {
         "anchor": "x",
         "domain": [
          0,
          1
         ],
         "title": {
          "text": "value"
         }
        }
       }
      }
     },
     "metadata": {},
     "output_type": "display_data"
    }
   ],
   "source": [
    "# Graphing all data\n",
    "export_agg_df = export_long_df[['Country', 'variable', 'value']].groupby(['Country', 'variable']).sum().reset_index()\n",
    "export_fig = px.bar(export_agg_df.sort_values(by = ['value'], ascending=False), \n",
    "                         x = 'Country', y = 'value',color = 'variable', title = \"Total Consumption and Production by Country, All Time\")\n",
    "export_fig.show()\n",
    "\n",
    "# Graphing data from last 5 years\n",
    "\n",
    "export_agg_df_5year = export_long_df[export_long_df['Year'] > 2016][['Country', 'variable', 'value']].groupby(['Country', 'variable']).sum().reset_index()\n",
    "export_fig = px.bar(export_agg_df_5year.sort_values(by = ['value'], ascending=False), \n",
    "                         x = 'Country', y = 'value',color = 'variable', title = \"Total Consumption and Production by Country, Since 2017\")\n",
    "export_fig.show()\n"
   ]
  },
  {
   "cell_type": "code",
   "execution_count": 45,
   "metadata": {},
   "outputs": [
    {
     "data": {
      "application/vnd.plotly.v1+json": {
       "config": {
        "plotlyServerURL": "https://plot.ly"
       },
       "data": [
        {
         "hovertemplate": "Country=Brazil<br>variable=Total Export<br>Year=%{x}<br>Annual % Change=%{y}<extra></extra>",
         "legendgroup": "Brazil, Total Export",
         "line": {
          "color": "#636efa",
          "dash": "solid"
         },
         "marker": {
          "symbol": "circle"
         },
         "mode": "lines",
         "name": "Brazil, Total Export",
         "orientation": "v",
         "showlegend": true,
         "type": "scatter",
         "x": [
          1990,
          1991,
          1992,
          1993,
          1994,
          1995,
          1996,
          1997,
          1998,
          1999,
          2000,
          2001,
          2002,
          2003,
          2004,
          2005,
          2006,
          2007,
          2008,
          2009,
          2010,
          2011,
          2012,
          2013,
          2014,
          2015,
          2016,
          2017,
          2018,
          2019
         ],
         "xaxis": "x",
         "y": [
          0,
          0.2507675956542277,
          -0.1129207383279045,
          -0.050715768186897936,
          -0.03167395447920174,
          -0.16239217275516704,
          0.05411943599668234,
          0.10163267982427371,
          0.07993571811201705,
          0.2758487654320987,
          -0.22173744006220575,
          0.286190053285968,
          0.20757811151389616,
          -0.08115931670359522,
          0.029831589592003382,
          -0.010574816829065692,
          0.04469806855485148,
          0.029778216230041288,
          0.04704797047970488,
          0.0294137580481193,
          0.09180986240042133,
          0.019266138028763535,
          -0.15550493995148795,
          0.10865529440610877,
          -2.130814006929744,
          0,
          -1.957464799284935,
          -0.09758090402404507,
          0.15236863379143095,
          -2.004332411070891
         ],
         "yaxis": "y"
        },
        {
         "hovertemplate": "Country=Colombia<br>variable=Total Export<br>Year=%{x}<br>Annual % Change=%{y}<extra></extra>",
         "legendgroup": "Colombia, Total Export",
         "line": {
          "color": "#EF553B",
          "dash": "solid"
         },
         "marker": {
          "symbol": "circle"
         },
         "mode": "lines",
         "name": "Colombia, Total Export",
         "orientation": "v",
         "showlegend": true,
         "type": "scatter",
         "x": [
          1990,
          1991,
          1992,
          1993,
          1994,
          1995,
          1996,
          1997,
          1998,
          1999,
          2000,
          2001,
          2002,
          2003,
          2004,
          2005,
          2006,
          2007,
          2008,
          2009,
          2010,
          2011,
          2012,
          2013,
          2014,
          2015,
          2016,
          2017,
          2018,
          2019
         ],
         "xaxis": "x",
         "y": [
          0,
          -0.09645725760183588,
          0.31470751646956097,
          -0.1808741849794736,
          -0.1326650943396226,
          -0.16604350781781096,
          0.0788669248013043,
          0.03126180581790705,
          0.031229966114113106,
          -0.11234458259325042,
          -0.08184092046023006,
          0.0835785114961316,
          0.033085277554304016,
          -0.0028229339044095747,
          -0.004880905896134324,
          0.0664116146752991,
          0.00680710146260699,
          0.03243490178163544,
          -0.019026548672566368,
          -0.2878664862426703,
          -0.009120851279452724,
          -0.011250319611352588,
          -0.07292474786656322,
          0.3486750348675034,
          0.1327817993795244,
          0.16085448238086553,
          0.00904372444164836,
          0.012002182214948087,
          -0.013631112822487523,
          0.06745783885071832
         ],
         "yaxis": "y"
        },
        {
         "hovertemplate": "Country=Ethiopia<br>variable=Total Export<br>Year=%{x}<br>Annual % Change=%{y}<extra></extra>",
         "legendgroup": "Ethiopia, Total Export",
         "line": {
          "color": "#00cc96",
          "dash": "solid"
         },
         "marker": {
          "symbol": "circle"
         },
         "mode": "lines",
         "name": "Ethiopia, Total Export",
         "orientation": "v",
         "showlegend": true,
         "type": "scatter",
         "x": [
          1990,
          1991,
          1992,
          1993,
          1994,
          1995,
          1996,
          1997,
          1998,
          1999,
          2000,
          2001,
          2002,
          2003,
          2004,
          2005,
          2006,
          2007,
          2008,
          2009,
          2010,
          2011,
          2012,
          2013,
          2014,
          2015,
          2016,
          2017,
          2018,
          2019
         ],
         "xaxis": "x",
         "y": [
          0,
          -0.21694599627560518,
          -0.12722948870392392,
          0.5899182561307903,
          0.2639245929734362,
          -0.13491525423728812,
          0.44043887147335425,
          0.07725788900979325,
          -0.03181818181818186,
          -0.05164319248826288,
          0.09020902090209026,
          -0.3057517658930373,
          0.49345930232558133,
          0.08467153284671536,
          0.11754149842978912,
          -0.022480931352870326,
          0.20574948665297743,
          -0.11307901907356943,
          0.09523809523809534,
          -0.35098176718092566,
          0.7957860615883305,
          -0.19524669073405532,
          0.19738317757009338,
          -0.10396503278176705,
          0.08606271777003482,
          -0.04234841193455241,
          0.005360134003350003,
          0.25724758413862037,
          -0.048767558971640645,
          0.09250487601003066
         ],
         "yaxis": "y"
        },
        {
         "hovertemplate": "Country=Guatemala<br>variable=Total Export<br>Year=%{x}<br>Annual % Change=%{y}<extra></extra>",
         "legendgroup": "Guatemala, Total Export",
         "line": {
          "color": "#ab63fa",
          "dash": "solid"
         },
         "marker": {
          "symbol": "circle"
         },
         "mode": "lines",
         "name": "Guatemala, Total Export",
         "orientation": "v",
         "showlegend": true,
         "type": "scatter",
         "x": [
          1990,
          1991,
          1992,
          1993,
          1994,
          1995,
          1996,
          1997,
          1998,
          1999,
          2000,
          2001,
          2002,
          2003,
          2004,
          2005,
          2006,
          2007,
          2008,
          2009,
          2010,
          2011,
          2012,
          2013,
          2014,
          2015,
          2016,
          2017,
          2018,
          2019
         ],
         "xaxis": "x",
         "y": [
          0,
          -0.12592592592592589,
          0.17514124293785316,
          0.12710336538461542,
          -0.12716608904292193,
          0.13042150274893105,
          0.07511483382869488,
          0.06659964815280217,
          -0.16540999057492933,
          0.3215697346132129,
          0.03653065584276871,
          -0.15292662819455893,
          -0.15060827250608277,
          0.09452878831280431,
          -0.13373462444386286,
          0.04712990936555883,
          -0.04443162146566648,
          0.125,
          0.013955984970477786,
          -0.07543673901535208,
          -0.007157171485828839,
          0.0660322952710497,
          0.014335948065999471,
          -0.046666666666666634,
          -0.14881118881118882,
          -0.02694709168583631,
          0.010131712259371817,
          0.13105984620528255,
          -0.016553355010345827,
          0.08596333032762238
         ],
         "yaxis": "y"
        },
        {
         "hovertemplate": "Country=Honduras<br>variable=Total Export<br>Year=%{x}<br>Annual % Change=%{y}<extra></extra>",
         "legendgroup": "Honduras, Total Export",
         "line": {
          "color": "#FFA15A",
          "dash": "solid"
         },
         "marker": {
          "symbol": "circle"
         },
         "mode": "lines",
         "name": "Honduras, Total Export",
         "orientation": "v",
         "showlegend": true,
         "type": "scatter",
         "x": [
          1990,
          1991,
          1992,
          1993,
          1994,
          1995,
          1996,
          1997,
          1998,
          1999,
          2000,
          2001,
          2002,
          2003,
          2004,
          2005,
          2006,
          2007,
          2008,
          2009,
          2010,
          2011,
          2012,
          2013,
          2014,
          2015,
          2016,
          2017,
          2018,
          2019
         ],
         "xaxis": "x",
         "y": [
          0,
          -0.1677233429394812,
          0.35734072022160657,
          -0.13010204081632648,
          0.007624633431084993,
          0.04540162980209539,
          0.14699331848552344,
          -0.16407766990291262,
          0.3524970963995355,
          -0.1468441391155002,
          0.44891796678409657,
          -0.16915595692948937,
          0.13336120401337803,
          -0.1054961268904463,
          0.14597938144329903,
          -0.1392587261604894,
          0.21153846153846145,
          0.1428571428571428,
          -0.016002415458937214,
          -0.0536974532065051,
          0.08592736705577164,
          0.17856076440728574,
          0.39549024575627056,
          -0.24019607843137258,
          0.016009557945041886,
          0.18297271872060206,
          0.054870775347912515,
          0.38352808141726347,
          -0.026835580983517238,
          -0.05305151175811873
         ],
         "yaxis": "y"
        },
        {
         "hovertemplate": "Country=India<br>variable=Total Export<br>Year=%{x}<br>Annual % Change=%{y}<extra></extra>",
         "legendgroup": "India, Total Export",
         "line": {
          "color": "#19d3f3",
          "dash": "solid"
         },
         "marker": {
          "symbol": "circle"
         },
         "mode": "lines",
         "name": "India, Total Export",
         "orientation": "v",
         "showlegend": true,
         "type": "scatter",
         "x": [
          1990,
          1991,
          1992,
          1993,
          1994,
          1995,
          1996,
          1997,
          1998,
          1999,
          2000,
          2001,
          2002,
          2003,
          2004,
          2005,
          2006,
          2007,
          2008,
          2009,
          2010,
          2011,
          2012,
          2013,
          2014,
          2015,
          2016,
          2017,
          2018,
          2019
         ],
         "xaxis": "x",
         "y": [
          0,
          -0.12733703890853965,
          0.05153445280833813,
          0.15748898678414092,
          0.18744053282588014,
          -0.011618589743589758,
          0.25780299959464936,
          -0.14921044150821783,
          0.3208333333333333,
          0.03871522798967586,
          0.16758696852567634,
          -0.1179947978245448,
          -0.04825737265415553,
          0.044225352112676086,
          -0.01618559482060966,
          -0.22429394022484228,
          0.264757864969954,
          -0.0723868082727781,
          0.017475143115396108,
          -0.10956470239857863,
          0.5453940804788826,
          0.1650527221863567,
          -0.06834133727373481,
          -0.002180808881839802,
          0.01947148817802513,
          0.02553108555837058,
          0.15659445077917145,
          0.07492605980939859,
          -0.08789361051666156,
          0.010222892575833642
         ],
         "yaxis": "y"
        },
        {
         "hovertemplate": "Country=Indonesia<br>variable=Total Export<br>Year=%{x}<br>Annual % Change=%{y}<extra></extra>",
         "legendgroup": "Indonesia, Total Export",
         "line": {
          "color": "#FF6692",
          "dash": "solid"
         },
         "marker": {
          "symbol": "circle"
         },
         "mode": "lines",
         "name": "Indonesia, Total Export",
         "orientation": "v",
         "showlegend": true,
         "type": "scatter",
         "x": [
          1990,
          1991,
          1992,
          1993,
          1994,
          1995,
          1996,
          1997,
          1998,
          1999,
          2000,
          2001,
          2002,
          2003,
          2004,
          2005,
          2006,
          2007,
          2008,
          2009,
          2010,
          2011,
          2012,
          2013,
          2014,
          2015,
          2016,
          2017,
          2018,
          2019
         ],
         "xaxis": "x",
         "y": [
          0,
          -0.10604085180356371,
          -0.2539296710419705,
          0.22980017376194617,
          -0.18668315083009535,
          -0.14288816503800217,
          0.6316189511021029,
          -0.10636645962732916,
          -0.027280625543006032,
          -0.0862808145766345,
          0.04750733137829921,
          -0.0214632325494587,
          -0.18252908640091547,
          0.1187587494167055,
          0.13785192909280508,
          0.23607038123167157,
          -0.2170818505338078,
          -0.21420454545454548,
          0.3837069173294769,
          0.3772861870754225,
          -0.3058049829265208,
          -0.28584441610493716,
          1.0933673469387757,
          0.12783329271264932,
          -0.3327930848190167,
          0.3569230769230769,
          -0.21888053467000834,
          0.252559205500382,
          -0.4463283727738473,
          0.3954615554086802
         ],
         "yaxis": "y"
        },
        {
         "hovertemplate": "Country=Mexico<br>variable=Total Export<br>Year=%{x}<br>Annual % Change=%{y}<extra></extra>",
         "legendgroup": "Mexico, Total Export",
         "line": {
          "color": "#B6E880",
          "dash": "solid"
         },
         "marker": {
          "symbol": "circle"
         },
         "mode": "lines",
         "name": "Mexico, Total Export",
         "orientation": "v",
         "showlegend": true,
         "type": "scatter",
         "x": [
          1990,
          1991,
          1992,
          1993,
          1994,
          1995,
          1996,
          1997,
          1998,
          1999,
          2000,
          2001,
          2002,
          2003,
          2004,
          2005,
          2006,
          2007,
          2008,
          2009,
          2010,
          2011,
          2012,
          2013,
          2014,
          2015,
          2016,
          2017,
          2018,
          2019
         ],
         "xaxis": "x",
         "y": [
          0,
          -0.041270703231061634,
          -0.05635797224582273,
          -0.020408163265306145,
          -0.1455269607843137,
          0.30010756543564,
          0.2777164920022064,
          -0.028275415497517775,
          -0.2450022212350067,
          0.28214180641365116,
          0.21707205139972463,
          -0.37160633484162897,
          -0.2064206420642064,
          -0.018525519848771266,
          -0.09013867488443761,
          -0.15961049957662998,
          0.2947103274559193,
          0.13307392996108947,
          -0.15934065934065933,
          0.15931372549019618,
          -0.11980267794221278,
          0.16373098478783032,
          0.2232542139662883,
          -0.11923509561304835,
          -0.20817369093231164,
          -0.00887096774193552,
          -0.09153783563873064,
          0.30362740707568303,
          -0.007901064926142176,
          -0.09037396121883656
         ],
         "yaxis": "y"
        },
        {
         "hovertemplate": "Country=Uganda<br>variable=Total Export<br>Year=%{x}<br>Annual % Change=%{y}<extra></extra>",
         "legendgroup": "Uganda, Total Export",
         "line": {
          "color": "#FF97FF",
          "dash": "solid"
         },
         "marker": {
          "symbol": "circle"
         },
         "mode": "lines",
         "name": "Uganda, Total Export",
         "orientation": "v",
         "showlegend": true,
         "type": "scatter",
         "x": [
          1990,
          1991,
          1992,
          1993,
          1994,
          1995,
          1996,
          1997,
          1998,
          1999,
          2000,
          2001,
          2002,
          2003,
          2004,
          2005,
          2006,
          2007,
          2008,
          2009,
          2010,
          2011,
          2012,
          2013,
          2014,
          2015,
          2016,
          2017,
          2018,
          2019
         ],
         "xaxis": "x",
         "y": [
          0,
          -0.10964725881852955,
          -0.06396181384248212,
          -0.06731259561448244,
          0.8419901585565883,
          -0.08607895517957853,
          0.5118544982137057,
          -0.24769065520945222,
          -0.061679040548258124,
          0.16889835666463782,
          -0.3457432960166623,
          0.21766812574612016,
          0.09738562091503278,
          -0.24895771292435975,
          0.041633624107850986,
          -0.09821088694328128,
          -0.08273533136344446,
          0.23930050621260923,
          0.22948384701076874,
          -0.0897009966777409,
          -0.11844724618447244,
          0.1825366955212646,
          -0.14544875875238705,
          0.3675977653631284,
          -0.06263616557734208,
          0.04474142940151071,
          -0.01473859844271408,
          0.3474456675134068,
          -0.11541684122329288,
          0.07174994080037878
         ],
         "yaxis": "y"
        },
        {
         "hovertemplate": "Country=Viet Nam<br>variable=Total Export<br>Year=%{x}<br>Annual % Change=%{y}<extra></extra>",
         "legendgroup": "Viet Nam, Total Export",
         "line": {
          "color": "#FECB52",
          "dash": "solid"
         },
         "marker": {
          "symbol": "circle"
         },
         "mode": "lines",
         "name": "Viet Nam, Total Export",
         "orientation": "v",
         "showlegend": true,
         "type": "scatter",
         "x": [
          1990,
          1991,
          1992,
          1993,
          1994,
          1995,
          1996,
          1997,
          1998,
          1999,
          2000,
          2001,
          2002,
          2003,
          2004,
          2005,
          2006,
          2007,
          2008,
          2009,
          2010,
          2011,
          2012,
          2013,
          2014,
          2015,
          2016,
          2017,
          2018,
          2019
         ],
         "xaxis": "x",
         "y": [
          0,
          0.04890829694323151,
          0.6136552872606162,
          0.06914344685242524,
          0.3132239382239381,
          0.30319735391400227,
          0.065707839819515,
          0.6348240275205081,
          0.04677889284558101,
          0.19483531776712537,
          0.5035589491393815,
          0.21415045618867268,
          -0.16553239756132143,
          -0.011893636904256266,
          0.27753417590920826,
          -0.09603607241402512,
          0.03521441334127462,
          0.2898957209636821,
          -0.10230820695807319,
          0.05906465436929387,
          -0.16555242786769875,
          0.24513317871951656,
          0.29367274369249863,
          -0.13970331588132634,
          0.32351151232376507,
          -0.1591370655630916,
          0.3544021144732046,
          -0.15574846068436454,
          0.25079706679419744,
          -0.12697148319260798
         ],
         "yaxis": "y"
        }
       ],
       "layout": {
        "legend": {
         "title": {
          "text": "Country, variable"
         },
         "tracegroupgap": 0
        },
        "template": {
         "data": {
          "bar": [
           {
            "error_x": {
             "color": "#2a3f5f"
            },
            "error_y": {
             "color": "#2a3f5f"
            },
            "marker": {
             "line": {
              "color": "#E5ECF6",
              "width": 0.5
             },
             "pattern": {
              "fillmode": "overlay",
              "size": 10,
              "solidity": 0.2
             }
            },
            "type": "bar"
           }
          ],
          "barpolar": [
           {
            "marker": {
             "line": {
              "color": "#E5ECF6",
              "width": 0.5
             },
             "pattern": {
              "fillmode": "overlay",
              "size": 10,
              "solidity": 0.2
             }
            },
            "type": "barpolar"
           }
          ],
          "carpet": [
           {
            "aaxis": {
             "endlinecolor": "#2a3f5f",
             "gridcolor": "white",
             "linecolor": "white",
             "minorgridcolor": "white",
             "startlinecolor": "#2a3f5f"
            },
            "baxis": {
             "endlinecolor": "#2a3f5f",
             "gridcolor": "white",
             "linecolor": "white",
             "minorgridcolor": "white",
             "startlinecolor": "#2a3f5f"
            },
            "type": "carpet"
           }
          ],
          "choropleth": [
           {
            "colorbar": {
             "outlinewidth": 0,
             "ticks": ""
            },
            "type": "choropleth"
           }
          ],
          "contour": [
           {
            "colorbar": {
             "outlinewidth": 0,
             "ticks": ""
            },
            "colorscale": [
             [
              0,
              "#0d0887"
             ],
             [
              0.1111111111111111,
              "#46039f"
             ],
             [
              0.2222222222222222,
              "#7201a8"
             ],
             [
              0.3333333333333333,
              "#9c179e"
             ],
             [
              0.4444444444444444,
              "#bd3786"
             ],
             [
              0.5555555555555556,
              "#d8576b"
             ],
             [
              0.6666666666666666,
              "#ed7953"
             ],
             [
              0.7777777777777778,
              "#fb9f3a"
             ],
             [
              0.8888888888888888,
              "#fdca26"
             ],
             [
              1,
              "#f0f921"
             ]
            ],
            "type": "contour"
           }
          ],
          "contourcarpet": [
           {
            "colorbar": {
             "outlinewidth": 0,
             "ticks": ""
            },
            "type": "contourcarpet"
           }
          ],
          "heatmap": [
           {
            "colorbar": {
             "outlinewidth": 0,
             "ticks": ""
            },
            "colorscale": [
             [
              0,
              "#0d0887"
             ],
             [
              0.1111111111111111,
              "#46039f"
             ],
             [
              0.2222222222222222,
              "#7201a8"
             ],
             [
              0.3333333333333333,
              "#9c179e"
             ],
             [
              0.4444444444444444,
              "#bd3786"
             ],
             [
              0.5555555555555556,
              "#d8576b"
             ],
             [
              0.6666666666666666,
              "#ed7953"
             ],
             [
              0.7777777777777778,
              "#fb9f3a"
             ],
             [
              0.8888888888888888,
              "#fdca26"
             ],
             [
              1,
              "#f0f921"
             ]
            ],
            "type": "heatmap"
           }
          ],
          "heatmapgl": [
           {
            "colorbar": {
             "outlinewidth": 0,
             "ticks": ""
            },
            "colorscale": [
             [
              0,
              "#0d0887"
             ],
             [
              0.1111111111111111,
              "#46039f"
             ],
             [
              0.2222222222222222,
              "#7201a8"
             ],
             [
              0.3333333333333333,
              "#9c179e"
             ],
             [
              0.4444444444444444,
              "#bd3786"
             ],
             [
              0.5555555555555556,
              "#d8576b"
             ],
             [
              0.6666666666666666,
              "#ed7953"
             ],
             [
              0.7777777777777778,
              "#fb9f3a"
             ],
             [
              0.8888888888888888,
              "#fdca26"
             ],
             [
              1,
              "#f0f921"
             ]
            ],
            "type": "heatmapgl"
           }
          ],
          "histogram": [
           {
            "marker": {
             "pattern": {
              "fillmode": "overlay",
              "size": 10,
              "solidity": 0.2
             }
            },
            "type": "histogram"
           }
          ],
          "histogram2d": [
           {
            "colorbar": {
             "outlinewidth": 0,
             "ticks": ""
            },
            "colorscale": [
             [
              0,
              "#0d0887"
             ],
             [
              0.1111111111111111,
              "#46039f"
             ],
             [
              0.2222222222222222,
              "#7201a8"
             ],
             [
              0.3333333333333333,
              "#9c179e"
             ],
             [
              0.4444444444444444,
              "#bd3786"
             ],
             [
              0.5555555555555556,
              "#d8576b"
             ],
             [
              0.6666666666666666,
              "#ed7953"
             ],
             [
              0.7777777777777778,
              "#fb9f3a"
             ],
             [
              0.8888888888888888,
              "#fdca26"
             ],
             [
              1,
              "#f0f921"
             ]
            ],
            "type": "histogram2d"
           }
          ],
          "histogram2dcontour": [
           {
            "colorbar": {
             "outlinewidth": 0,
             "ticks": ""
            },
            "colorscale": [
             [
              0,
              "#0d0887"
             ],
             [
              0.1111111111111111,
              "#46039f"
             ],
             [
              0.2222222222222222,
              "#7201a8"
             ],
             [
              0.3333333333333333,
              "#9c179e"
             ],
             [
              0.4444444444444444,
              "#bd3786"
             ],
             [
              0.5555555555555556,
              "#d8576b"
             ],
             [
              0.6666666666666666,
              "#ed7953"
             ],
             [
              0.7777777777777778,
              "#fb9f3a"
             ],
             [
              0.8888888888888888,
              "#fdca26"
             ],
             [
              1,
              "#f0f921"
             ]
            ],
            "type": "histogram2dcontour"
           }
          ],
          "mesh3d": [
           {
            "colorbar": {
             "outlinewidth": 0,
             "ticks": ""
            },
            "type": "mesh3d"
           }
          ],
          "parcoords": [
           {
            "line": {
             "colorbar": {
              "outlinewidth": 0,
              "ticks": ""
             }
            },
            "type": "parcoords"
           }
          ],
          "pie": [
           {
            "automargin": true,
            "type": "pie"
           }
          ],
          "scatter": [
           {
            "fillpattern": {
             "fillmode": "overlay",
             "size": 10,
             "solidity": 0.2
            },
            "type": "scatter"
           }
          ],
          "scatter3d": [
           {
            "line": {
             "colorbar": {
              "outlinewidth": 0,
              "ticks": ""
             }
            },
            "marker": {
             "colorbar": {
              "outlinewidth": 0,
              "ticks": ""
             }
            },
            "type": "scatter3d"
           }
          ],
          "scattercarpet": [
           {
            "marker": {
             "colorbar": {
              "outlinewidth": 0,
              "ticks": ""
             }
            },
            "type": "scattercarpet"
           }
          ],
          "scattergeo": [
           {
            "marker": {
             "colorbar": {
              "outlinewidth": 0,
              "ticks": ""
             }
            },
            "type": "scattergeo"
           }
          ],
          "scattergl": [
           {
            "marker": {
             "colorbar": {
              "outlinewidth": 0,
              "ticks": ""
             }
            },
            "type": "scattergl"
           }
          ],
          "scattermapbox": [
           {
            "marker": {
             "colorbar": {
              "outlinewidth": 0,
              "ticks": ""
             }
            },
            "type": "scattermapbox"
           }
          ],
          "scatterpolar": [
           {
            "marker": {
             "colorbar": {
              "outlinewidth": 0,
              "ticks": ""
             }
            },
            "type": "scatterpolar"
           }
          ],
          "scatterpolargl": [
           {
            "marker": {
             "colorbar": {
              "outlinewidth": 0,
              "ticks": ""
             }
            },
            "type": "scatterpolargl"
           }
          ],
          "scatterternary": [
           {
            "marker": {
             "colorbar": {
              "outlinewidth": 0,
              "ticks": ""
             }
            },
            "type": "scatterternary"
           }
          ],
          "surface": [
           {
            "colorbar": {
             "outlinewidth": 0,
             "ticks": ""
            },
            "colorscale": [
             [
              0,
              "#0d0887"
             ],
             [
              0.1111111111111111,
              "#46039f"
             ],
             [
              0.2222222222222222,
              "#7201a8"
             ],
             [
              0.3333333333333333,
              "#9c179e"
             ],
             [
              0.4444444444444444,
              "#bd3786"
             ],
             [
              0.5555555555555556,
              "#d8576b"
             ],
             [
              0.6666666666666666,
              "#ed7953"
             ],
             [
              0.7777777777777778,
              "#fb9f3a"
             ],
             [
              0.8888888888888888,
              "#fdca26"
             ],
             [
              1,
              "#f0f921"
             ]
            ],
            "type": "surface"
           }
          ],
          "table": [
           {
            "cells": {
             "fill": {
              "color": "#EBF0F8"
             },
             "line": {
              "color": "white"
             }
            },
            "header": {
             "fill": {
              "color": "#C8D4E3"
             },
             "line": {
              "color": "white"
             }
            },
            "type": "table"
           }
          ]
         },
         "layout": {
          "annotationdefaults": {
           "arrowcolor": "#2a3f5f",
           "arrowhead": 0,
           "arrowwidth": 1
          },
          "autotypenumbers": "strict",
          "coloraxis": {
           "colorbar": {
            "outlinewidth": 0,
            "ticks": ""
           }
          },
          "colorscale": {
           "diverging": [
            [
             0,
             "#8e0152"
            ],
            [
             0.1,
             "#c51b7d"
            ],
            [
             0.2,
             "#de77ae"
            ],
            [
             0.3,
             "#f1b6da"
            ],
            [
             0.4,
             "#fde0ef"
            ],
            [
             0.5,
             "#f7f7f7"
            ],
            [
             0.6,
             "#e6f5d0"
            ],
            [
             0.7,
             "#b8e186"
            ],
            [
             0.8,
             "#7fbc41"
            ],
            [
             0.9,
             "#4d9221"
            ],
            [
             1,
             "#276419"
            ]
           ],
           "sequential": [
            [
             0,
             "#0d0887"
            ],
            [
             0.1111111111111111,
             "#46039f"
            ],
            [
             0.2222222222222222,
             "#7201a8"
            ],
            [
             0.3333333333333333,
             "#9c179e"
            ],
            [
             0.4444444444444444,
             "#bd3786"
            ],
            [
             0.5555555555555556,
             "#d8576b"
            ],
            [
             0.6666666666666666,
             "#ed7953"
            ],
            [
             0.7777777777777778,
             "#fb9f3a"
            ],
            [
             0.8888888888888888,
             "#fdca26"
            ],
            [
             1,
             "#f0f921"
            ]
           ],
           "sequentialminus": [
            [
             0,
             "#0d0887"
            ],
            [
             0.1111111111111111,
             "#46039f"
            ],
            [
             0.2222222222222222,
             "#7201a8"
            ],
            [
             0.3333333333333333,
             "#9c179e"
            ],
            [
             0.4444444444444444,
             "#bd3786"
            ],
            [
             0.5555555555555556,
             "#d8576b"
            ],
            [
             0.6666666666666666,
             "#ed7953"
            ],
            [
             0.7777777777777778,
             "#fb9f3a"
            ],
            [
             0.8888888888888888,
             "#fdca26"
            ],
            [
             1,
             "#f0f921"
            ]
           ]
          },
          "colorway": [
           "#636efa",
           "#EF553B",
           "#00cc96",
           "#ab63fa",
           "#FFA15A",
           "#19d3f3",
           "#FF6692",
           "#B6E880",
           "#FF97FF",
           "#FECB52"
          ],
          "font": {
           "color": "#2a3f5f"
          },
          "geo": {
           "bgcolor": "white",
           "lakecolor": "white",
           "landcolor": "#E5ECF6",
           "showlakes": true,
           "showland": true,
           "subunitcolor": "white"
          },
          "hoverlabel": {
           "align": "left"
          },
          "hovermode": "closest",
          "mapbox": {
           "style": "light"
          },
          "paper_bgcolor": "white",
          "plot_bgcolor": "#E5ECF6",
          "polar": {
           "angularaxis": {
            "gridcolor": "white",
            "linecolor": "white",
            "ticks": ""
           },
           "bgcolor": "#E5ECF6",
           "radialaxis": {
            "gridcolor": "white",
            "linecolor": "white",
            "ticks": ""
           }
          },
          "scene": {
           "xaxis": {
            "backgroundcolor": "#E5ECF6",
            "gridcolor": "white",
            "gridwidth": 2,
            "linecolor": "white",
            "showbackground": true,
            "ticks": "",
            "zerolinecolor": "white"
           },
           "yaxis": {
            "backgroundcolor": "#E5ECF6",
            "gridcolor": "white",
            "gridwidth": 2,
            "linecolor": "white",
            "showbackground": true,
            "ticks": "",
            "zerolinecolor": "white"
           },
           "zaxis": {
            "backgroundcolor": "#E5ECF6",
            "gridcolor": "white",
            "gridwidth": 2,
            "linecolor": "white",
            "showbackground": true,
            "ticks": "",
            "zerolinecolor": "white"
           }
          },
          "shapedefaults": {
           "line": {
            "color": "#2a3f5f"
           }
          },
          "ternary": {
           "aaxis": {
            "gridcolor": "white",
            "linecolor": "white",
            "ticks": ""
           },
           "baxis": {
            "gridcolor": "white",
            "linecolor": "white",
            "ticks": ""
           },
           "bgcolor": "#E5ECF6",
           "caxis": {
            "gridcolor": "white",
            "linecolor": "white",
            "ticks": ""
           }
          },
          "title": {
           "x": 0.05
          },
          "xaxis": {
           "automargin": true,
           "gridcolor": "white",
           "linecolor": "white",
           "ticks": "",
           "title": {
            "standoff": 15
           },
           "zerolinecolor": "white",
           "zerolinewidth": 2
          },
          "yaxis": {
           "automargin": true,
           "gridcolor": "white",
           "linecolor": "white",
           "ticks": "",
           "title": {
            "standoff": 15
           },
           "zerolinecolor": "white",
           "zerolinewidth": 2
          }
         }
        },
        "title": {
         "text": "Top 10 Total Production, Annual % Change"
        },
        "xaxis": {
         "anchor": "y",
         "domain": [
          0,
          1
         ],
         "title": {
          "text": "Year"
         }
        },
        "yaxis": {
         "anchor": "x",
         "domain": [
          0,
          1
         ],
         "title": {
          "text": "Annual % Change"
         }
        }
       }
      }
     },
     "metadata": {},
     "output_type": "display_data"
    }
   ],
   "source": [
    "# Calculating top producer countries\n",
    "top_producers = coffee_production[['Country', 'Total Production']].groupby(\n",
    "                                                                        'Country'\n",
    "                                                                           ).sum().reset_index().sort_values(by = \n",
    "                                                                            'Total Production', ascending= False)['Country'][:10]\n",
    "# Graphing top producer countries over time\n",
    "time_fig = px.line(export_long_df[(export_long_df['Country'].isin(top_producers)) &\n",
    "                                  (export_long_df['variable']== 'Total Export')],\n",
    "                            x = 'Year', y = 'Annual % Change', color = 'Country', line_dash = 'variable', \n",
    "                            title = 'Top 10 Total Production, Annual % Change')\n",
    "time_fig.show()\n",
    "\n"
   ]
  },
  {
   "cell_type": "code",
   "execution_count": 46,
   "metadata": {},
   "outputs": [
    {
     "data": {
      "application/vnd.plotly.v1+json": {
       "config": {
        "plotlyServerURL": "https://plot.ly"
       },
       "data": [
        {
         "hovertemplate": "Country=Brazil<br>variable=Total Export<br>Year=%{x}<br>Three Rolling Average=%{y}<extra></extra>",
         "legendgroup": "Brazil, Total Export",
         "line": {
          "color": "#636efa",
          "dash": "solid"
         },
         "marker": {
          "symbol": "circle"
         },
         "mode": "lines",
         "name": "Brazil, Total Export",
         "orientation": "v",
         "showlegend": true,
         "type": "scatter",
         "x": [
          2013,
          2014,
          2015,
          2016,
          2017,
          2018,
          2019
         ],
         "xaxis": "x",
         "y": [
          1880120000,
          488172117.3333333,
          -798635765.3333334,
          -746275765.3333334,
          588052117.3333334,
          2016620000,
          615412117.3333334
         ],
         "yaxis": "y"
        },
        {
         "hovertemplate": "Country=Colombia<br>variable=Total Export<br>Year=%{x}<br>Three Rolling Average=%{y}<extra></extra>",
         "legendgroup": "Colombia, Total Export",
         "line": {
          "color": "#EF553B",
          "dash": "solid"
         },
         "marker": {
          "symbol": "circle"
         },
         "mode": "lines",
         "name": "Colombia, Total Export",
         "orientation": "v",
         "showlegend": true,
         "type": "scatter",
         "x": [
          2013,
          2014,
          2015,
          2016,
          2017,
          2018,
          2019
         ],
         "xaxis": "x",
         "y": [
          491480000,
          555880000,
          666800000,
          730020000,
          770640000,
          772480000,
          789300000
         ],
         "yaxis": "y"
        },
        {
         "hovertemplate": "Country=Ethiopia<br>variable=Total Export<br>Year=%{x}<br>Three Rolling Average=%{y}<extra></extra>",
         "legendgroup": "Ethiopia, Total Export",
         "line": {
          "color": "#00cc96",
          "dash": "solid"
         },
         "marker": {
          "symbol": "circle"
         },
         "mode": "lines",
         "name": "Ethiopia, Total Export",
         "orientation": "v",
         "showlegend": true,
         "type": "scatter",
         "x": [
          2013,
          2014,
          2015,
          2016,
          2017,
          2018,
          2019
         ],
         "xaxis": "x",
         "y": [
          174960000,
          183800000,
          179440000,
          182060000,
          195180000,
          207260000,
          225660000
         ],
         "yaxis": "y"
        },
        {
         "hovertemplate": "Country=Guatemala<br>variable=Total Export<br>Year=%{x}<br>Three Rolling Average=%{y}<extra></extra>",
         "legendgroup": "Guatemala, Total Export",
         "line": {
          "color": "#ab63fa",
          "dash": "solid"
         },
         "marker": {
          "symbol": "circle"
         },
         "mode": "lines",
         "name": "Guatemala, Total Export",
         "orientation": "v",
         "showlegend": true,
         "type": "scatter",
         "x": [
          2013,
          2014,
          2015,
          2016,
          2017,
          2018,
          2019
         ],
         "xaxis": "x",
         "y": [
          220440000,
          207360000,
          191580000,
          179900000,
          186700000,
          194020000,
          206460000
         ],
         "yaxis": "y"
        },
        {
         "hovertemplate": "Country=Honduras<br>variable=Total Export<br>Year=%{x}<br>Three Rolling Average=%{y}<extra></extra>",
         "legendgroup": "Honduras, Total Export",
         "line": {
          "color": "#FFA15A",
          "dash": "solid"
         },
         "marker": {
          "symbol": "circle"
         },
         "mode": "lines",
         "name": "Honduras, Total Export",
         "orientation": "v",
         "showlegend": true,
         "type": "scatter",
         "x": [
          2013,
          2014,
          2015,
          2016,
          2017,
          2018,
          2019
         ],
         "xaxis": "x",
         "y": [
          272800000,
          278900000,
          269340000,
          291760000,
          353540000,
          395820000,
          425000000
         ],
         "yaxis": "y"
        },
        {
         "hovertemplate": "Country=India<br>variable=Total Export<br>Year=%{x}<br>Three Rolling Average=%{y}<extra></extra>",
         "legendgroup": "India, Total Export",
         "line": {
          "color": "#19d3f3",
          "dash": "solid"
         },
         "marker": {
          "symbol": "circle"
         },
         "mode": "lines",
         "name": "India, Total Export",
         "orientation": "v",
         "showlegend": true,
         "type": "scatter",
         "x": [
          2013,
          2014,
          2015,
          2016,
          2017,
          2018,
          2019
         ],
         "xaxis": "x",
         "y": [
          309820000,
          304160000,
          308520000,
          329580000,
          357800000,
          371900000,
          370740000
         ],
         "yaxis": "y"
        },
        {
         "hovertemplate": "Country=Indonesia<br>variable=Total Export<br>Year=%{x}<br>Three Rolling Average=%{y}<extra></extra>",
         "legendgroup": "Indonesia, Total Export",
         "line": {
          "color": "#FF6692",
          "dash": "solid"
         },
         "marker": {
          "symbol": "circle"
         },
         "mode": "lines",
         "name": "Indonesia, Total Export",
         "orientation": "v",
         "showlegend": true,
         "type": "scatter",
         "x": [
          2013,
          2014,
          2015,
          2016,
          2017,
          2018,
          2019
         ],
         "xaxis": "x",
         "y": [
          427620000,
          472720000,
          476180000,
          421980000,
          462440000,
          385640000,
          381420000
         ],
         "yaxis": "y"
        },
        {
         "hovertemplate": "Country=Mexico<br>variable=Total Export<br>Year=%{x}<br>Three Rolling Average=%{y}<extra></extra>",
         "legendgroup": "Mexico, Total Export",
         "line": {
          "color": "#B6E880",
          "dash": "solid"
         },
         "marker": {
          "symbol": "circle"
         },
         "mode": "lines",
         "name": "Mexico, Total Export",
         "orientation": "v",
         "showlegend": true,
         "type": "scatter",
         "x": [
          2013,
          2014,
          2015,
          2016,
          2017,
          2018,
          2019
         ],
         "xaxis": "x",
         "y": [
          191900000,
          183360000,
          161400000,
          143420000,
          152040000,
          160640000,
          168520000
         ],
         "yaxis": "y"
        },
        {
         "hovertemplate": "Country=Uganda<br>variable=Total Export<br>Year=%{x}<br>Three Rolling Average=%{y}<extra></extra>",
         "legendgroup": "Uganda, Total Export",
         "line": {
          "color": "#FF97FF",
          "dash": "solid"
         },
         "marker": {
          "symbol": "circle"
         },
         "mode": "lines",
         "name": "Uganda, Total Export",
         "orientation": "v",
         "showlegend": true,
         "type": "scatter",
         "x": [
          2013,
          2014,
          2015,
          2016,
          2017,
          2018,
          2019
         ],
         "xaxis": "x",
         "y": [
          189980000,
          195980000,
          214200000,
          211620000,
          238260000,
          250800000,
          270460000
         ],
         "yaxis": "y"
        },
        {
         "hovertemplate": "Country=Viet Nam<br>variable=Total Export<br>Year=%{x}<br>Three Rolling Average=%{y}<extra></extra>",
         "legendgroup": "Viet Nam, Total Export",
         "line": {
          "color": "#FECB52",
          "dash": "solid"
         },
         "marker": {
          "symbol": "circle"
         },
         "mode": "lines",
         "name": "Viet Nam, Total Export",
         "orientation": "v",
         "showlegend": true,
         "type": "scatter",
         "x": [
          2013,
          2014,
          2015,
          2016,
          2017,
          2018,
          2019
         ],
         "xaxis": "x",
         "y": [
          1207100000,
          1374700000,
          1355180000,
          1555240000,
          1535140000,
          1723960000,
          1677540000
         ],
         "yaxis": "y"
        }
       ],
       "layout": {
        "legend": {
         "title": {
          "text": "Country, variable"
         },
         "tracegroupgap": 0
        },
        "template": {
         "data": {
          "bar": [
           {
            "error_x": {
             "color": "#2a3f5f"
            },
            "error_y": {
             "color": "#2a3f5f"
            },
            "marker": {
             "line": {
              "color": "#E5ECF6",
              "width": 0.5
             },
             "pattern": {
              "fillmode": "overlay",
              "size": 10,
              "solidity": 0.2
             }
            },
            "type": "bar"
           }
          ],
          "barpolar": [
           {
            "marker": {
             "line": {
              "color": "#E5ECF6",
              "width": 0.5
             },
             "pattern": {
              "fillmode": "overlay",
              "size": 10,
              "solidity": 0.2
             }
            },
            "type": "barpolar"
           }
          ],
          "carpet": [
           {
            "aaxis": {
             "endlinecolor": "#2a3f5f",
             "gridcolor": "white",
             "linecolor": "white",
             "minorgridcolor": "white",
             "startlinecolor": "#2a3f5f"
            },
            "baxis": {
             "endlinecolor": "#2a3f5f",
             "gridcolor": "white",
             "linecolor": "white",
             "minorgridcolor": "white",
             "startlinecolor": "#2a3f5f"
            },
            "type": "carpet"
           }
          ],
          "choropleth": [
           {
            "colorbar": {
             "outlinewidth": 0,
             "ticks": ""
            },
            "type": "choropleth"
           }
          ],
          "contour": [
           {
            "colorbar": {
             "outlinewidth": 0,
             "ticks": ""
            },
            "colorscale": [
             [
              0,
              "#0d0887"
             ],
             [
              0.1111111111111111,
              "#46039f"
             ],
             [
              0.2222222222222222,
              "#7201a8"
             ],
             [
              0.3333333333333333,
              "#9c179e"
             ],
             [
              0.4444444444444444,
              "#bd3786"
             ],
             [
              0.5555555555555556,
              "#d8576b"
             ],
             [
              0.6666666666666666,
              "#ed7953"
             ],
             [
              0.7777777777777778,
              "#fb9f3a"
             ],
             [
              0.8888888888888888,
              "#fdca26"
             ],
             [
              1,
              "#f0f921"
             ]
            ],
            "type": "contour"
           }
          ],
          "contourcarpet": [
           {
            "colorbar": {
             "outlinewidth": 0,
             "ticks": ""
            },
            "type": "contourcarpet"
           }
          ],
          "heatmap": [
           {
            "colorbar": {
             "outlinewidth": 0,
             "ticks": ""
            },
            "colorscale": [
             [
              0,
              "#0d0887"
             ],
             [
              0.1111111111111111,
              "#46039f"
             ],
             [
              0.2222222222222222,
              "#7201a8"
             ],
             [
              0.3333333333333333,
              "#9c179e"
             ],
             [
              0.4444444444444444,
              "#bd3786"
             ],
             [
              0.5555555555555556,
              "#d8576b"
             ],
             [
              0.6666666666666666,
              "#ed7953"
             ],
             [
              0.7777777777777778,
              "#fb9f3a"
             ],
             [
              0.8888888888888888,
              "#fdca26"
             ],
             [
              1,
              "#f0f921"
             ]
            ],
            "type": "heatmap"
           }
          ],
          "heatmapgl": [
           {
            "colorbar": {
             "outlinewidth": 0,
             "ticks": ""
            },
            "colorscale": [
             [
              0,
              "#0d0887"
             ],
             [
              0.1111111111111111,
              "#46039f"
             ],
             [
              0.2222222222222222,
              "#7201a8"
             ],
             [
              0.3333333333333333,
              "#9c179e"
             ],
             [
              0.4444444444444444,
              "#bd3786"
             ],
             [
              0.5555555555555556,
              "#d8576b"
             ],
             [
              0.6666666666666666,
              "#ed7953"
             ],
             [
              0.7777777777777778,
              "#fb9f3a"
             ],
             [
              0.8888888888888888,
              "#fdca26"
             ],
             [
              1,
              "#f0f921"
             ]
            ],
            "type": "heatmapgl"
           }
          ],
          "histogram": [
           {
            "marker": {
             "pattern": {
              "fillmode": "overlay",
              "size": 10,
              "solidity": 0.2
             }
            },
            "type": "histogram"
           }
          ],
          "histogram2d": [
           {
            "colorbar": {
             "outlinewidth": 0,
             "ticks": ""
            },
            "colorscale": [
             [
              0,
              "#0d0887"
             ],
             [
              0.1111111111111111,
              "#46039f"
             ],
             [
              0.2222222222222222,
              "#7201a8"
             ],
             [
              0.3333333333333333,
              "#9c179e"
             ],
             [
              0.4444444444444444,
              "#bd3786"
             ],
             [
              0.5555555555555556,
              "#d8576b"
             ],
             [
              0.6666666666666666,
              "#ed7953"
             ],
             [
              0.7777777777777778,
              "#fb9f3a"
             ],
             [
              0.8888888888888888,
              "#fdca26"
             ],
             [
              1,
              "#f0f921"
             ]
            ],
            "type": "histogram2d"
           }
          ],
          "histogram2dcontour": [
           {
            "colorbar": {
             "outlinewidth": 0,
             "ticks": ""
            },
            "colorscale": [
             [
              0,
              "#0d0887"
             ],
             [
              0.1111111111111111,
              "#46039f"
             ],
             [
              0.2222222222222222,
              "#7201a8"
             ],
             [
              0.3333333333333333,
              "#9c179e"
             ],
             [
              0.4444444444444444,
              "#bd3786"
             ],
             [
              0.5555555555555556,
              "#d8576b"
             ],
             [
              0.6666666666666666,
              "#ed7953"
             ],
             [
              0.7777777777777778,
              "#fb9f3a"
             ],
             [
              0.8888888888888888,
              "#fdca26"
             ],
             [
              1,
              "#f0f921"
             ]
            ],
            "type": "histogram2dcontour"
           }
          ],
          "mesh3d": [
           {
            "colorbar": {
             "outlinewidth": 0,
             "ticks": ""
            },
            "type": "mesh3d"
           }
          ],
          "parcoords": [
           {
            "line": {
             "colorbar": {
              "outlinewidth": 0,
              "ticks": ""
             }
            },
            "type": "parcoords"
           }
          ],
          "pie": [
           {
            "automargin": true,
            "type": "pie"
           }
          ],
          "scatter": [
           {
            "fillpattern": {
             "fillmode": "overlay",
             "size": 10,
             "solidity": 0.2
            },
            "type": "scatter"
           }
          ],
          "scatter3d": [
           {
            "line": {
             "colorbar": {
              "outlinewidth": 0,
              "ticks": ""
             }
            },
            "marker": {
             "colorbar": {
              "outlinewidth": 0,
              "ticks": ""
             }
            },
            "type": "scatter3d"
           }
          ],
          "scattercarpet": [
           {
            "marker": {
             "colorbar": {
              "outlinewidth": 0,
              "ticks": ""
             }
            },
            "type": "scattercarpet"
           }
          ],
          "scattergeo": [
           {
            "marker": {
             "colorbar": {
              "outlinewidth": 0,
              "ticks": ""
             }
            },
            "type": "scattergeo"
           }
          ],
          "scattergl": [
           {
            "marker": {
             "colorbar": {
              "outlinewidth": 0,
              "ticks": ""
             }
            },
            "type": "scattergl"
           }
          ],
          "scattermapbox": [
           {
            "marker": {
             "colorbar": {
              "outlinewidth": 0,
              "ticks": ""
             }
            },
            "type": "scattermapbox"
           }
          ],
          "scatterpolar": [
           {
            "marker": {
             "colorbar": {
              "outlinewidth": 0,
              "ticks": ""
             }
            },
            "type": "scatterpolar"
           }
          ],
          "scatterpolargl": [
           {
            "marker": {
             "colorbar": {
              "outlinewidth": 0,
              "ticks": ""
             }
            },
            "type": "scatterpolargl"
           }
          ],
          "scatterternary": [
           {
            "marker": {
             "colorbar": {
              "outlinewidth": 0,
              "ticks": ""
             }
            },
            "type": "scatterternary"
           }
          ],
          "surface": [
           {
            "colorbar": {
             "outlinewidth": 0,
             "ticks": ""
            },
            "colorscale": [
             [
              0,
              "#0d0887"
             ],
             [
              0.1111111111111111,
              "#46039f"
             ],
             [
              0.2222222222222222,
              "#7201a8"
             ],
             [
              0.3333333333333333,
              "#9c179e"
             ],
             [
              0.4444444444444444,
              "#bd3786"
             ],
             [
              0.5555555555555556,
              "#d8576b"
             ],
             [
              0.6666666666666666,
              "#ed7953"
             ],
             [
              0.7777777777777778,
              "#fb9f3a"
             ],
             [
              0.8888888888888888,
              "#fdca26"
             ],
             [
              1,
              "#f0f921"
             ]
            ],
            "type": "surface"
           }
          ],
          "table": [
           {
            "cells": {
             "fill": {
              "color": "#EBF0F8"
             },
             "line": {
              "color": "white"
             }
            },
            "header": {
             "fill": {
              "color": "#C8D4E3"
             },
             "line": {
              "color": "white"
             }
            },
            "type": "table"
           }
          ]
         },
         "layout": {
          "annotationdefaults": {
           "arrowcolor": "#2a3f5f",
           "arrowhead": 0,
           "arrowwidth": 1
          },
          "autotypenumbers": "strict",
          "coloraxis": {
           "colorbar": {
            "outlinewidth": 0,
            "ticks": ""
           }
          },
          "colorscale": {
           "diverging": [
            [
             0,
             "#8e0152"
            ],
            [
             0.1,
             "#c51b7d"
            ],
            [
             0.2,
             "#de77ae"
            ],
            [
             0.3,
             "#f1b6da"
            ],
            [
             0.4,
             "#fde0ef"
            ],
            [
             0.5,
             "#f7f7f7"
            ],
            [
             0.6,
             "#e6f5d0"
            ],
            [
             0.7,
             "#b8e186"
            ],
            [
             0.8,
             "#7fbc41"
            ],
            [
             0.9,
             "#4d9221"
            ],
            [
             1,
             "#276419"
            ]
           ],
           "sequential": [
            [
             0,
             "#0d0887"
            ],
            [
             0.1111111111111111,
             "#46039f"
            ],
            [
             0.2222222222222222,
             "#7201a8"
            ],
            [
             0.3333333333333333,
             "#9c179e"
            ],
            [
             0.4444444444444444,
             "#bd3786"
            ],
            [
             0.5555555555555556,
             "#d8576b"
            ],
            [
             0.6666666666666666,
             "#ed7953"
            ],
            [
             0.7777777777777778,
             "#fb9f3a"
            ],
            [
             0.8888888888888888,
             "#fdca26"
            ],
            [
             1,
             "#f0f921"
            ]
           ],
           "sequentialminus": [
            [
             0,
             "#0d0887"
            ],
            [
             0.1111111111111111,
             "#46039f"
            ],
            [
             0.2222222222222222,
             "#7201a8"
            ],
            [
             0.3333333333333333,
             "#9c179e"
            ],
            [
             0.4444444444444444,
             "#bd3786"
            ],
            [
             0.5555555555555556,
             "#d8576b"
            ],
            [
             0.6666666666666666,
             "#ed7953"
            ],
            [
             0.7777777777777778,
             "#fb9f3a"
            ],
            [
             0.8888888888888888,
             "#fdca26"
            ],
            [
             1,
             "#f0f921"
            ]
           ]
          },
          "colorway": [
           "#636efa",
           "#EF553B",
           "#00cc96",
           "#ab63fa",
           "#FFA15A",
           "#19d3f3",
           "#FF6692",
           "#B6E880",
           "#FF97FF",
           "#FECB52"
          ],
          "font": {
           "color": "#2a3f5f"
          },
          "geo": {
           "bgcolor": "white",
           "lakecolor": "white",
           "landcolor": "#E5ECF6",
           "showlakes": true,
           "showland": true,
           "subunitcolor": "white"
          },
          "hoverlabel": {
           "align": "left"
          },
          "hovermode": "closest",
          "mapbox": {
           "style": "light"
          },
          "paper_bgcolor": "white",
          "plot_bgcolor": "#E5ECF6",
          "polar": {
           "angularaxis": {
            "gridcolor": "white",
            "linecolor": "white",
            "ticks": ""
           },
           "bgcolor": "#E5ECF6",
           "radialaxis": {
            "gridcolor": "white",
            "linecolor": "white",
            "ticks": ""
           }
          },
          "scene": {
           "xaxis": {
            "backgroundcolor": "#E5ECF6",
            "gridcolor": "white",
            "gridwidth": 2,
            "linecolor": "white",
            "showbackground": true,
            "ticks": "",
            "zerolinecolor": "white"
           },
           "yaxis": {
            "backgroundcolor": "#E5ECF6",
            "gridcolor": "white",
            "gridwidth": 2,
            "linecolor": "white",
            "showbackground": true,
            "ticks": "",
            "zerolinecolor": "white"
           },
           "zaxis": {
            "backgroundcolor": "#E5ECF6",
            "gridcolor": "white",
            "gridwidth": 2,
            "linecolor": "white",
            "showbackground": true,
            "ticks": "",
            "zerolinecolor": "white"
           }
          },
          "shapedefaults": {
           "line": {
            "color": "#2a3f5f"
           }
          },
          "ternary": {
           "aaxis": {
            "gridcolor": "white",
            "linecolor": "white",
            "ticks": ""
           },
           "baxis": {
            "gridcolor": "white",
            "linecolor": "white",
            "ticks": ""
           },
           "bgcolor": "#E5ECF6",
           "caxis": {
            "gridcolor": "white",
            "linecolor": "white",
            "ticks": ""
           }
          },
          "title": {
           "x": 0.05
          },
          "xaxis": {
           "automargin": true,
           "gridcolor": "white",
           "linecolor": "white",
           "ticks": "",
           "title": {
            "standoff": 15
           },
           "zerolinecolor": "white",
           "zerolinewidth": 2
          },
          "yaxis": {
           "automargin": true,
           "gridcolor": "white",
           "linecolor": "white",
           "ticks": "",
           "title": {
            "standoff": 15
           },
           "zerolinecolor": "white",
           "zerolinewidth": 2
          }
         }
        },
        "title": {
         "text": "Top 10 Total Production, 3-Year rolling average"
        },
        "xaxis": {
         "anchor": "y",
         "domain": [
          0,
          1
         ],
         "title": {
          "text": "Year"
         }
        },
        "yaxis": {
         "anchor": "x",
         "domain": [
          0,
          1
         ],
         "title": {
          "text": "Three Rolling Average"
         }
        }
       }
      }
     },
     "metadata": {},
     "output_type": "display_data"
    }
   ],
   "source": [
    "# Graphing top producer countries over time\n",
    "time_fig = px.line(export_long_df[(export_long_df['Country'].isin(top_producers)) &\n",
    "                                  (export_long_df['variable']== 'Total Export') &\n",
    "                                  (export_long_df['Year'] > 2012)],\n",
    "                            x = 'Year', y = 'Three Rolling Average', color = 'Country', line_dash = 'variable', \n",
    "                            title = 'Top 10 Total Production, 3-Year rolling average')\n",
    "time_fig.show()\n"
   ]
  },
  {
   "cell_type": "code",
   "execution_count": 47,
   "metadata": {},
   "outputs": [
    {
     "data": {
      "application/vnd.plotly.v1+json": {
       "config": {
        "plotlyServerURL": "https://plot.ly"
       },
       "data": [
        {
         "hovertemplate": "Country=Brazil<br>variable=Domestic Consumption<br>Year=%{x}<br>value=%{y}<extra></extra>",
         "legendgroup": "Brazil, Domestic Consumption",
         "line": {
          "color": "#636efa",
          "dash": "solid"
         },
         "marker": {
          "symbol": "circle"
         },
         "mode": "lines",
         "name": "Brazil, Domestic Consumption",
         "orientation": "v",
         "showlegend": true,
         "type": "scatter",
         "x": [
          1990,
          1991,
          1992,
          1993,
          1994,
          1995,
          1996,
          1997,
          1998,
          1999,
          2000,
          2001,
          2002,
          2003,
          2004,
          2005,
          2006,
          2007,
          2008,
          2009,
          2010,
          2011,
          2012,
          2013,
          2014,
          2015,
          2016,
          2017,
          2018,
          2019
         ],
         "xaxis": "x",
         "y": [
          492000000,
          510000000,
          534000000,
          546000000,
          558000000,
          606000000,
          660000000,
          690000000,
          732000000,
          762000000,
          792000000,
          815400000,
          825000000,
          852000000,
          896760000,
          932280000,
          979860000,
          1026600000,
          1059600000,
          1103400000,
          1147920000,
          1183200000,
          1219800000,
          1205100000,
          1219980000,
          1230480000,
          1273500000,
          1319820000,
          1332000000,
          1320000000
         ],
         "yaxis": "y"
        },
        {
         "hovertemplate": "Country=Brazil<br>variable=Total Export<br>Year=%{x}<br>value=%{y}<extra></extra>",
         "legendgroup": "Brazil, Total Export",
         "line": {
          "color": "#636efa",
          "dash": "dot"
         },
         "marker": {
          "symbol": "circle"
         },
         "mode": "lines",
         "name": "Brazil, Total Export",
         "orientation": "v",
         "showlegend": true,
         "type": "scatter",
         "x": [
          1990,
          1991,
          1992,
          1993,
          1994,
          1995,
          1996,
          1997,
          1998,
          1999,
          2000,
          2001,
          2002,
          2003,
          2004,
          2005,
          2006,
          2007,
          2008,
          2009,
          2010,
          2011,
          2012,
          2013,
          2014,
          2015,
          2016,
          2017,
          2018,
          2019
         ],
         "xaxis": "x",
         "y": [
          1016160000,
          1270980000,
          1127460000,
          1070280000,
          1036380000,
          868080000,
          915060000,
          1008060000,
          1088640000,
          1388940000,
          1080960000,
          1390320000,
          1678920000,
          1542660000,
          1588680000,
          1571880000,
          1642140000,
          1691040000,
          1770600000,
          1822680000,
          1990020000,
          2028360000,
          1712940000,
          1899060000,
          -2147483648,
          -2147483648,
          2056140000,
          1855500000,
          2138220000,
          -2147483648
         ],
         "yaxis": "y"
        },
        {
         "hovertemplate": "Country=Brazil<br>variable=Total Production<br>Year=%{x}<br>value=%{y}<extra></extra>",
         "legendgroup": "Brazil, Total Production",
         "line": {
          "color": "#636efa",
          "dash": "dash"
         },
         "marker": {
          "symbol": "circle"
         },
         "mode": "lines",
         "name": "Brazil, Total Production",
         "orientation": "v",
         "showlegend": true,
         "type": "scatter",
         "x": [
          1990,
          1991,
          1992,
          1993,
          1994,
          1995,
          1996,
          1997,
          1998,
          1999,
          2000,
          2001,
          2002,
          2003,
          2004,
          2005,
          2006,
          2007,
          2008,
          2009,
          2010,
          2011,
          2012,
          2013,
          2014,
          2015,
          2016,
          2017,
          2018,
          2019
         ],
         "xaxis": "x",
         "y": [
          1637160000,
          1637580000,
          2076180000,
          1690020000,
          1691520000,
          1083600000,
          1751820000,
          1568880000,
          2205660000,
          2854680000,
          1878600000,
          1881900000,
          2901120000,
          1732380000,
          2356860000,
          1975980000,
          2905920000,
          2334660000,
          3089460000,
          2638620000,
          3325680000,
          2915520000,
          3325080000,
          3281340000,
          3198300000,
          3172260000,
          3407280000,
          3164400000,
          3907860000,
          3492660000
         ],
         "yaxis": "y"
        },
        {
         "hovertemplate": "Country=Colombia<br>variable=Domestic Consumption<br>Year=%{x}<br>value=%{y}<extra></extra>",
         "legendgroup": "Colombia, Domestic Consumption",
         "line": {
          "color": "#EF553B",
          "dash": "solid"
         },
         "marker": {
          "symbol": "circle"
         },
         "mode": "lines",
         "name": "Colombia, Domestic Consumption",
         "orientation": "v",
         "showlegend": true,
         "type": "scatter",
         "x": [
          1990,
          1991,
          1992,
          1993,
          1994,
          1995,
          1996,
          1997,
          1998,
          1999,
          2000,
          2001,
          2002,
          2003,
          2004,
          2005,
          2006,
          2007,
          2008,
          2009,
          2010,
          2011,
          2012,
          2013,
          2014,
          2015,
          2016,
          2017,
          2018,
          2019
         ],
         "xaxis": "x",
         "y": [
          74100000,
          76140000,
          78180000,
          80340000,
          82500000,
          81540000,
          80580000,
          79680000,
          78720000,
          77820000,
          76920000,
          76020000,
          75120000,
          74220000,
          73380000,
          72540000,
          71677980,
          76855380,
          77430000,
          76468740,
          78661440,
          86103900,
          90854520,
          97021200,
          99927060,
          103222380,
          104186484,
          107596260,
          107484600,
          121486440
         ],
         "yaxis": "y"
        },
        {
         "hovertemplate": "Country=Colombia<br>variable=Total Export<br>Year=%{x}<br>value=%{y}<extra></extra>",
         "legendgroup": "Colombia, Total Export",
         "line": {
          "color": "#EF553B",
          "dash": "dot"
         },
         "marker": {
          "symbol": "circle"
         },
         "mode": "lines",
         "name": "Colombia, Total Export",
         "orientation": "v",
         "showlegend": true,
         "type": "scatter",
         "x": [
          1990,
          1991,
          1992,
          1993,
          1994,
          1995,
          1996,
          1997,
          1998,
          1999,
          2000,
          2001,
          2002,
          2003,
          2004,
          2005,
          2006,
          2007,
          2008,
          2009,
          2010,
          2011,
          2012,
          2013,
          2014,
          2015,
          2016,
          2017,
          2018,
          2019
         ],
         "xaxis": "x",
         "y": [
          836640000,
          755940000,
          993840000,
          814080000,
          706080000,
          588840000,
          635280000,
          655140000,
          675600000,
          599700000,
          550620000,
          596640000,
          616380000,
          614640000,
          611640000,
          652260000,
          656700000,
          678000000,
          665100000,
          473640000,
          469320000,
          464040000,
          430200000,
          580200000,
          657240000,
          762960000,
          769860000,
          779100000,
          768480000,
          820320000
         ],
         "yaxis": "y"
        },
        {
         "hovertemplate": "Country=Colombia<br>variable=Total Production<br>Year=%{x}<br>value=%{y}<extra></extra>",
         "legendgroup": "Colombia, Total Production",
         "line": {
          "color": "#EF553B",
          "dash": "dash"
         },
         "marker": {
          "symbol": "circle"
         },
         "mode": "lines",
         "name": "Colombia, Total Production",
         "orientation": "v",
         "showlegend": true,
         "type": "scatter",
         "x": [
          1990,
          1991,
          1992,
          1993,
          1994,
          1995,
          1996,
          1997,
          1998,
          1999,
          2000,
          2001,
          2002,
          2003,
          2004,
          2005,
          2006,
          2007,
          2008,
          2009,
          2010,
          2011,
          2012,
          2013,
          2014,
          2015,
          2016,
          2017,
          2018,
          2019
         ],
         "xaxis": "x",
         "y": [
          863760000,
          1078800000,
          896820000,
          685320000,
          777840000,
          776280000,
          646740000,
          727320000,
          652080000,
          570720000,
          631140000,
          717000000,
          702720000,
          663180000,
          685740000,
          717120000,
          729840000,
          750900000,
          519840000,
          485880000,
          511380000,
          459180000,
          595620000,
          727440000,
          799980000,
          840540000,
          878040000,
          829440000,
          831960000,
          846000000
         ],
         "yaxis": "y"
        },
        {
         "hovertemplate": "Country=Ethiopia<br>variable=Domestic Consumption<br>Year=%{x}<br>value=%{y}<extra></extra>",
         "legendgroup": "Ethiopia, Domestic Consumption",
         "line": {
          "color": "#00cc96",
          "dash": "solid"
         },
         "marker": {
          "symbol": "circle"
         },
         "mode": "lines",
         "name": "Ethiopia, Domestic Consumption",
         "orientation": "v",
         "showlegend": true,
         "type": "scatter",
         "x": [
          1990,
          1991,
          1992,
          1993,
          1994,
          1995,
          1996,
          1997,
          1998,
          1999,
          2000,
          2001,
          2002,
          2003,
          2004,
          2005,
          2006,
          2007,
          2008,
          2009,
          2010,
          2011,
          2012,
          2013,
          2014,
          2015,
          2016,
          2017,
          2018,
          2019
         ],
         "xaxis": "x",
         "y": [
          72000000,
          75840000,
          79860000,
          84120000,
          88560000,
          93300000,
          98220000,
          103440000,
          108960000,
          114720000,
          120840000,
          127260000,
          134040000,
          141180000,
          148680000,
          156540000,
          164880000,
          173640000,
          182880000,
          186540000,
          190260000,
          194100000,
          197940000,
          201900000,
          205980000,
          210060000,
          214260000,
          218580000,
          221100000,
          226860000
         ],
         "yaxis": "y"
        },
        {
         "hovertemplate": "Country=Ethiopia<br>variable=Total Export<br>Year=%{x}<br>value=%{y}<extra></extra>",
         "legendgroup": "Ethiopia, Total Export",
         "line": {
          "color": "#00cc96",
          "dash": "dot"
         },
         "marker": {
          "symbol": "circle"
         },
         "mode": "lines",
         "name": "Ethiopia, Total Export",
         "orientation": "v",
         "showlegend": true,
         "type": "scatter",
         "x": [
          1990,
          1991,
          1992,
          1993,
          1994,
          1995,
          1996,
          1997,
          1998,
          1999,
          2000,
          2001,
          2002,
          2003,
          2004,
          2005,
          2006,
          2007,
          2008,
          2009,
          2010,
          2011,
          2012,
          2013,
          2014,
          2015,
          2016,
          2017,
          2018,
          2019
         ],
         "xaxis": "x",
         "y": [
          64440000,
          50460000,
          44040000,
          70020000,
          88500000,
          76560000,
          110280000,
          118800000,
          115020000,
          109080000,
          118920000,
          82560000,
          123300000,
          133740000,
          149460000,
          146100000,
          176160000,
          156240000,
          171120000,
          111060000,
          199440000,
          160500000,
          192180000,
          172200000,
          187020000,
          179100000,
          180060000,
          226380000,
          215340000,
          235260000
         ],
         "yaxis": "y"
        },
        {
         "hovertemplate": "Country=Ethiopia<br>variable=Total Production<br>Year=%{x}<br>value=%{y}<extra></extra>",
         "legendgroup": "Ethiopia, Total Production",
         "line": {
          "color": "#00cc96",
          "dash": "dash"
         },
         "marker": {
          "symbol": "circle"
         },
         "mode": "lines",
         "name": "Ethiopia, Total Production",
         "orientation": "v",
         "showlegend": true,
         "type": "scatter",
         "x": [
          1990,
          1991,
          1992,
          1993,
          1994,
          1995,
          1996,
          1997,
          1998,
          1999,
          2000,
          2001,
          2002,
          2003,
          2004,
          2005,
          2006,
          2007,
          2008,
          2009,
          2010,
          2011,
          2012,
          2013,
          2014,
          2015,
          2016,
          2017,
          2018,
          2019
         ],
         "xaxis": "x",
         "y": [
          174540000,
          175500000,
          109500000,
          178020000,
          165780000,
          189900000,
          204420000,
          183420000,
          175680000,
          227040000,
          186900000,
          242640000,
          245640000,
          263640000,
          312780000,
          286740000,
          333060000,
          358020000,
          296940000,
          409800000,
          333600000,
          339000000,
          367920000,
          374520000,
          382980000,
          390900000,
          428580000,
          440820000,
          450660000,
          440580000
         ],
         "yaxis": "y"
        },
        {
         "hovertemplate": "Country=Guatemala<br>variable=Domestic Consumption<br>Year=%{x}<br>value=%{y}<extra></extra>",
         "legendgroup": "Guatemala, Domestic Consumption",
         "line": {
          "color": "#ab63fa",
          "dash": "solid"
         },
         "marker": {
          "symbol": "circle"
         },
         "mode": "lines",
         "name": "Guatemala, Domestic Consumption",
         "orientation": "v",
         "showlegend": true,
         "type": "scatter",
         "x": [
          1990,
          1991,
          1992,
          1993,
          1994,
          1995,
          1996,
          1997,
          1998,
          1999,
          2000,
          2001,
          2002,
          2003,
          2004,
          2005,
          2006,
          2007,
          2008,
          2009,
          2010,
          2011,
          2012,
          2013,
          2014,
          2015,
          2016,
          2017,
          2018,
          2019
         ],
         "xaxis": "x",
         "y": [
          18000000,
          18000000,
          18000000,
          18600000,
          18600000,
          18600000,
          18000000,
          18000000,
          18000000,
          18000000,
          18000000,
          18000000,
          18000000,
          18000000,
          18000000,
          18000000,
          18000000,
          18000000,
          20100000,
          19200000,
          20400000,
          21000000,
          21600000,
          22200000,
          22800000,
          23400000,
          23400000,
          23700000,
          23700000,
          23580000
         ],
         "yaxis": "y"
        },
        {
         "hovertemplate": "Country=Guatemala<br>variable=Total Export<br>Year=%{x}<br>value=%{y}<extra></extra>",
         "legendgroup": "Guatemala, Total Export",
         "line": {
          "color": "#ab63fa",
          "dash": "dot"
         },
         "marker": {
          "symbol": "circle"
         },
         "mode": "lines",
         "name": "Guatemala, Total Export",
         "orientation": "v",
         "showlegend": true,
         "type": "scatter",
         "x": [
          1990,
          1991,
          1992,
          1993,
          1994,
          1995,
          1996,
          1997,
          1998,
          1999,
          2000,
          2001,
          2002,
          2003,
          2004,
          2005,
          2006,
          2007,
          2008,
          2009,
          2010,
          2011,
          2012,
          2013,
          2014,
          2015,
          2016,
          2017,
          2018,
          2019
         ],
         "xaxis": "x",
         "y": [
          194400000,
          169920000,
          199680000,
          225060000,
          196440000,
          222060000,
          238740000,
          254640000,
          212520000,
          280860000,
          291120000,
          246600000,
          209460000,
          229260000,
          198600000,
          207960000,
          198720000,
          223560000,
          226680000,
          209580000,
          208080000,
          221820000,
          225000000,
          214500000,
          182580000,
          177660000,
          179460000,
          202980000,
          199620000,
          216780000
         ],
         "yaxis": "y"
        },
        {
         "hovertemplate": "Country=Guatemala<br>variable=Total Production<br>Year=%{x}<br>value=%{y}<extra></extra>",
         "legendgroup": "Guatemala, Total Production",
         "line": {
          "color": "#ab63fa",
          "dash": "dash"
         },
         "marker": {
          "symbol": "circle"
         },
         "mode": "lines",
         "name": "Guatemala, Total Production",
         "orientation": "v",
         "showlegend": true,
         "type": "scatter",
         "x": [
          1990,
          1991,
          1992,
          1993,
          1994,
          1995,
          1996,
          1997,
          1998,
          1999,
          2000,
          2001,
          2002,
          2003,
          2004,
          2005,
          2006,
          2007,
          2008,
          2009,
          2010,
          2011,
          2012,
          2013,
          2014,
          2015,
          2016,
          2017,
          2018,
          2019
         ],
         "xaxis": "x",
         "y": [
          196260000,
          209820000,
          259080000,
          212160000,
          227220000,
          240120000,
          271500000,
          253140000,
          293580000,
          307200000,
          296400000,
          220140000,
          244200000,
          216600000,
          222180000,
          220560000,
          237000000,
          246000000,
          227100000,
          230100000,
          237000000,
          231000000,
          225780000,
          191340000,
          198600000,
          204600000,
          221040000,
          224040000,
          240420000,
          216360000
         ],
         "yaxis": "y"
        },
        {
         "hovertemplate": "Country=Honduras<br>variable=Domestic Consumption<br>Year=%{x}<br>value=%{y}<extra></extra>",
         "legendgroup": "Honduras, Domestic Consumption",
         "line": {
          "color": "#FFA15A",
          "dash": "solid"
         },
         "marker": {
          "symbol": "circle"
         },
         "mode": "lines",
         "name": "Honduras, Domestic Consumption",
         "orientation": "v",
         "showlegend": true,
         "type": "scatter",
         "x": [
          1990,
          1991,
          1992,
          1993,
          1994,
          1995,
          1996,
          1997,
          1998,
          1999,
          2000,
          2001,
          2002,
          2003,
          2004,
          2005,
          2006,
          2007,
          2008,
          2009,
          2010,
          2011,
          2012,
          2013,
          2014,
          2015,
          2016,
          2017,
          2018,
          2019
         ],
         "xaxis": "x",
         "y": [
          11289240,
          15426000,
          14400000,
          13800000,
          15180000,
          9660000,
          10075440,
          9660000,
          8280000,
          10080000,
          13800000,
          12000000,
          12000000,
          12000000,
          13800000,
          13800000,
          13800000,
          14700000,
          16099980,
          18400020,
          20100000,
          20400000,
          20700000,
          21000000,
          21300000,
          21900000,
          22200000,
          22500000,
          22500000,
          21000000
         ],
         "yaxis": "y"
        },
        {
         "hovertemplate": "Country=Honduras<br>variable=Total Export<br>Year=%{x}<br>value=%{y}<extra></extra>",
         "legendgroup": "Honduras, Total Export",
         "line": {
          "color": "#FFA15A",
          "dash": "dot"
         },
         "marker": {
          "symbol": "circle"
         },
         "mode": "lines",
         "name": "Honduras, Total Export",
         "orientation": "v",
         "showlegend": true,
         "type": "scatter",
         "x": [
          1990,
          1991,
          1992,
          1993,
          1994,
          1995,
          1996,
          1997,
          1998,
          1999,
          2000,
          2001,
          2002,
          2003,
          2004,
          2005,
          2006,
          2007,
          2008,
          2009,
          2010,
          2011,
          2012,
          2013,
          2014,
          2015,
          2016,
          2017,
          2018,
          2019
         ],
         "xaxis": "x",
         "y": [
          104100000,
          86640000,
          117600000,
          102300000,
          103080000,
          107760000,
          123600000,
          103320000,
          139740000,
          119220000,
          172740000,
          143520000,
          162660000,
          145500000,
          166740000,
          143520000,
          173880000,
          198720000,
          195540000,
          185040000,
          200940000,
          236820000,
          330480000,
          251100000,
          255120000,
          301800000,
          318360000,
          440460000,
          428640000,
          405900000
         ],
         "yaxis": "y"
        },
        {
         "hovertemplate": "Country=Honduras<br>variable=Total Production<br>Year=%{x}<br>value=%{y}<extra></extra>",
         "legendgroup": "Honduras, Total Production",
         "line": {
          "color": "#FFA15A",
          "dash": "dash"
         },
         "marker": {
          "symbol": "circle"
         },
         "mode": "lines",
         "name": "Honduras, Total Production",
         "orientation": "v",
         "showlegend": true,
         "type": "scatter",
         "x": [
          1990,
          1991,
          1992,
          1993,
          1994,
          1995,
          1996,
          1997,
          1998,
          1999,
          2000,
          2001,
          2002,
          2003,
          2004,
          2005,
          2006,
          2007,
          2008,
          2009,
          2010,
          2011,
          2012,
          2013,
          2014,
          2015,
          2016,
          2017,
          2018,
          2019
         ],
         "xaxis": "x",
         "y": [
          94080000,
          139320000,
          115080000,
          109740000,
          130860000,
          114540000,
          120240000,
          153840000,
          131700000,
          179100000,
          160020000,
          182160000,
          149760000,
          178080000,
          154500000,
          192240000,
          207660000,
          218400000,
          207000000,
          216180000,
          259860000,
          352920000,
          281160000,
          274980000,
          316080000,
          347160000,
          447420000,
          453600000,
          429180000,
          355860000
         ],
         "yaxis": "y"
        },
        {
         "hovertemplate": "Country=India<br>variable=Domestic Consumption<br>Year=%{x}<br>value=%{y}<extra></extra>",
         "legendgroup": "India, Domestic Consumption",
         "line": {
          "color": "#19d3f3",
          "dash": "solid"
         },
         "marker": {
          "symbol": "circle"
         },
         "mode": "lines",
         "name": "India, Domestic Consumption",
         "orientation": "v",
         "showlegend": true,
         "type": "scatter",
         "x": [
          1990,
          1991,
          1992,
          1993,
          1994,
          1995,
          1996,
          1997,
          1998,
          1999,
          2000,
          2001,
          2002,
          2003,
          2004,
          2005,
          2006,
          2007,
          2008,
          2009,
          2010,
          2011,
          2012,
          2013,
          2014,
          2015,
          2016,
          2017,
          2018,
          2019
         ],
         "xaxis": "x",
         "y": [
          54180000,
          55000020,
          55020000,
          49999980,
          50100000,
          50220000,
          50280000,
          50340000,
          54000000,
          55500000,
          58500000,
          64020000,
          67980000,
          70020000,
          72120000,
          74280000,
          76500000,
          81000000,
          76500000,
          79500000,
          79500000,
          79500000,
          82500000,
          84000000,
          85800000,
          87000000,
          86400000,
          88200000,
          88500000,
          87000000
         ],
         "yaxis": "y"
        },
        {
         "hovertemplate": "Country=India<br>variable=Total Export<br>Year=%{x}<br>value=%{y}<extra></extra>",
         "legendgroup": "India, Total Export",
         "line": {
          "color": "#19d3f3",
          "dash": "dot"
         },
         "marker": {
          "symbol": "circle"
         },
         "mode": "lines",
         "name": "India, Total Export",
         "orientation": "v",
         "showlegend": true,
         "type": "scatter",
         "x": [
          1990,
          1991,
          1992,
          1993,
          1994,
          1995,
          1996,
          1997,
          1998,
          1999,
          2000,
          2001,
          2002,
          2003,
          2004,
          2005,
          2006,
          2007,
          2008,
          2009,
          2010,
          2011,
          2012,
          2013,
          2014,
          2015,
          2016,
          2017,
          2018,
          2019
         ],
         "xaxis": "x",
         "y": [
          118740000,
          103620000,
          108960000,
          126120000,
          149760000,
          148020000,
          186180000,
          158400000,
          209220000,
          217320000,
          253740000,
          223800000,
          213000000,
          222420000,
          218820000,
          169740000,
          214680000,
          199140000,
          202620000,
          180420000,
          278820000,
          324840000,
          302640000,
          301980000,
          307860000,
          315720000,
          365160000,
          392520000,
          358020000,
          361680000
         ],
         "yaxis": "y"
        },
        {
         "hovertemplate": "Country=India<br>variable=Total Production<br>Year=%{x}<br>value=%{y}<extra></extra>",
         "legendgroup": "India, Total Production",
         "line": {
          "color": "#19d3f3",
          "dash": "dash"
         },
         "marker": {
          "symbol": "circle"
         },
         "mode": "lines",
         "name": "India, Total Production",
         "orientation": "v",
         "showlegend": true,
         "type": "scatter",
         "x": [
          1990,
          1991,
          1992,
          1993,
          1994,
          1995,
          1996,
          1997,
          1998,
          1999,
          2000,
          2001,
          2002,
          2003,
          2004,
          2005,
          2006,
          2007,
          2008,
          2009,
          2010,
          2011,
          2012,
          2013,
          2014,
          2015,
          2016,
          2017,
          2018,
          2019
         ],
         "xaxis": "x",
         "y": [
          169740000,
          180000000,
          169380000,
          211980000,
          180120000,
          240720000,
          205020000,
          246540000,
          265020000,
          292020000,
          301200000,
          288600000,
          275280000,
          282480000,
          275460000,
          273960000,
          270000000,
          262020000,
          244320000,
          289620000,
          336000000,
          320040000,
          324180000,
          304500000,
          327000000,
          349800000,
          369660000,
          348780000,
          319500000,
          299280000
         ],
         "yaxis": "y"
        },
        {
         "hovertemplate": "Country=Indonesia<br>variable=Domestic Consumption<br>Year=%{x}<br>value=%{y}<extra></extra>",
         "legendgroup": "Indonesia, Domestic Consumption",
         "line": {
          "color": "#FF6692",
          "dash": "solid"
         },
         "marker": {
          "symbol": "circle"
         },
         "mode": "lines",
         "name": "Indonesia, Domestic Consumption",
         "orientation": "v",
         "showlegend": true,
         "type": "scatter",
         "x": [
          1990,
          1991,
          1992,
          1993,
          1994,
          1995,
          1996,
          1997,
          1998,
          1999,
          2000,
          2001,
          2002,
          2003,
          2004,
          2005,
          2006,
          2007,
          2008,
          2009,
          2010,
          2011,
          2012,
          2013,
          2014,
          2015,
          2016,
          2017,
          2018,
          2019
         ],
         "xaxis": "x",
         "y": [
          74520000,
          76800000,
          79140000,
          81540000,
          84000000,
          86580000,
          89160000,
          91920000,
          94680000,
          97560000,
          100560000,
          120000000,
          106740000,
          109980000,
          120000000,
          150000000,
          169980000,
          199980000,
          199980000,
          199980000,
          199980000,
          220020000,
          234000000,
          255000000,
          265020000,
          273000000,
          279000000,
          285000000,
          288000000,
          288360000
         ],
         "yaxis": "y"
        },
        {
         "hovertemplate": "Country=Indonesia<br>variable=Total Export<br>Year=%{x}<br>value=%{y}<extra></extra>",
         "legendgroup": "Indonesia, Total Export",
         "line": {
          "color": "#FF6692",
          "dash": "dot"
         },
         "marker": {
          "symbol": "circle"
         },
         "mode": "lines",
         "name": "Indonesia, Total Export",
         "orientation": "v",
         "showlegend": true,
         "type": "scatter",
         "x": [
          1990,
          1991,
          1992,
          1993,
          1994,
          1995,
          1996,
          1997,
          1998,
          1999,
          2000,
          2001,
          2002,
          2003,
          2004,
          2005,
          2006,
          2007,
          2008,
          2009,
          2010,
          2011,
          2012,
          2013,
          2014,
          2015,
          2016,
          2017,
          2018,
          2019
         ],
         "xaxis": "x",
         "y": [
          414180000,
          370260000,
          276240000,
          339720000,
          276300000,
          236820000,
          386400000,
          345300000,
          335880000,
          306900000,
          321480000,
          314580000,
          257160000,
          287700000,
          327360000,
          404640000,
          316800000,
          248940000,
          344460000,
          474420000,
          329340000,
          235200000,
          492360000,
          555300000,
          370500000,
          502740000,
          392700000,
          491880000,
          272340000,
          380040000
         ],
         "yaxis": "y"
        },
        {
         "hovertemplate": "Country=Indonesia<br>variable=Total Production<br>Year=%{x}<br>value=%{y}<extra></extra>",
         "legendgroup": "Indonesia, Total Production",
         "line": {
          "color": "#FF6692",
          "dash": "dash"
         },
         "marker": {
          "symbol": "circle"
         },
         "mode": "lines",
         "name": "Indonesia, Total Production",
         "orientation": "v",
         "showlegend": true,
         "type": "scatter",
         "x": [
          1990,
          1991,
          1992,
          1993,
          1994,
          1995,
          1996,
          1997,
          1998,
          1999,
          2000,
          2001,
          2002,
          2003,
          2004,
          2005,
          2006,
          2007,
          2008,
          2009,
          2010,
          2011,
          2012,
          2013,
          2014,
          2015,
          2016,
          2017,
          2018,
          2019
         ],
         "xaxis": "x",
         "y": [
          446460000,
          509580000,
          334140000,
          404580000,
          322080000,
          274380000,
          493260000,
          457260000,
          437760000,
          393420000,
          419220000,
          409980000,
          403860000,
          384240000,
          452160000,
          549540000,
          448980000,
          466620000,
          576720000,
          682800000,
          547740000,
          413340000,
          784200000,
          774060000,
          656760000,
          755100000,
          692460000,
          651120000,
          577080000,
          685980000
         ],
         "yaxis": "y"
        },
        {
         "hovertemplate": "Country=Mexico<br>variable=Domestic Consumption<br>Year=%{x}<br>value=%{y}<extra></extra>",
         "legendgroup": "Mexico, Domestic Consumption",
         "line": {
          "color": "#B6E880",
          "dash": "solid"
         },
         "marker": {
          "symbol": "circle"
         },
         "mode": "lines",
         "name": "Mexico, Domestic Consumption",
         "orientation": "v",
         "showlegend": true,
         "type": "scatter",
         "x": [
          1990,
          1991,
          1992,
          1993,
          1994,
          1995,
          1996,
          1997,
          1998,
          1999,
          2000,
          2001,
          2002,
          2003,
          2004,
          2005,
          2006,
          2007,
          2008,
          2009,
          2010,
          2011,
          2012,
          2013,
          2014,
          2015,
          2016,
          2017,
          2018,
          2019
         ],
         "xaxis": "x",
         "y": [
          82440000,
          72000000,
          78000000,
          64200000,
          61200000,
          70740000,
          74100000,
          72060000,
          66480000,
          69000000,
          78300000,
          90000000,
          90000000,
          90000000,
          90000000,
          103500000,
          120000000,
          132000000,
          132000000,
          132000000,
          141240000,
          141240000,
          141240000,
          139260000,
          140820000,
          139740000,
          141600000,
          144000000,
          147000000,
          145500000
         ],
         "yaxis": "y"
        },
        {
         "hovertemplate": "Country=Mexico<br>variable=Total Export<br>Year=%{x}<br>value=%{y}<extra></extra>",
         "legendgroup": "Mexico, Total Export",
         "line": {
          "color": "#B6E880",
          "dash": "dot"
         },
         "marker": {
          "symbol": "circle"
         },
         "mode": "lines",
         "name": "Mexico, Total Export",
         "orientation": "v",
         "showlegend": true,
         "type": "scatter",
         "x": [
          1990,
          1991,
          1992,
          1993,
          1994,
          1995,
          1996,
          1997,
          1998,
          1999,
          2000,
          2001,
          2002,
          2003,
          2004,
          2005,
          2006,
          2007,
          2008,
          2009,
          2010,
          2011,
          2012,
          2013,
          2014,
          2015,
          2016,
          2017,
          2018,
          2019
         ],
         "xaxis": "x",
         "y": [
          220980000,
          211860000,
          199920000,
          195840000,
          167340000,
          217560000,
          277980000,
          270120000,
          203940000,
          261480000,
          318240000,
          199980000,
          158700000,
          155760000,
          141720000,
          119100000,
          154200000,
          174720000,
          146880000,
          170280000,
          149880000,
          174420000,
          213360000,
          187920000,
          148800000,
          147480000,
          133980000,
          174660000,
          173280000,
          157620000
         ],
         "yaxis": "y"
        },
        {
         "hovertemplate": "Country=Mexico<br>variable=Total Production<br>Year=%{x}<br>value=%{y}<extra></extra>",
         "legendgroup": "Mexico, Total Production",
         "line": {
          "color": "#B6E880",
          "dash": "dash"
         },
         "marker": {
          "symbol": "circle"
         },
         "mode": "lines",
         "name": "Mexico, Total Production",
         "orientation": "v",
         "showlegend": true,
         "type": "scatter",
         "x": [
          1990,
          1991,
          1992,
          1993,
          1994,
          1995,
          1996,
          1997,
          1998,
          1999,
          2000,
          2001,
          2002,
          2003,
          2004,
          2005,
          2006,
          2007,
          2008,
          2009,
          2010,
          2011,
          2012,
          2013,
          2014,
          2015,
          2016,
          2017,
          2018,
          2019
         ],
         "xaxis": "x",
         "y": [
          280440000,
          283620000,
          204060000,
          301380000,
          249540000,
          318000000,
          306600000,
          288120000,
          288060000,
          373140000,
          288900000,
          266280000,
          261060000,
          252060000,
          232020000,
          253500000,
          252000000,
          249000000,
          279060000,
          246540000,
          240060000,
          273660000,
          259620000,
          234960000,
          218160000,
          166320000,
          218100000,
          269100000,
          261060000,
          239100000
         ],
         "yaxis": "y"
        },
        {
         "hovertemplate": "Country=Uganda<br>variable=Domestic Consumption<br>Year=%{x}<br>value=%{y}<extra></extra>",
         "legendgroup": "Uganda, Domestic Consumption",
         "line": {
          "color": "#FF97FF",
          "dash": "solid"
         },
         "marker": {
          "symbol": "circle"
         },
         "mode": "lines",
         "name": "Uganda, Domestic Consumption",
         "orientation": "v",
         "showlegend": true,
         "type": "scatter",
         "x": [
          1990,
          1991,
          1992,
          1993,
          1994,
          1995,
          1996,
          1997,
          1998,
          1999,
          2000,
          2001,
          2002,
          2003,
          2004,
          2005,
          2006,
          2007,
          2008,
          2009,
          2010,
          2011,
          2012,
          2013,
          2014,
          2015,
          2016,
          2017,
          2018,
          2019
         ],
         "xaxis": "x",
         "y": [
          4200000,
          4500000,
          4500000,
          4500000,
          4800000,
          4800000,
          4800000,
          6071400,
          6960000,
          7140000,
          8520000,
          8460000,
          8400000,
          7860000,
          8400000,
          9000000,
          10500000,
          10815000,
          11100000,
          11322000,
          12240000,
          12600000,
          12960000,
          13248000,
          13752000,
          14040000,
          14400000,
          14688000,
          15000000,
          15240000
         ],
         "yaxis": "y"
        },
        {
         "hovertemplate": "Country=Uganda<br>variable=Total Export<br>Year=%{x}<br>value=%{y}<extra></extra>",
         "legendgroup": "Uganda, Total Export",
         "line": {
          "color": "#FF97FF",
          "dash": "dot"
         },
         "marker": {
          "symbol": "circle"
         },
         "mode": "lines",
         "name": "Uganda, Total Export",
         "orientation": "v",
         "showlegend": true,
         "type": "scatter",
         "x": [
          1990,
          1991,
          1992,
          1993,
          1994,
          1995,
          1996,
          1997,
          1998,
          1999,
          2000,
          2001,
          2002,
          2003,
          2004,
          2005,
          2006,
          2007,
          2008,
          2009,
          2010,
          2011,
          2012,
          2013,
          2014,
          2015,
          2016,
          2017,
          2018,
          2019
         ],
         "xaxis": "x",
         "y": [
          141180000,
          125700000,
          117660000,
          109740000,
          202140000,
          184740000,
          279300000,
          210120000,
          197160000,
          230460000,
          150780000,
          183600000,
          201480000,
          151320000,
          157620000,
          142140000,
          130380000,
          161580000,
          198660000,
          180840000,
          159420000,
          188520000,
          161100000,
          220320000,
          206520000,
          215760000,
          212580000,
          286440000,
          253380000,
          271560000
         ],
         "yaxis": "y"
        },
        {
         "hovertemplate": "Country=Uganda<br>variable=Total Production<br>Year=%{x}<br>value=%{y}<extra></extra>",
         "legendgroup": "Uganda, Total Production",
         "line": {
          "color": "#FF97FF",
          "dash": "dash"
         },
         "marker": {
          "symbol": "circle"
         },
         "mode": "lines",
         "name": "Uganda, Total Production",
         "orientation": "v",
         "showlegend": true,
         "type": "scatter",
         "x": [
          1990,
          1991,
          1992,
          1993,
          1994,
          1995,
          1996,
          1997,
          1998,
          1999,
          2000,
          2001,
          2002,
          2003,
          2004,
          2005,
          2006,
          2007,
          2008,
          2009,
          2010,
          2011,
          2012,
          2013,
          2014,
          2015,
          2016,
          2017,
          2018,
          2019
         ],
         "xaxis": "x",
         "y": [
          117300000,
          125280000,
          131100000,
          188520000,
          143580000,
          194640000,
          205140000,
          206400000,
          203160000,
          171720000,
          204060000,
          189480000,
          173400000,
          155940000,
          156780000,
          130500000,
          173640000,
          209400000,
          200100000,
          173640000,
          196020000,
          186900000,
          234840000,
          217980000,
          224640000,
          219000000,
          297720000,
          275820000,
          282240000,
          330540000
         ],
         "yaxis": "y"
        },
        {
         "hovertemplate": "Country=Viet Nam<br>variable=Domestic Consumption<br>Year=%{x}<br>value=%{y}<extra></extra>",
         "legendgroup": "Viet Nam, Domestic Consumption",
         "line": {
          "color": "#FECB52",
          "dash": "solid"
         },
         "marker": {
          "symbol": "circle"
         },
         "mode": "lines",
         "name": "Viet Nam, Domestic Consumption",
         "orientation": "v",
         "showlegend": true,
         "type": "scatter",
         "x": [
          1990,
          1991,
          1992,
          1993,
          1994,
          1995,
          1996,
          1997,
          1998,
          1999,
          2000,
          2001,
          2002,
          2003,
          2004,
          2005,
          2006,
          2007,
          2008,
          2009,
          2010,
          2011,
          2012,
          2013,
          2014,
          2015,
          2016,
          2017,
          2018,
          2019
         ],
         "xaxis": "x",
         "y": [
          9000000,
          13800000,
          15000000,
          16020000,
          16020000,
          16910700,
          17850960,
          18843480,
          19891140,
          21000000,
          24097500,
          27651900,
          31130520,
          36410760,
          41781360,
          48000000,
          55020000,
          56280000,
          61260000,
          72480000,
          94980000,
          99000000,
          109500000,
          120000000,
          132000000,
          138000000,
          144000000,
          150000000,
          156000000,
          159000000
         ],
         "yaxis": "y"
        },
        {
         "hovertemplate": "Country=Viet Nam<br>variable=Total Export<br>Year=%{x}<br>value=%{y}<extra></extra>",
         "legendgroup": "Viet Nam, Total Export",
         "line": {
          "color": "#FECB52",
          "dash": "dot"
         },
         "marker": {
          "symbol": "circle"
         },
         "mode": "lines",
         "name": "Viet Nam, Total Export",
         "orientation": "v",
         "showlegend": true,
         "type": "scatter",
         "x": [
          1990,
          1991,
          1992,
          1993,
          1994,
          1995,
          1996,
          1997,
          1998,
          1999,
          2000,
          2001,
          2002,
          2003,
          2004,
          2005,
          2006,
          2007,
          2008,
          2009,
          2010,
          2011,
          2012,
          2013,
          2014,
          2015,
          2016,
          2017,
          2018,
          2019
         ],
         "xaxis": "x",
         "y": [
          68700000,
          72060000,
          116280000,
          124320000,
          163260000,
          212760000,
          226740000,
          370680000,
          388020000,
          463620000,
          697080000,
          846360000,
          706260000,
          697860000,
          891540000,
          805920000,
          834300000,
          1076160000,
          966060000,
          1023120000,
          853740000,
          1063020000,
          1375200000,
          1183080000,
          1565820000,
          1316640000,
          1783260000,
          1505520000,
          1883100000,
          1644000000
         ],
         "yaxis": "y"
        },
        {
         "hovertemplate": "Country=Viet Nam<br>variable=Total Production<br>Year=%{x}<br>value=%{y}<extra></extra>",
         "legendgroup": "Viet Nam, Total Production",
         "line": {
          "color": "#FECB52",
          "dash": "dash"
         },
         "marker": {
          "symbol": "circle"
         },
         "mode": "lines",
         "name": "Viet Nam, Total Production",
         "orientation": "v",
         "showlegend": true,
         "type": "scatter",
         "x": [
          1990,
          1991,
          1992,
          1993,
          1994,
          1995,
          1996,
          1997,
          1998,
          1999,
          2000,
          2001,
          2002,
          2003,
          2004,
          2005,
          2006,
          2007,
          2008,
          2009,
          2010,
          2011,
          2012,
          2013,
          2014,
          2015,
          2016,
          2017,
          2018,
          2019
         ],
         "xaxis": "x",
         "y": [
          78600000,
          86280000,
          140400000,
          181200000,
          217920000,
          238200000,
          345120000,
          418740000,
          423120000,
          697860000,
          890460000,
          785580000,
          694440000,
          920220000,
          862200000,
          830520000,
          1160400000,
          984300000,
          1106280000,
          1069500000,
          1200000000,
          1590000000,
          1404120000,
          1656600000,
          1634460000,
          1865400000,
          1669140000,
          2005920000,
          1816980000,
          1829220000
         ],
         "yaxis": "y"
        }
       ],
       "layout": {
        "legend": {
         "title": {
          "text": "Country, variable"
         },
         "tracegroupgap": 0
        },
        "template": {
         "data": {
          "bar": [
           {
            "error_x": {
             "color": "#2a3f5f"
            },
            "error_y": {
             "color": "#2a3f5f"
            },
            "marker": {
             "line": {
              "color": "#E5ECF6",
              "width": 0.5
             },
             "pattern": {
              "fillmode": "overlay",
              "size": 10,
              "solidity": 0.2
             }
            },
            "type": "bar"
           }
          ],
          "barpolar": [
           {
            "marker": {
             "line": {
              "color": "#E5ECF6",
              "width": 0.5
             },
             "pattern": {
              "fillmode": "overlay",
              "size": 10,
              "solidity": 0.2
             }
            },
            "type": "barpolar"
           }
          ],
          "carpet": [
           {
            "aaxis": {
             "endlinecolor": "#2a3f5f",
             "gridcolor": "white",
             "linecolor": "white",
             "minorgridcolor": "white",
             "startlinecolor": "#2a3f5f"
            },
            "baxis": {
             "endlinecolor": "#2a3f5f",
             "gridcolor": "white",
             "linecolor": "white",
             "minorgridcolor": "white",
             "startlinecolor": "#2a3f5f"
            },
            "type": "carpet"
           }
          ],
          "choropleth": [
           {
            "colorbar": {
             "outlinewidth": 0,
             "ticks": ""
            },
            "type": "choropleth"
           }
          ],
          "contour": [
           {
            "colorbar": {
             "outlinewidth": 0,
             "ticks": ""
            },
            "colorscale": [
             [
              0,
              "#0d0887"
             ],
             [
              0.1111111111111111,
              "#46039f"
             ],
             [
              0.2222222222222222,
              "#7201a8"
             ],
             [
              0.3333333333333333,
              "#9c179e"
             ],
             [
              0.4444444444444444,
              "#bd3786"
             ],
             [
              0.5555555555555556,
              "#d8576b"
             ],
             [
              0.6666666666666666,
              "#ed7953"
             ],
             [
              0.7777777777777778,
              "#fb9f3a"
             ],
             [
              0.8888888888888888,
              "#fdca26"
             ],
             [
              1,
              "#f0f921"
             ]
            ],
            "type": "contour"
           }
          ],
          "contourcarpet": [
           {
            "colorbar": {
             "outlinewidth": 0,
             "ticks": ""
            },
            "type": "contourcarpet"
           }
          ],
          "heatmap": [
           {
            "colorbar": {
             "outlinewidth": 0,
             "ticks": ""
            },
            "colorscale": [
             [
              0,
              "#0d0887"
             ],
             [
              0.1111111111111111,
              "#46039f"
             ],
             [
              0.2222222222222222,
              "#7201a8"
             ],
             [
              0.3333333333333333,
              "#9c179e"
             ],
             [
              0.4444444444444444,
              "#bd3786"
             ],
             [
              0.5555555555555556,
              "#d8576b"
             ],
             [
              0.6666666666666666,
              "#ed7953"
             ],
             [
              0.7777777777777778,
              "#fb9f3a"
             ],
             [
              0.8888888888888888,
              "#fdca26"
             ],
             [
              1,
              "#f0f921"
             ]
            ],
            "type": "heatmap"
           }
          ],
          "heatmapgl": [
           {
            "colorbar": {
             "outlinewidth": 0,
             "ticks": ""
            },
            "colorscale": [
             [
              0,
              "#0d0887"
             ],
             [
              0.1111111111111111,
              "#46039f"
             ],
             [
              0.2222222222222222,
              "#7201a8"
             ],
             [
              0.3333333333333333,
              "#9c179e"
             ],
             [
              0.4444444444444444,
              "#bd3786"
             ],
             [
              0.5555555555555556,
              "#d8576b"
             ],
             [
              0.6666666666666666,
              "#ed7953"
             ],
             [
              0.7777777777777778,
              "#fb9f3a"
             ],
             [
              0.8888888888888888,
              "#fdca26"
             ],
             [
              1,
              "#f0f921"
             ]
            ],
            "type": "heatmapgl"
           }
          ],
          "histogram": [
           {
            "marker": {
             "pattern": {
              "fillmode": "overlay",
              "size": 10,
              "solidity": 0.2
             }
            },
            "type": "histogram"
           }
          ],
          "histogram2d": [
           {
            "colorbar": {
             "outlinewidth": 0,
             "ticks": ""
            },
            "colorscale": [
             [
              0,
              "#0d0887"
             ],
             [
              0.1111111111111111,
              "#46039f"
             ],
             [
              0.2222222222222222,
              "#7201a8"
             ],
             [
              0.3333333333333333,
              "#9c179e"
             ],
             [
              0.4444444444444444,
              "#bd3786"
             ],
             [
              0.5555555555555556,
              "#d8576b"
             ],
             [
              0.6666666666666666,
              "#ed7953"
             ],
             [
              0.7777777777777778,
              "#fb9f3a"
             ],
             [
              0.8888888888888888,
              "#fdca26"
             ],
             [
              1,
              "#f0f921"
             ]
            ],
            "type": "histogram2d"
           }
          ],
          "histogram2dcontour": [
           {
            "colorbar": {
             "outlinewidth": 0,
             "ticks": ""
            },
            "colorscale": [
             [
              0,
              "#0d0887"
             ],
             [
              0.1111111111111111,
              "#46039f"
             ],
             [
              0.2222222222222222,
              "#7201a8"
             ],
             [
              0.3333333333333333,
              "#9c179e"
             ],
             [
              0.4444444444444444,
              "#bd3786"
             ],
             [
              0.5555555555555556,
              "#d8576b"
             ],
             [
              0.6666666666666666,
              "#ed7953"
             ],
             [
              0.7777777777777778,
              "#fb9f3a"
             ],
             [
              0.8888888888888888,
              "#fdca26"
             ],
             [
              1,
              "#f0f921"
             ]
            ],
            "type": "histogram2dcontour"
           }
          ],
          "mesh3d": [
           {
            "colorbar": {
             "outlinewidth": 0,
             "ticks": ""
            },
            "type": "mesh3d"
           }
          ],
          "parcoords": [
           {
            "line": {
             "colorbar": {
              "outlinewidth": 0,
              "ticks": ""
             }
            },
            "type": "parcoords"
           }
          ],
          "pie": [
           {
            "automargin": true,
            "type": "pie"
           }
          ],
          "scatter": [
           {
            "fillpattern": {
             "fillmode": "overlay",
             "size": 10,
             "solidity": 0.2
            },
            "type": "scatter"
           }
          ],
          "scatter3d": [
           {
            "line": {
             "colorbar": {
              "outlinewidth": 0,
              "ticks": ""
             }
            },
            "marker": {
             "colorbar": {
              "outlinewidth": 0,
              "ticks": ""
             }
            },
            "type": "scatter3d"
           }
          ],
          "scattercarpet": [
           {
            "marker": {
             "colorbar": {
              "outlinewidth": 0,
              "ticks": ""
             }
            },
            "type": "scattercarpet"
           }
          ],
          "scattergeo": [
           {
            "marker": {
             "colorbar": {
              "outlinewidth": 0,
              "ticks": ""
             }
            },
            "type": "scattergeo"
           }
          ],
          "scattergl": [
           {
            "marker": {
             "colorbar": {
              "outlinewidth": 0,
              "ticks": ""
             }
            },
            "type": "scattergl"
           }
          ],
          "scattermapbox": [
           {
            "marker": {
             "colorbar": {
              "outlinewidth": 0,
              "ticks": ""
             }
            },
            "type": "scattermapbox"
           }
          ],
          "scatterpolar": [
           {
            "marker": {
             "colorbar": {
              "outlinewidth": 0,
              "ticks": ""
             }
            },
            "type": "scatterpolar"
           }
          ],
          "scatterpolargl": [
           {
            "marker": {
             "colorbar": {
              "outlinewidth": 0,
              "ticks": ""
             }
            },
            "type": "scatterpolargl"
           }
          ],
          "scatterternary": [
           {
            "marker": {
             "colorbar": {
              "outlinewidth": 0,
              "ticks": ""
             }
            },
            "type": "scatterternary"
           }
          ],
          "surface": [
           {
            "colorbar": {
             "outlinewidth": 0,
             "ticks": ""
            },
            "colorscale": [
             [
              0,
              "#0d0887"
             ],
             [
              0.1111111111111111,
              "#46039f"
             ],
             [
              0.2222222222222222,
              "#7201a8"
             ],
             [
              0.3333333333333333,
              "#9c179e"
             ],
             [
              0.4444444444444444,
              "#bd3786"
             ],
             [
              0.5555555555555556,
              "#d8576b"
             ],
             [
              0.6666666666666666,
              "#ed7953"
             ],
             [
              0.7777777777777778,
              "#fb9f3a"
             ],
             [
              0.8888888888888888,
              "#fdca26"
             ],
             [
              1,
              "#f0f921"
             ]
            ],
            "type": "surface"
           }
          ],
          "table": [
           {
            "cells": {
             "fill": {
              "color": "#EBF0F8"
             },
             "line": {
              "color": "white"
             }
            },
            "header": {
             "fill": {
              "color": "#C8D4E3"
             },
             "line": {
              "color": "white"
             }
            },
            "type": "table"
           }
          ]
         },
         "layout": {
          "annotationdefaults": {
           "arrowcolor": "#2a3f5f",
           "arrowhead": 0,
           "arrowwidth": 1
          },
          "autotypenumbers": "strict",
          "coloraxis": {
           "colorbar": {
            "outlinewidth": 0,
            "ticks": ""
           }
          },
          "colorscale": {
           "diverging": [
            [
             0,
             "#8e0152"
            ],
            [
             0.1,
             "#c51b7d"
            ],
            [
             0.2,
             "#de77ae"
            ],
            [
             0.3,
             "#f1b6da"
            ],
            [
             0.4,
             "#fde0ef"
            ],
            [
             0.5,
             "#f7f7f7"
            ],
            [
             0.6,
             "#e6f5d0"
            ],
            [
             0.7,
             "#b8e186"
            ],
            [
             0.8,
             "#7fbc41"
            ],
            [
             0.9,
             "#4d9221"
            ],
            [
             1,
             "#276419"
            ]
           ],
           "sequential": [
            [
             0,
             "#0d0887"
            ],
            [
             0.1111111111111111,
             "#46039f"
            ],
            [
             0.2222222222222222,
             "#7201a8"
            ],
            [
             0.3333333333333333,
             "#9c179e"
            ],
            [
             0.4444444444444444,
             "#bd3786"
            ],
            [
             0.5555555555555556,
             "#d8576b"
            ],
            [
             0.6666666666666666,
             "#ed7953"
            ],
            [
             0.7777777777777778,
             "#fb9f3a"
            ],
            [
             0.8888888888888888,
             "#fdca26"
            ],
            [
             1,
             "#f0f921"
            ]
           ],
           "sequentialminus": [
            [
             0,
             "#0d0887"
            ],
            [
             0.1111111111111111,
             "#46039f"
            ],
            [
             0.2222222222222222,
             "#7201a8"
            ],
            [
             0.3333333333333333,
             "#9c179e"
            ],
            [
             0.4444444444444444,
             "#bd3786"
            ],
            [
             0.5555555555555556,
             "#d8576b"
            ],
            [
             0.6666666666666666,
             "#ed7953"
            ],
            [
             0.7777777777777778,
             "#fb9f3a"
            ],
            [
             0.8888888888888888,
             "#fdca26"
            ],
            [
             1,
             "#f0f921"
            ]
           ]
          },
          "colorway": [
           "#636efa",
           "#EF553B",
           "#00cc96",
           "#ab63fa",
           "#FFA15A",
           "#19d3f3",
           "#FF6692",
           "#B6E880",
           "#FF97FF",
           "#FECB52"
          ],
          "font": {
           "color": "#2a3f5f"
          },
          "geo": {
           "bgcolor": "white",
           "lakecolor": "white",
           "landcolor": "#E5ECF6",
           "showlakes": true,
           "showland": true,
           "subunitcolor": "white"
          },
          "hoverlabel": {
           "align": "left"
          },
          "hovermode": "closest",
          "mapbox": {
           "style": "light"
          },
          "paper_bgcolor": "white",
          "plot_bgcolor": "#E5ECF6",
          "polar": {
           "angularaxis": {
            "gridcolor": "white",
            "linecolor": "white",
            "ticks": ""
           },
           "bgcolor": "#E5ECF6",
           "radialaxis": {
            "gridcolor": "white",
            "linecolor": "white",
            "ticks": ""
           }
          },
          "scene": {
           "xaxis": {
            "backgroundcolor": "#E5ECF6",
            "gridcolor": "white",
            "gridwidth": 2,
            "linecolor": "white",
            "showbackground": true,
            "ticks": "",
            "zerolinecolor": "white"
           },
           "yaxis": {
            "backgroundcolor": "#E5ECF6",
            "gridcolor": "white",
            "gridwidth": 2,
            "linecolor": "white",
            "showbackground": true,
            "ticks": "",
            "zerolinecolor": "white"
           },
           "zaxis": {
            "backgroundcolor": "#E5ECF6",
            "gridcolor": "white",
            "gridwidth": 2,
            "linecolor": "white",
            "showbackground": true,
            "ticks": "",
            "zerolinecolor": "white"
           }
          },
          "shapedefaults": {
           "line": {
            "color": "#2a3f5f"
           }
          },
          "ternary": {
           "aaxis": {
            "gridcolor": "white",
            "linecolor": "white",
            "ticks": ""
           },
           "baxis": {
            "gridcolor": "white",
            "linecolor": "white",
            "ticks": ""
           },
           "bgcolor": "#E5ECF6",
           "caxis": {
            "gridcolor": "white",
            "linecolor": "white",
            "ticks": ""
           }
          },
          "title": {
           "x": 0.05
          },
          "xaxis": {
           "automargin": true,
           "gridcolor": "white",
           "linecolor": "white",
           "ticks": "",
           "title": {
            "standoff": 15
           },
           "zerolinecolor": "white",
           "zerolinewidth": 2
          },
          "yaxis": {
           "automargin": true,
           "gridcolor": "white",
           "linecolor": "white",
           "ticks": "",
           "title": {
            "standoff": 15
           },
           "zerolinecolor": "white",
           "zerolinewidth": 2
          }
         }
        },
        "title": {
         "text": "Top 10 Producer Countries"
        },
        "xaxis": {
         "anchor": "y",
         "domain": [
          0,
          1
         ],
         "title": {
          "text": "Year"
         }
        },
        "yaxis": {
         "anchor": "x",
         "domain": [
          0,
          1
         ],
         "title": {
          "text": "value"
         }
        }
       }
      }
     },
     "metadata": {},
     "output_type": "display_data"
    }
   ],
   "source": [
    "# Graphing top producer countries over time\n",
    "time_change_fig = px.line(export_long_df[export_long_df['Country'].isin(top_producers)],\n",
    "                            x = 'Year', y = 'value', color = 'Country', line_dash = 'variable', \n",
    "                            title = 'Top 10 Producer Countries')\n",
    "time_change_fig.show()"
   ]
  },
  {
   "cell_type": "markdown",
   "metadata": {},
   "source": [
    "### Creating Import Side Dataframe"
   ]
  },
  {
   "cell_type": "code",
   "execution_count": 48,
   "metadata": {},
   "outputs": [
    {
     "data": {
      "text/html": [
       "<div>\n",
       "<style scoped>\n",
       "    .dataframe tbody tr th:only-of-type {\n",
       "        vertical-align: middle;\n",
       "    }\n",
       "\n",
       "    .dataframe tbody tr th {\n",
       "        vertical-align: top;\n",
       "    }\n",
       "\n",
       "    .dataframe thead th {\n",
       "        text-align: right;\n",
       "    }\n",
       "</style>\n",
       "<table border=\"1\" class=\"dataframe\">\n",
       "  <thead>\n",
       "    <tr style=\"text-align: right;\">\n",
       "      <th></th>\n",
       "      <th>Country</th>\n",
       "      <th>Year</th>\n",
       "      <th>variable</th>\n",
       "      <th>value</th>\n",
       "      <th>Annual % Change</th>\n",
       "    </tr>\n",
       "  </thead>\n",
       "  <tbody>\n",
       "    <tr>\n",
       "      <th>0</th>\n",
       "      <td>Austria</td>\n",
       "      <td>1990</td>\n",
       "      <td>import</td>\n",
       "      <td>112800000</td>\n",
       "      <td>0.000000</td>\n",
       "    </tr>\n",
       "    <tr>\n",
       "      <th>1</th>\n",
       "      <td>Austria</td>\n",
       "      <td>1991</td>\n",
       "      <td>import</td>\n",
       "      <td>123480000</td>\n",
       "      <td>0.094681</td>\n",
       "    </tr>\n",
       "    <tr>\n",
       "      <th>2</th>\n",
       "      <td>Austria</td>\n",
       "      <td>1992</td>\n",
       "      <td>import</td>\n",
       "      <td>132360000</td>\n",
       "      <td>0.071914</td>\n",
       "    </tr>\n",
       "    <tr>\n",
       "      <th>3</th>\n",
       "      <td>Austria</td>\n",
       "      <td>1993</td>\n",
       "      <td>import</td>\n",
       "      <td>110160000</td>\n",
       "      <td>-0.167724</td>\n",
       "    </tr>\n",
       "    <tr>\n",
       "      <th>4</th>\n",
       "      <td>Austria</td>\n",
       "      <td>1994</td>\n",
       "      <td>import</td>\n",
       "      <td>85020000</td>\n",
       "      <td>-0.228214</td>\n",
       "    </tr>\n",
       "    <tr>\n",
       "      <th>5</th>\n",
       "      <td>Austria</td>\n",
       "      <td>1995</td>\n",
       "      <td>import</td>\n",
       "      <td>73860000</td>\n",
       "      <td>-0.131263</td>\n",
       "    </tr>\n",
       "    <tr>\n",
       "      <th>6</th>\n",
       "      <td>Austria</td>\n",
       "      <td>1996</td>\n",
       "      <td>import</td>\n",
       "      <td>72600000</td>\n",
       "      <td>-0.017059</td>\n",
       "    </tr>\n",
       "    <tr>\n",
       "      <th>7</th>\n",
       "      <td>Austria</td>\n",
       "      <td>1997</td>\n",
       "      <td>import</td>\n",
       "      <td>77640000</td>\n",
       "      <td>0.069421</td>\n",
       "    </tr>\n",
       "    <tr>\n",
       "      <th>8</th>\n",
       "      <td>Austria</td>\n",
       "      <td>1998</td>\n",
       "      <td>import</td>\n",
       "      <td>77580000</td>\n",
       "      <td>-0.000773</td>\n",
       "    </tr>\n",
       "    <tr>\n",
       "      <th>9</th>\n",
       "      <td>Austria</td>\n",
       "      <td>1999</td>\n",
       "      <td>import</td>\n",
       "      <td>90000000</td>\n",
       "      <td>0.160093</td>\n",
       "    </tr>\n",
       "  </tbody>\n",
       "</table>\n",
       "</div>"
      ],
      "text/plain": [
       "      Country  Year variable      value  Annual % Change\n",
       "0     Austria  1990   import  112800000         0.000000\n",
       "1     Austria  1991   import  123480000         0.094681\n",
       "2     Austria  1992   import  132360000         0.071914\n",
       "3     Austria  1993   import  110160000        -0.167724\n",
       "4     Austria  1994   import   85020000        -0.228214\n",
       "5     Austria  1995   import   73860000        -0.131263\n",
       "6     Austria  1996   import   72600000        -0.017059\n",
       "7     Austria  1997   import   77640000         0.069421\n",
       "8     Austria  1998   import   77580000        -0.000773\n",
       "9     Austria  1999   import   90000000         0.160093"
      ]
     },
     "execution_count": 48,
     "metadata": {},
     "output_type": "execute_result"
    }
   ],
   "source": [
    "# Loading data and grouping to exclude coffee_type\n",
    "coffee_import = pd.read_csv(base_path + 'Coffee_import.csv').drop(columns = ['Total_import'])\n",
    "coffee_importers_consumption = pd.read_csv(base_path + 'Coffee_importers_consumption.csv').drop(columns = ['Total_import_consumption'])\n",
    "coffee_reexport = pd.read_csv(base_path + 'Coffee_re_export.csv').drop(columns = ['Total_re_export'])\n",
    "\n",
    "# Pivoting dataframes long and \n",
    "coffee_import = pd.melt(coffee_import, id_vars=['Country']).rename(columns = {'variable': 'Year',\n",
    "                                                                                'value': 'import'}).groupby(['Country', 'Year']).sum().reset_index()\n",
    "coffee_importers_consumption = pd.melt(coffee_importers_consumption, id_vars=['Country']).rename(columns = {'variable': 'Year',\n",
    "                                                                                'value': 'import consumption'}).groupby(['Country', 'Year']).sum().reset_index()\n",
    "coffee_reexport = pd.melt(coffee_reexport, id_vars=['Country']).rename(columns = {'variable': 'Year',\n",
    "                                                                                  'value': 're-export'}).groupby(['Country', 'Year']).sum().reset_index()\n",
    "\n",
    "# Merging\n",
    "import_df = coffee_import.merge(coffee_importers_consumption, left_on=['Country',  'Year'], \n",
    "                                    right_on=['Country',  'Year'])\n",
    "import_df['Year'] = import_df['Year'].str[:4]\n",
    "import_df = import_df.merge(coffee_reexport, left_on=['Country',  'Year'], \n",
    "                                    right_on=['Country', 'Year'])\n",
    "\n",
    "# Pivoting long and adding average change measure\n",
    "import_long_df = import_df.melt(id_vars=['Country', 'Year']).sort_values(by = ['Country', 'variable', 'Year'])\n",
    "import_long_df['Annual % Change'] = import_long_df['value'].pct_change()\n",
    "import_long_df = import_long_df.fillna(0)\n",
    "import_long_df['Annual % Change'] = np.where(import_long_df['Year'] == 1990, 0, import_long_df['Annual % Change'])\n",
    "import_long_df.head(10)"
   ]
  },
  {
   "cell_type": "code",
   "execution_count": 49,
   "metadata": {},
   "outputs": [
    {
     "data": {
      "application/vnd.plotly.v1+json": {
       "config": {
        "plotlyServerURL": "https://plot.ly"
       },
       "data": [
        {
         "alignmentgroup": "True",
         "hovertemplate": "variable=Total Production<br>Country=%{x}<br>value=%{y}<extra></extra>",
         "legendgroup": "Total Production",
         "marker": {
          "color": "#636efa",
          "pattern": {
           "shape": ""
          }
         },
         "name": "Total Production",
         "offsetgroup": "Total Production",
         "orientation": "v",
         "showlegend": true,
         "textposition": "auto",
         "type": "bar",
         "x": [
          "Brazil",
          "Viet Nam",
          "Colombia",
          "Indonesia",
          "Ethiopia",
          "India",
          "Mexico",
          "Guatemala",
          "Honduras",
          "Uganda",
          "Peru",
          "Côte d'Ivoire",
          "Costa Rica",
          "El Salvador",
          "Nicaragua",
          "Venezuela",
          "Ecuador",
          "Papua New Guinea",
          "Kenya",
          "Thailand",
          "Tanzania",
          "Cameroon",
          "Democratic Republic of Congo",
          "Madagascar",
          "Dominican Republic",
          "Philippines",
          "Haiti",
          "Burundi",
          "Lao People's Democratic Republic",
          "Rwanda",
          "Guinea",
          "Cuba",
          "Togo",
          "Panama",
          "Bolivia (Plurinational State of)",
          "Yemen",
          "Central African Republic",
          "Zimbabwe",
          "Sierra Leone",
          "Malawi",
          "Angola",
          "Nigeria",
          "Zambia",
          "Sri Lanka",
          "Timor-Leste",
          "Ghana",
          "Paraguay",
          "Jamaica",
          "Trinidad & Tobago",
          "Liberia",
          "Guyana",
          "Congo",
          "Gabon",
          "Nepal",
          "Equatorial Guinea"
         ],
         "xaxis": "x",
         "y": [
          75082980000,
          28803180000,
          21598620000,
          15404880000,
          8669520000,
          8222220000,
          7853520000,
          7020540000,
          6672720000,
          5919480000,
          5317620000,
          4761420000,
          3596700000,
          2820900000,
          2749380000,
          1992780000,
          1900380000,
          1803120000,
          1768320000,
          1674000000,
          1474680000,
          1358640000,
          1051080000,
          1045560000,
          909540000,
          890700000,
          698880000,
          623640000,
          568080000,
          567540000,
          482460000,
          359160000,
          281400000,
          280980000,
          207000000,
          190920000,
          184020000,
          132120000,
          87180000,
          82260000,
          82080000,
          81900000,
          76800000,
          73860000,
          68640000,
          63660000,
          62220000,
          54000000,
          25740000,
          14880000,
          10800000,
          6900000,
          2700000,
          1440000,
          1080000
         ],
         "yaxis": "y"
        },
        {
         "alignmentgroup": "True",
         "hovertemplate": "variable=Total Export<br>Country=%{x}<br>value=%{y}<extra></extra>",
         "legendgroup": "Total Export",
         "marker": {
          "color": "#EF553B",
          "pattern": {
           "shape": ""
          }
         },
         "name": "Total Export",
         "offsetgroup": "Total Export",
         "orientation": "v",
         "showlegend": true,
         "textposition": "auto",
         "type": "bar",
         "x": [
          "Brazil",
          "Viet Nam",
          "Colombia",
          "Indonesia",
          "India",
          "Guatemala",
          "Honduras",
          "Uganda",
          "Mexico",
          "Peru",
          "Côte d'Ivoire",
          "Ethiopia",
          "Costa Rica",
          "El Salvador",
          "Nicaragua",
          "Ecuador",
          "Papua New Guinea",
          "Kenya",
          "Tanzania",
          "Cameroon",
          "Thailand",
          "Democratic Republic of Congo",
          "Burundi",
          "Rwanda",
          "Madagascar",
          "Lao People's Democratic Republic",
          "Guinea",
          "Dominican Republic",
          "Togo",
          "Venezuela",
          "Central African Republic",
          "Panama",
          "Bolivia (Plurinational State of)",
          "Zimbabwe",
          "Cuba",
          "Haiti",
          "Yemen",
          "Sierra Leone",
          "Malawi",
          "Zambia",
          "Timor-Leste",
          "Ghana",
          "Philippines",
          "Paraguay",
          "Angola",
          "Jamaica",
          "Sri Lanka",
          "Nigeria",
          "Liberia",
          "Trinidad & Tobago",
          "Congo",
          "Guyana",
          "Gabon",
          "Nepal",
          "Equatorial Guinea"
         ],
         "xaxis": "x",
         "y": [
          33807709056,
          24924480000,
          19878480000,
          10607940000,
          6933960000,
          6464340000,
          5964840000,
          5632200000,
          5628000000,
          4903920000,
          4721640000,
          4163340000,
          2991840000,
          2716980000,
          2388360000,
          1971720000,
          1814100000,
          1771380000,
          1432320000,
          1399920000,
          970620000,
          775560000,
          646200000,
          578700000,
          504120000,
          457620000,
          397140000,
          316080000,
          291420000,
          241260000,
          170700000,
          161520000,
          137460000,
          136080000,
          111720000,
          108060000,
          101220000,
          90060000,
          83340000,
          76260000,
          68040000,
          53640000,
          52440000,
          46740000,
          43320000,
          35220000,
          16020000,
          11400000,
          7680000,
          6480000,
          2400000,
          2400000,
          1800000,
          1560000,
          1500000
         ],
         "yaxis": "y"
        },
        {
         "alignmentgroup": "True",
         "hovertemplate": "variable=Domestic Consumption<br>Country=%{x}<br>value=%{y}<extra></extra>",
         "legendgroup": "Domestic Consumption",
         "marker": {
          "color": "#00cc96",
          "pattern": {
           "shape": ""
          }
         },
         "name": "Domestic Consumption",
         "offsetgroup": "Domestic Consumption",
         "orientation": "v",
         "showlegend": true,
         "textposition": "auto",
         "type": "bar",
         "x": [
          "Brazil",
          "Indonesia",
          "Ethiopia",
          "Mexico",
          "Philippines",
          "Colombia",
          "Venezuela",
          "India",
          "Viet Nam",
          "Thailand",
          "Costa Rica",
          "Dominican Republic",
          "Haiti",
          "Guatemala",
          "Madagascar",
          "Honduras",
          "El Salvador",
          "Côte d'Ivoire",
          "Peru",
          "Cuba",
          "Ecuador",
          "Democratic Republic of Congo",
          "Nicaragua",
          "Uganda",
          "Lao People's Democratic Republic",
          "Cameroon",
          "Panama",
          "Yemen",
          "Kenya",
          "Guinea",
          "Tanzania",
          "Bolivia (Plurinational State of)",
          "Nigeria",
          "Sri Lanka",
          "Angola",
          "Paraguay",
          "Central African Republic",
          "Trinidad & Tobago",
          "Jamaica",
          "Sierra Leone",
          "Ghana",
          "Guyana",
          "Liberia",
          "Zimbabwe",
          "Congo",
          "Papua New Guinea",
          "Burundi",
          "Malawi",
          "Togo",
          "Rwanda",
          "Gabon",
          "Zambia",
          "Timor-Leste",
          "Equatorial Guinea",
          "Nepal"
         ],
         "xaxis": "x",
         "y": [
          27824700000,
          4920480000,
          4536540000,
          3189660000,
          2807280000,
          2536776384,
          2386067999,
          2093460000,
          1920928320,
          1248600000,
          665335200,
          642823380,
          600600000,
          590880000,
          588705960,
          471850680,
          417242040,
          410260140,
          402000000,
          384006000,
          381540000,
          359880000,
          299700300,
          284816400,
          157980000,
          143450940,
          122916960,
          121620000,
          95190000,
          86730000,
          76425060,
          75180000,
          70740000,
          58300020,
          46500000,
          35100000,
          24794400,
          21090000,
          18688020,
          10080000,
          9970800,
          9203040,
          8640000,
          8595960,
          5360040,
          3608400,
          3412020,
          2340000,
          2167620,
          2139960,
          1123140,
          991920,
          294000,
          0,
          0
         ],
         "yaxis": "y"
        }
       ],
       "layout": {
        "barmode": "relative",
        "legend": {
         "title": {
          "text": "variable"
         },
         "tracegroupgap": 0
        },
        "template": {
         "data": {
          "bar": [
           {
            "error_x": {
             "color": "#2a3f5f"
            },
            "error_y": {
             "color": "#2a3f5f"
            },
            "marker": {
             "line": {
              "color": "#E5ECF6",
              "width": 0.5
             },
             "pattern": {
              "fillmode": "overlay",
              "size": 10,
              "solidity": 0.2
             }
            },
            "type": "bar"
           }
          ],
          "barpolar": [
           {
            "marker": {
             "line": {
              "color": "#E5ECF6",
              "width": 0.5
             },
             "pattern": {
              "fillmode": "overlay",
              "size": 10,
              "solidity": 0.2
             }
            },
            "type": "barpolar"
           }
          ],
          "carpet": [
           {
            "aaxis": {
             "endlinecolor": "#2a3f5f",
             "gridcolor": "white",
             "linecolor": "white",
             "minorgridcolor": "white",
             "startlinecolor": "#2a3f5f"
            },
            "baxis": {
             "endlinecolor": "#2a3f5f",
             "gridcolor": "white",
             "linecolor": "white",
             "minorgridcolor": "white",
             "startlinecolor": "#2a3f5f"
            },
            "type": "carpet"
           }
          ],
          "choropleth": [
           {
            "colorbar": {
             "outlinewidth": 0,
             "ticks": ""
            },
            "type": "choropleth"
           }
          ],
          "contour": [
           {
            "colorbar": {
             "outlinewidth": 0,
             "ticks": ""
            },
            "colorscale": [
             [
              0,
              "#0d0887"
             ],
             [
              0.1111111111111111,
              "#46039f"
             ],
             [
              0.2222222222222222,
              "#7201a8"
             ],
             [
              0.3333333333333333,
              "#9c179e"
             ],
             [
              0.4444444444444444,
              "#bd3786"
             ],
             [
              0.5555555555555556,
              "#d8576b"
             ],
             [
              0.6666666666666666,
              "#ed7953"
             ],
             [
              0.7777777777777778,
              "#fb9f3a"
             ],
             [
              0.8888888888888888,
              "#fdca26"
             ],
             [
              1,
              "#f0f921"
             ]
            ],
            "type": "contour"
           }
          ],
          "contourcarpet": [
           {
            "colorbar": {
             "outlinewidth": 0,
             "ticks": ""
            },
            "type": "contourcarpet"
           }
          ],
          "heatmap": [
           {
            "colorbar": {
             "outlinewidth": 0,
             "ticks": ""
            },
            "colorscale": [
             [
              0,
              "#0d0887"
             ],
             [
              0.1111111111111111,
              "#46039f"
             ],
             [
              0.2222222222222222,
              "#7201a8"
             ],
             [
              0.3333333333333333,
              "#9c179e"
             ],
             [
              0.4444444444444444,
              "#bd3786"
             ],
             [
              0.5555555555555556,
              "#d8576b"
             ],
             [
              0.6666666666666666,
              "#ed7953"
             ],
             [
              0.7777777777777778,
              "#fb9f3a"
             ],
             [
              0.8888888888888888,
              "#fdca26"
             ],
             [
              1,
              "#f0f921"
             ]
            ],
            "type": "heatmap"
           }
          ],
          "heatmapgl": [
           {
            "colorbar": {
             "outlinewidth": 0,
             "ticks": ""
            },
            "colorscale": [
             [
              0,
              "#0d0887"
             ],
             [
              0.1111111111111111,
              "#46039f"
             ],
             [
              0.2222222222222222,
              "#7201a8"
             ],
             [
              0.3333333333333333,
              "#9c179e"
             ],
             [
              0.4444444444444444,
              "#bd3786"
             ],
             [
              0.5555555555555556,
              "#d8576b"
             ],
             [
              0.6666666666666666,
              "#ed7953"
             ],
             [
              0.7777777777777778,
              "#fb9f3a"
             ],
             [
              0.8888888888888888,
              "#fdca26"
             ],
             [
              1,
              "#f0f921"
             ]
            ],
            "type": "heatmapgl"
           }
          ],
          "histogram": [
           {
            "marker": {
             "pattern": {
              "fillmode": "overlay",
              "size": 10,
              "solidity": 0.2
             }
            },
            "type": "histogram"
           }
          ],
          "histogram2d": [
           {
            "colorbar": {
             "outlinewidth": 0,
             "ticks": ""
            },
            "colorscale": [
             [
              0,
              "#0d0887"
             ],
             [
              0.1111111111111111,
              "#46039f"
             ],
             [
              0.2222222222222222,
              "#7201a8"
             ],
             [
              0.3333333333333333,
              "#9c179e"
             ],
             [
              0.4444444444444444,
              "#bd3786"
             ],
             [
              0.5555555555555556,
              "#d8576b"
             ],
             [
              0.6666666666666666,
              "#ed7953"
             ],
             [
              0.7777777777777778,
              "#fb9f3a"
             ],
             [
              0.8888888888888888,
              "#fdca26"
             ],
             [
              1,
              "#f0f921"
             ]
            ],
            "type": "histogram2d"
           }
          ],
          "histogram2dcontour": [
           {
            "colorbar": {
             "outlinewidth": 0,
             "ticks": ""
            },
            "colorscale": [
             [
              0,
              "#0d0887"
             ],
             [
              0.1111111111111111,
              "#46039f"
             ],
             [
              0.2222222222222222,
              "#7201a8"
             ],
             [
              0.3333333333333333,
              "#9c179e"
             ],
             [
              0.4444444444444444,
              "#bd3786"
             ],
             [
              0.5555555555555556,
              "#d8576b"
             ],
             [
              0.6666666666666666,
              "#ed7953"
             ],
             [
              0.7777777777777778,
              "#fb9f3a"
             ],
             [
              0.8888888888888888,
              "#fdca26"
             ],
             [
              1,
              "#f0f921"
             ]
            ],
            "type": "histogram2dcontour"
           }
          ],
          "mesh3d": [
           {
            "colorbar": {
             "outlinewidth": 0,
             "ticks": ""
            },
            "type": "mesh3d"
           }
          ],
          "parcoords": [
           {
            "line": {
             "colorbar": {
              "outlinewidth": 0,
              "ticks": ""
             }
            },
            "type": "parcoords"
           }
          ],
          "pie": [
           {
            "automargin": true,
            "type": "pie"
           }
          ],
          "scatter": [
           {
            "fillpattern": {
             "fillmode": "overlay",
             "size": 10,
             "solidity": 0.2
            },
            "type": "scatter"
           }
          ],
          "scatter3d": [
           {
            "line": {
             "colorbar": {
              "outlinewidth": 0,
              "ticks": ""
             }
            },
            "marker": {
             "colorbar": {
              "outlinewidth": 0,
              "ticks": ""
             }
            },
            "type": "scatter3d"
           }
          ],
          "scattercarpet": [
           {
            "marker": {
             "colorbar": {
              "outlinewidth": 0,
              "ticks": ""
             }
            },
            "type": "scattercarpet"
           }
          ],
          "scattergeo": [
           {
            "marker": {
             "colorbar": {
              "outlinewidth": 0,
              "ticks": ""
             }
            },
            "type": "scattergeo"
           }
          ],
          "scattergl": [
           {
            "marker": {
             "colorbar": {
              "outlinewidth": 0,
              "ticks": ""
             }
            },
            "type": "scattergl"
           }
          ],
          "scattermapbox": [
           {
            "marker": {
             "colorbar": {
              "outlinewidth": 0,
              "ticks": ""
             }
            },
            "type": "scattermapbox"
           }
          ],
          "scatterpolar": [
           {
            "marker": {
             "colorbar": {
              "outlinewidth": 0,
              "ticks": ""
             }
            },
            "type": "scatterpolar"
           }
          ],
          "scatterpolargl": [
           {
            "marker": {
             "colorbar": {
              "outlinewidth": 0,
              "ticks": ""
             }
            },
            "type": "scatterpolargl"
           }
          ],
          "scatterternary": [
           {
            "marker": {
             "colorbar": {
              "outlinewidth": 0,
              "ticks": ""
             }
            },
            "type": "scatterternary"
           }
          ],
          "surface": [
           {
            "colorbar": {
             "outlinewidth": 0,
             "ticks": ""
            },
            "colorscale": [
             [
              0,
              "#0d0887"
             ],
             [
              0.1111111111111111,
              "#46039f"
             ],
             [
              0.2222222222222222,
              "#7201a8"
             ],
             [
              0.3333333333333333,
              "#9c179e"
             ],
             [
              0.4444444444444444,
              "#bd3786"
             ],
             [
              0.5555555555555556,
              "#d8576b"
             ],
             [
              0.6666666666666666,
              "#ed7953"
             ],
             [
              0.7777777777777778,
              "#fb9f3a"
             ],
             [
              0.8888888888888888,
              "#fdca26"
             ],
             [
              1,
              "#f0f921"
             ]
            ],
            "type": "surface"
           }
          ],
          "table": [
           {
            "cells": {
             "fill": {
              "color": "#EBF0F8"
             },
             "line": {
              "color": "white"
             }
            },
            "header": {
             "fill": {
              "color": "#C8D4E3"
             },
             "line": {
              "color": "white"
             }
            },
            "type": "table"
           }
          ]
         },
         "layout": {
          "annotationdefaults": {
           "arrowcolor": "#2a3f5f",
           "arrowhead": 0,
           "arrowwidth": 1
          },
          "autotypenumbers": "strict",
          "coloraxis": {
           "colorbar": {
            "outlinewidth": 0,
            "ticks": ""
           }
          },
          "colorscale": {
           "diverging": [
            [
             0,
             "#8e0152"
            ],
            [
             0.1,
             "#c51b7d"
            ],
            [
             0.2,
             "#de77ae"
            ],
            [
             0.3,
             "#f1b6da"
            ],
            [
             0.4,
             "#fde0ef"
            ],
            [
             0.5,
             "#f7f7f7"
            ],
            [
             0.6,
             "#e6f5d0"
            ],
            [
             0.7,
             "#b8e186"
            ],
            [
             0.8,
             "#7fbc41"
            ],
            [
             0.9,
             "#4d9221"
            ],
            [
             1,
             "#276419"
            ]
           ],
           "sequential": [
            [
             0,
             "#0d0887"
            ],
            [
             0.1111111111111111,
             "#46039f"
            ],
            [
             0.2222222222222222,
             "#7201a8"
            ],
            [
             0.3333333333333333,
             "#9c179e"
            ],
            [
             0.4444444444444444,
             "#bd3786"
            ],
            [
             0.5555555555555556,
             "#d8576b"
            ],
            [
             0.6666666666666666,
             "#ed7953"
            ],
            [
             0.7777777777777778,
             "#fb9f3a"
            ],
            [
             0.8888888888888888,
             "#fdca26"
            ],
            [
             1,
             "#f0f921"
            ]
           ],
           "sequentialminus": [
            [
             0,
             "#0d0887"
            ],
            [
             0.1111111111111111,
             "#46039f"
            ],
            [
             0.2222222222222222,
             "#7201a8"
            ],
            [
             0.3333333333333333,
             "#9c179e"
            ],
            [
             0.4444444444444444,
             "#bd3786"
            ],
            [
             0.5555555555555556,
             "#d8576b"
            ],
            [
             0.6666666666666666,
             "#ed7953"
            ],
            [
             0.7777777777777778,
             "#fb9f3a"
            ],
            [
             0.8888888888888888,
             "#fdca26"
            ],
            [
             1,
             "#f0f921"
            ]
           ]
          },
          "colorway": [
           "#636efa",
           "#EF553B",
           "#00cc96",
           "#ab63fa",
           "#FFA15A",
           "#19d3f3",
           "#FF6692",
           "#B6E880",
           "#FF97FF",
           "#FECB52"
          ],
          "font": {
           "color": "#2a3f5f"
          },
          "geo": {
           "bgcolor": "white",
           "lakecolor": "white",
           "landcolor": "#E5ECF6",
           "showlakes": true,
           "showland": true,
           "subunitcolor": "white"
          },
          "hoverlabel": {
           "align": "left"
          },
          "hovermode": "closest",
          "mapbox": {
           "style": "light"
          },
          "paper_bgcolor": "white",
          "plot_bgcolor": "#E5ECF6",
          "polar": {
           "angularaxis": {
            "gridcolor": "white",
            "linecolor": "white",
            "ticks": ""
           },
           "bgcolor": "#E5ECF6",
           "radialaxis": {
            "gridcolor": "white",
            "linecolor": "white",
            "ticks": ""
           }
          },
          "scene": {
           "xaxis": {
            "backgroundcolor": "#E5ECF6",
            "gridcolor": "white",
            "gridwidth": 2,
            "linecolor": "white",
            "showbackground": true,
            "ticks": "",
            "zerolinecolor": "white"
           },
           "yaxis": {
            "backgroundcolor": "#E5ECF6",
            "gridcolor": "white",
            "gridwidth": 2,
            "linecolor": "white",
            "showbackground": true,
            "ticks": "",
            "zerolinecolor": "white"
           },
           "zaxis": {
            "backgroundcolor": "#E5ECF6",
            "gridcolor": "white",
            "gridwidth": 2,
            "linecolor": "white",
            "showbackground": true,
            "ticks": "",
            "zerolinecolor": "white"
           }
          },
          "shapedefaults": {
           "line": {
            "color": "#2a3f5f"
           }
          },
          "ternary": {
           "aaxis": {
            "gridcolor": "white",
            "linecolor": "white",
            "ticks": ""
           },
           "baxis": {
            "gridcolor": "white",
            "linecolor": "white",
            "ticks": ""
           },
           "bgcolor": "#E5ECF6",
           "caxis": {
            "gridcolor": "white",
            "linecolor": "white",
            "ticks": ""
           }
          },
          "title": {
           "x": 0.05
          },
          "xaxis": {
           "automargin": true,
           "gridcolor": "white",
           "linecolor": "white",
           "ticks": "",
           "title": {
            "standoff": 15
           },
           "zerolinecolor": "white",
           "zerolinewidth": 2
          },
          "yaxis": {
           "automargin": true,
           "gridcolor": "white",
           "linecolor": "white",
           "ticks": "",
           "title": {
            "standoff": 15
           },
           "zerolinecolor": "white",
           "zerolinewidth": 2
          }
         }
        },
        "title": {
         "text": "Total Consumption and Production by Country"
        },
        "xaxis": {
         "anchor": "y",
         "domain": [
          0,
          1
         ],
         "title": {
          "text": "Country"
         }
        },
        "yaxis": {
         "anchor": "x",
         "domain": [
          0,
          1
         ],
         "title": {
          "text": "value"
         }
        }
       }
      }
     },
     "metadata": {},
     "output_type": "display_data"
    }
   ],
   "source": [
    "import_agg_df = export_long_df[['Country', 'variable', 'value']].groupby(['Country', 'variable']).sum().reset_index()\n",
    "import_fig = px.bar(export_agg_df.sort_values(by = ['value'], ascending=False), \n",
    "                         x = 'Country', y = 'value',color = 'variable', title = \"Total Consumption and Production by Country\")\n",
    "import_fig.show()"
   ]
  }
 ],
 "metadata": {
  "kernelspec": {
   "display_name": "Python 3",
   "language": "python",
   "name": "python3"
  },
  "language_info": {
   "codemirror_mode": {
    "name": "ipython",
    "version": 3
   },
   "file_extension": ".py",
   "mimetype": "text/x-python",
   "name": "python",
   "nbconvert_exporter": "python",
   "pygments_lexer": "ipython3",
   "version": "3.12.0"
  }
 },
 "nbformat": 4,
 "nbformat_minor": 2
}
